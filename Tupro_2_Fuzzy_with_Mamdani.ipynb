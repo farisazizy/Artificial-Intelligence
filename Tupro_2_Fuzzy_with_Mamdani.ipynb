{
  "nbformat": 4,
  "nbformat_minor": 0,
  "metadata": {
    "colab": {
      "name": "Tupro 2: Fuzzy with Mamdani.ipynb",
      "provenance": [],
      "collapsed_sections": [],
      "authorship_tag": "ABX9TyNOKfokITD1fvsiDyr4Ex51",
      "include_colab_link": true
    },
    "kernelspec": {
      "name": "python3",
      "display_name": "Python 3"
    },
    "language_info": {
      "name": "python"
    }
  },
  "cells": [
    {
      "cell_type": "markdown",
      "metadata": {
        "id": "view-in-github",
        "colab_type": "text"
      },
      "source": [
        "<a href=\"https://colab.research.google.com/github/farisazizy/Artificial-Intelligence/blob/main/Tupro_2_Fuzzy_with_Mamdani.ipynb\" target=\"_parent\"><img src=\"https://colab.research.google.com/assets/colab-badge.svg\" alt=\"Open In Colab\"/></a>"
      ]
    },
    {
      "cell_type": "code",
      "metadata": {
        "id": "VMox-MNl_NgH"
      },
      "source": [
        "def trapesium(x, a, b, c, d):\n",
        "  if x <= a and x >= d:\n",
        "    return 0\n",
        "  if a < x and x < b:\n",
        "    return (x-a)/(b-a)\n",
        "  if b <= x and x <= d:\n",
        "    return 1\n",
        "  if c < x and x <= d:\n",
        "    return -(x-d)/(d-c)"
      ],
      "execution_count": null,
      "outputs": []
    },
    {
      "cell_type": "code",
      "metadata": {
        "id": "OsBy4l_v_GIq"
      },
      "source": [
        "def segitiga(x, a, b, c):\n",
        "  if x <= a and x >= c:\n",
        "    return 0\n",
        "  if a < x and x <= b:\n",
        "    return (x-a)/(b-a)\n",
        "  if b < x and x <= c:\n",
        "    return -(x-c)/(c-b)"
      ],
      "execution_count": null,
      "outputs": []
    },
    {
      "cell_type": "code",
      "metadata": {
        "id": "2_RE9YyIW8t0"
      },
      "source": [
        "pelayanan_buruk = lambda x: trapesium(x, 0, 0, 30, 40)\n",
        "pelayanan_sedang = lambda x: trapesium(x, 30, 40, 50, 60)\n",
        "pelayanan_baik = lambda x: trapesium(x, 50, 60, 70, 90)\n",
        "pelayanan_sangatbaik = lambda x: trapesium(x, 70, 90, 100, 100)"
      ],
      "execution_count": null,
      "outputs": []
    },
    {
      "cell_type": "code",
      "metadata": {
        "id": "6QVII5_AV5U_"
      },
      "source": [
        "makanan_buruk = lambda x: trapesium(x, 0, 0, 3, 5)\n",
        "makanan_sedang = lambda x: segitiga(x, 3, 5, 7)\n",
        "makanan_baik = lambda x: trapesium(x, 5, 7, 10, 10)"
      ],
      "execution_count": null,
      "outputs": []
    },
    {
      "cell_type": "code",
      "metadata": {
        "id": "JW8pPFxTYFfO"
      },
      "source": [
        "kelayakan_tinggi = lambda x: trapesium(x, 0, 0, 50, 60)\n",
        "kelayakan_rendah = lambda x: trapesium(x, 50, 60, 100, 100)"
      ],
      "execution_count": null,
      "outputs": []
    },
    {
      "cell_type": "code",
      "metadata": {
        "id": "_OC_J_KvYVuF"
      },
      "source": [
        "x = 70\n",
        "\n",
        "pburuk = pelayanan_buruk(x)\n",
        "psedang = pelayanan_sedang(x)\n",
        "pbaik = pelayanan_baik(x)\n",
        "psangatbaik = pelayanan_sangatbaik(x)"
      ],
      "execution_count": null,
      "outputs": []
    },
    {
      "cell_type": "code",
      "metadata": {
        "id": "5wMju1oHZTeq"
      },
      "source": [
        "y = 6\n",
        "\n",
        "mburuk = makanan_buruk(y)\n",
        "msedang = makanan_sedang(y)\n",
        "mbaik = makanan_baik(y)"
      ],
      "execution_count": null,
      "outputs": []
    },
    {
      "cell_type": "code",
      "metadata": {
        "id": "h4SC4Z7kZraZ"
      },
      "source": [
        "# RULES\n",
        "rendah = 0\n",
        "tinggi = 0\n",
        "\n",
        "#1\n",
        "if pburuk != 0 and mburuk != 0:\n",
        "  temp = min(pburuk, mburuk)\n",
        "  rendah = max(rendah, temp)\n",
        "#2\n",
        "if pburuk != 0 and msedang != 0:\n",
        "  temp = min(pburuk, msedang)\n",
        "  rendah = max(rendah, temp)\n",
        "#3\n",
        "if pburuk != 0 and mbaik != 0:\n",
        "  temp = min(pburuk, mbaik)\n",
        "  rendah = max(rendah, temp)\n",
        "#4\n",
        "if psedang != 0 and mburuk != 0:\n",
        "  temp = min(psedang, mburuk)\n",
        "  rendah = max(rendah, temp)\n",
        "#5\n",
        "if psedang != 0 and msedang != 0:\n",
        "  temp = min(psedang, msedang)\n",
        "  rendah = max(rendah, temp)\n",
        "#6\n",
        "if psedang != 0 and mbaik != 0:\n",
        "  temp = min(psedang, mbaik)\n",
        "  tinggi = max(tinggi, temp)\n",
        "#7\n",
        "if pbaik != 0 and mburuk != 0:\n",
        "  temp = min(pbaik, mburuk)\n",
        "  rendah = max(rendah, temp)\n",
        "#8\n",
        "if pbaik != 0 and msedang != 0:\n",
        "  temp = min(pbaik, msedang)\n",
        "  tinggi = max(tinggi, temp)\n",
        "#9\n",
        "if pbaik != 0 and mbaik != 0:\n",
        "  temp = min(pbaik, mbaik)\n",
        "  tinggi = max(tinggi, temp)\n",
        "#10\n",
        "if psangatbaik != 0 and mburuk != 0:\n",
        "  temp = min(psangatbaik, mburuk)\n",
        "  tinggi = max(tinggi, temp)\n",
        "#11\n",
        "if psangatbaik != 0 and msedang != 0:\n",
        "  temp = min(psangatbaik, mburuk)\n",
        "  tinggi = max(tinggi, temp)\n",
        "#12\n",
        "if psangatbaik != 0 and mbaik != 0:\n",
        "  temp = min(psangatbaik, mbaik)\n",
        "  tinggi = max(tinggi, temp)\n",
        "\n"
      ],
      "execution_count": null,
      "outputs": []
    }
  ]
}