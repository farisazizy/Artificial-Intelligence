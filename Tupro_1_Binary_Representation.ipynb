{
  "nbformat": 4,
  "nbformat_minor": 0,
  "metadata": {
    "colab": {
      "name": "Tupro 1: Binary Representation.ipynb",
      "provenance": [],
      "collapsed_sections": [],
      "include_colab_link": true
    },
    "kernelspec": {
      "name": "python3",
      "display_name": "Python 3"
    }
  },
  "cells": [
    {
      "cell_type": "markdown",
      "metadata": {
        "id": "view-in-github",
        "colab_type": "text"
      },
      "source": [
        "<a href=\"https://colab.research.google.com/github/farisazizy/Artificial-Intelligence/blob/main/Tupro_1_Binary_Representation.ipynb\" target=\"_parent\"><img src=\"https://colab.research.google.com/assets/colab-badge.svg\" alt=\"Open In Colab\"/></a>"
      ]
    },
    {
      "cell_type": "code",
      "metadata": {
        "id": "FT1-xtW2_X1e"
      },
      "source": [
        "import math\n",
        "import random"
      ],
      "execution_count": null,
      "outputs": []
    },
    {
      "cell_type": "code",
      "metadata": {
        "id": "GfJk2k9bASS2"
      },
      "source": [
        "def hitungFitness(x, y):\n",
        "  return math.cos(x ** 2) * math.sin(y ** 2) + (x + y)"
      ],
      "execution_count": null,
      "outputs": []
    },
    {
      "cell_type": "code",
      "metadata": {
        "id": "y5yUWDyRfXXG"
      },
      "source": [
        "def genpop(npop):\n",
        "  pop = [(random.choices([0, 1], k=10)) for j in range(npop)]\n",
        "  return pop"
      ],
      "execution_count": null,
      "outputs": []
    },
    {
      "cell_type": "code",
      "metadata": {
        "id": "EtF1EBQvr4gO"
      },
      "source": [
        "def randomparent(npop):\n",
        "    return random.randint(0, npop)"
      ],
      "execution_count": null,
      "outputs": []
    },
    {
      "cell_type": "code",
      "metadata": {
        "id": "9SMexytbsAmv"
      },
      "source": [
        "def crossover(a1, a2, pCross):\n",
        "    rand = random.uniform(0.0, 1.0)\n",
        "    titik = int(round(random.uniform(0, 9)))\n",
        "    ank1 = a1\n",
        "    ank2 = a2\n",
        "    if rand <= pCross:\n",
        "      ank1 = a1[:titik] + a2[titik:]\n",
        "      ank2 = a2[:titik] + a1[titik:]\n",
        "    return ank1, ank2"
      ],
      "execution_count": null,
      "outputs": []
    },
    {
      "cell_type": "code",
      "metadata": {
        "colab": {
          "base_uri": "https://localhost:8080/"
        },
        "id": "vVqYSz1FUxCA",
        "outputId": "ded502b6-8da9-4a51-ee6a-6ec23d121079"
      },
      "source": [
        "#Test Crossover\n",
        "'''\n",
        "a1 = [1, 1, 1, 1, 1, 1, 1, 1, 1, 1]\n",
        "a2 = [0, 0, 0, 0, 0, 0, 0, 0, 0, 0]\n",
        "a, b = crossover(a1, a2, 1)\n",
        "a"
      ],
      "execution_count": null,
      "outputs": [
        {
          "output_type": "execute_result",
          "data": {
            "text/plain": [
              "[1, 1, 1, 1, 1, 1, 1, 1, 0, 0]"
            ]
          },
          "metadata": {
            "tags": []
          },
          "execution_count": 80
        }
      ]
    },
    {
      "cell_type": "code",
      "metadata": {
        "id": "_4lBEqlcsRLA"
      },
      "source": [
        "def mutation(a, pmutasi):\n",
        "    rand = random.uniform(0.0, 1.0)\n",
        "\n",
        "    if rand > (1 - pmutasi):\n",
        "        posisi_mutasi = random.randint(0, len(a) - 1)\n",
        "        if a[posisi_mutasi] == 1:\n",
        "            a[posisi_mutasi] = 0\n",
        "        else:\n",
        "            a[posisi_mutasi] = 1"
      ],
      "execution_count": null,
      "outputs": []
    },
    {
      "cell_type": "code",
      "metadata": {
        "colab": {
          "base_uri": "https://localhost:8080/"
        },
        "id": "D_KwTNah57TY",
        "outputId": "3df4bcbc-656a-44b3-9616-0c8202afaf2d"
      },
      "source": [
        "#Test Mutasi\n",
        "'''\n",
        "a1 = [1, 1, 1, 1, 1, 1, 1, 1, 1, 1]\n",
        "a2 = [0, 0, 0, 0, 0, 0, 0, 0, 0, 0]\n",
        "mutation(a1, 100)\n",
        "a1"
      ],
      "execution_count": null,
      "outputs": [
        {
          "output_type": "execute_result",
          "data": {
            "text/plain": [
              "[1, 0, 1, 1, 1, 1, 1, 1, 1, 1]"
            ]
          },
          "metadata": {
            "tags": []
          },
          "execution_count": 89
        }
      ]
    },
    {
      "cell_type": "code",
      "metadata": {
        "id": "7O2R3OXfSUIs"
      },
      "source": [
        "def decoding(ra, rb, g):\n",
        "    T = [2**-i for i in range(1, len(g)+1)]\n",
        "    x = rb + ((ra - rb) / sum(T) * sum([g[i] * T[i] for i in range(len(g))]))\n",
        "    return x"
      ],
      "execution_count": null,
      "outputs": []
    },
    {
      "cell_type": "code",
      "metadata": {
        "id": "RSUZozyrQZSh",
        "colab": {
          "base_uri": "https://localhost:8080/"
        },
        "outputId": "5f854dc8-0ee9-412d-e4ff-e3431d542ec6"
      },
      "source": [
        "#TestDecode\n",
        "'''\n",
        "ra = 2\n",
        "rb = -1\n",
        "test = [[1, 1, 1, 1, 1, 1, 0, 0, 1, 0], [1, 1, 1, 1, 1, 1, 0, 0, 1, 0]]\n",
        "g = test[0][:5]\n",
        "\n",
        "T = [2**-i for i in range(0, len(g) - 1)]\n",
        "x = rb + ((ra - rb) / sum(T) * sum([g[i] * T[i] for i in range(len(g) - 1)]))\n",
        "x"
      ],
      "execution_count": null,
      "outputs": [
        {
          "output_type": "execute_result",
          "data": {
            "text/plain": [
              "2.0"
            ]
          },
          "metadata": {
            "tags": []
          },
          "execution_count": 92
        }
      ]
    },
    {
      "cell_type": "code",
      "metadata": {
        "id": "1x05zjDKErAB"
      },
      "source": [
        "def TournamentSec(pop):\n",
        "    tournament = []\n",
        "    fitnessT = []\n",
        "    max = 0\n",
        "    ambil = 0\n",
        "    for z in range(5):\n",
        "      tournament.append(random.choice(pop))\n",
        "      x = decoding(2.0, -1.0, tournament[z][:5])\n",
        "      y = decoding(1.0, -1.0, tournament[z][5:])\n",
        "      fitnessT.append(hitungFitness(x, y))\n",
        "      if fitnessT[z] > max:\n",
        "        max = fitnessT[z]\n",
        "        ambil = z\n",
        "    \n",
        "    return ambil"
      ],
      "execution_count": null,
      "outputs": []
    },
    {
      "cell_type": "code",
      "metadata": {
        "id": "sZPkOs_tsYtP"
      },
      "source": [
        "def sort_fitness(fitness):\n",
        "    return sorted(range(len(fitness)), key=lambda k: fitness[k], reverse=True)"
      ],
      "execution_count": null,
      "outputs": []
    },
    {
      "cell_type": "code",
      "metadata": {
        "id": "_8EquSUH9r5i"
      },
      "source": [
        "def Steadystate(gab): \n",
        "    fitness = []\n",
        "    for f in range(len(gab)):\n",
        "      if gab[f] != None:\n",
        "        x = decoding(2, -1, gab[f][:5])\n",
        "        y = decoding(1, -1, gab[f][5:])\n",
        "        fitness.append(hitungFitness(x, y))\n",
        "    steadystate_list = sort_fitness(fitness)\n",
        "    pop = []\n",
        "    for j in range(nPop):\n",
        "        pop.append(gab[steadystate_list[j]])\n",
        "\n",
        "    return pop, fitness"
      ],
      "execution_count": null,
      "outputs": []
    },
    {
      "cell_type": "code",
      "metadata": {
        "colab": {
          "base_uri": "https://localhost:8080/"
        },
        "id": "o9CF2D2d3kT8",
        "outputId": "fb20f03b-10af-4f53-91ac-41ef7e126d27"
      },
      "source": [
        "nGen = 100\n",
        "pCross = 0.8\n",
        "pmutasi = 0.1\n",
        "nPop = 20\n",
        "pop = genpop(nPop)\n",
        "\n",
        "max = 0\n",
        "\n",
        "for i in range(nGen):\n",
        "\n",
        "    # fitness = []\n",
        "    anak = []\n",
        "\n",
        "    for j in range(nPop // 2):\n",
        "\n",
        "        parent1 = TournamentSec(pop)\n",
        "        parent2 = TournamentSec(pop)\n",
        "\n",
        "        anak1 = pop[parent1]\n",
        "        anak2 = pop[parent2]\n",
        "\n",
        "        crossover(anak1, anak2, pCross)\n",
        "\n",
        "        anak1 = mutation(anak1, pmutasi)\n",
        "        anak2 = mutation(anak2, pmutasi)\n",
        "\n",
        "        anak.append(anak1)\n",
        "        anak.append(anak2)\n",
        "\n",
        "    gab = pop + anak\n",
        "\n",
        "    pop, fitness = Steadystate(gab)\n",
        "    '''\n",
        "    print('Gen ke-', i+1)\n",
        "    print('Terbaik: ', pop[0])\n",
        "    print('Fitness: ', fitness[0])\n",
        "    print('x:', decoding(2, -1, pop[0][:5]))\n",
        "    print('y:', decoding(1, -1, pop[0][5:]))\n",
        "    print('------')\n",
        "    '''\n",
        "    if fitness[0] >= max:\n",
        "      max = fitness[0]\n",
        "      terbaik = i\n",
        "      krom_terbaik = pop[0]\n",
        "\n",
        "result = krom_terbaik\n",
        "print(\"Individu Terbaik: Generasi-\", terbaik + 1, '\\n', result, '\\nx:', decoding(2, -1, krom_terbaik[:5]), '\\ny:', decoding(1, -1, krom_terbaik[5:]))\n",
        "fitness = max\n",
        "print('Fitness: ', fitness)"
      ],
      "execution_count": null,
      "outputs": [
        {
          "output_type": "stream",
          "text": [
            "Individu Terbaik: Generasi- 100 \n",
            " [1, 0, 1, 0, 1, 1, 1, 1, 1, 1] \n",
            "x: 1.032258064516129 \n",
            "y: 1.0\n",
            "Fitness:  2.4395444367361776\n"
          ],
          "name": "stdout"
        }
      ]
    },
    {
      "cell_type": "code",
      "metadata": {
        "id": "C1-s-0CpMp9P",
        "colab": {
          "base_uri": "https://localhost:8080/"
        },
        "outputId": "5928b156-a8b5-4286-da7c-b5a27f8ff71a"
      },
      "source": [
        "print('Kromosom Terbaik')\n",
        "result"
      ],
      "execution_count": null,
      "outputs": [
        {
          "output_type": "stream",
          "text": [
            "Kromosom Terbaik\n"
          ],
          "name": "stdout"
        },
        {
          "output_type": "execute_result",
          "data": {
            "text/plain": [
              "[1, 1, 1, 0, 0, 1, 1, 1, 1, 1]"
            ]
          },
          "metadata": {
            "tags": []
          },
          "execution_count": 29
        }
      ]
    },
    {
      "cell_type": "code",
      "metadata": {
        "colab": {
          "base_uri": "https://localhost:8080/"
        },
        "id": "ZIsblu72KFYZ",
        "outputId": "94383dd8-803b-4dbf-951b-ae15d7bd9e4e"
      },
      "source": [
        "print('Fitness Terbaik')\n",
        "fitness"
      ],
      "execution_count": null,
      "outputs": [
        {
          "output_type": "stream",
          "text": [
            "Fitness Terbaik\n"
          ],
          "name": "stdout"
        },
        {
          "output_type": "execute_result",
          "data": {
            "text/plain": [
              "2.474780114330935"
            ]
          },
          "metadata": {
            "tags": []
          },
          "execution_count": 26
        }
      ]
    }
  ]
}