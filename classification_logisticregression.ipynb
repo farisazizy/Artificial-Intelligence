{
  "nbformat": 4,
  "nbformat_minor": 0,
  "metadata": {
    "colab": {
      "name": "classification-logisticregression.ipynb",
      "provenance": [],
      "authorship_tag": "ABX9TyOrNj/2LOCOiVx88Df3msxd",
      "include_colab_link": true
    },
    "kernelspec": {
      "name": "python3",
      "display_name": "Python 3"
    },
    "language_info": {
      "name": "python"
    }
  },
  "cells": [
    {
      "cell_type": "markdown",
      "metadata": {
        "id": "view-in-github",
        "colab_type": "text"
      },
      "source": [
        "<a href=\"https://colab.research.google.com/github/farisazizy/Artificial-Intelligence/blob/machine-learning/classification_logisticregression.ipynb\" target=\"_parent\"><img src=\"https://colab.research.google.com/assets/colab-badge.svg\" alt=\"Open In Colab\"/></a>"
      ]
    },
    {
      "cell_type": "code",
      "metadata": {
        "id": "8fHw9P5thB0M"
      },
      "source": [
        "#Import Library\n",
        "%tensorflow_version 2.x\n",
        "\n",
        "# tensor flow module\n",
        "import tensorflow as tf\n",
        "\n",
        "# matplotlib\n",
        "from matplotlib import colors\n",
        "from matplotlib import pyplot as plt\n",
        "\n",
        "import pandas as pd\n",
        "import numpy as np"
      ],
      "execution_count": 2,
      "outputs": []
    },
    {
      "cell_type": "markdown",
      "metadata": {
        "id": "sH6QJPSdo03I"
      },
      "source": [
        "## Data Cleaning"
      ]
    },
    {
      "cell_type": "code",
      "metadata": {
        "colab": {
          "base_uri": "https://localhost:8080/"
        },
        "id": "KCqtUVsQictc",
        "outputId": "26b260a2-e39a-4e40-b2e5-75fdee80441e"
      },
      "source": [
        "train = pd.read_csv(\"kendaraan_train.csv\")\n",
        "test = pd.read_csv(\"kendaraan_test.csv\")\n",
        "\n",
        "# Melakukan drop pada baris yang memiliki nilai null\n",
        "train = train.dropna()\n",
        "train.drop([\"id\"], axis=1,  inplace=True)\n",
        "test = test.dropna()\n",
        "train.reset_index(drop=True, inplace=True)\n",
        "\n",
        "print(train.head())\n",
        "print(test.head())"
      ],
      "execution_count": 3,
      "outputs": [
        {
          "output_type": "stream",
          "name": "stdout",
          "text": [
            "  Jenis_Kelamin  Umur  SIM  ...  Kanal_Penjualan  Lama_Berlangganan Tertarik\n",
            "0        Wanita  30.0  1.0  ...            152.0               97.0      0.0\n",
            "1          Pria  48.0  1.0  ...             29.0              158.0      0.0\n",
            "2        Wanita  58.0  1.0  ...            124.0               63.0      0.0\n",
            "3          Pria  21.0  1.0  ...            152.0              171.0      0.0\n",
            "4        Wanita  20.0  1.0  ...            160.0               31.0      0.0\n",
            "\n",
            "[5 rows x 11 columns]\n",
            "  Jenis_Kelamin  Umur  SIM  ...  Kanal_Penjualan  Lama_Berlangganan Tertarik\n",
            "0        Wanita    49    1  ...               26                145        0\n",
            "1          Pria    22    1  ...              152                241        0\n",
            "2          Pria    24    1  ...              152                 62        0\n",
            "3          Pria    46    1  ...              124                 34        0\n",
            "4          Pria    35    1  ...              152                229        0\n",
            "\n",
            "[5 rows x 11 columns]\n"
          ]
        },
        {
          "output_type": "stream",
          "name": "stderr",
          "text": [
            "/usr/local/lib/python3.7/dist-packages/pandas/core/frame.py:4174: SettingWithCopyWarning: \n",
            "A value is trying to be set on a copy of a slice from a DataFrame\n",
            "\n",
            "See the caveats in the documentation: https://pandas.pydata.org/pandas-docs/stable/user_guide/indexing.html#returning-a-view-versus-a-copy\n",
            "  errors=errors,\n"
          ]
        }
      ]
    },
    {
      "cell_type": "code",
      "source": [
        "CATEGORICAL_COLUMNS = ['Jenis_Kelamin', 'Umur_Kendaraan', 'Kendaraan_Rusak']\n",
        "\n",
        "feature_columns = []\n",
        "for feature_name in CATEGORICAL_COLUMNS:\n",
        "  vocabulary = train[feature_name].unique()  # gets a list of all unique values from given feature column\n",
        "  feature_columns.append(tf.feature_column.categorical_column_with_vocabulary_list(feature_name, vocabulary))\n",
        "\n",
        "print(feature_columns)"
      ],
      "metadata": {
        "colab": {
          "base_uri": "https://localhost:8080/"
        },
        "id": "TQEWxE-aZlsn",
        "outputId": "abbe2f80-48e7-4b3d-83fb-aff4ccbd1a78"
      },
      "execution_count": 4,
      "outputs": [
        {
          "output_type": "stream",
          "name": "stdout",
          "text": [
            "[VocabularyListCategoricalColumn(key='Jenis_Kelamin', vocabulary_list=('Wanita', 'Pria'), dtype=tf.string, default_value=-1, num_oov_buckets=0), VocabularyListCategoricalColumn(key='Umur_Kendaraan', vocabulary_list=('< 1 Tahun', '> 2 Tahun', '1-2 Tahun'), dtype=tf.string, default_value=-1, num_oov_buckets=0), VocabularyListCategoricalColumn(key='Kendaraan_Rusak', vocabulary_list=('Tidak', 'Pernah'), dtype=tf.string, default_value=-1, num_oov_buckets=0)]\n"
          ]
        }
      ]
    },
    {
      "cell_type": "code",
      "metadata": {
        "id": "po_fpjpTjnxt"
      },
      "source": [
        "object_column = train.select_dtypes(['object']).columns\n",
        "category_column = train.select_dtypes(['category']).columns\n",
        "\n",
        "train[object_column]=train[object_column].apply(lambda x: x.astype('category'))\n",
        "\n",
        "train[object_column] = train[object_column].apply(lambda x: x.cat.codes)\n",
        "train[category_column] = train[category_column].apply(lambda x: x.cat.codes)"
      ],
      "execution_count": 5,
      "outputs": []
    },
    {
      "cell_type": "code",
      "metadata": {
        "id": "MxDRp24HkbtA"
      },
      "source": [
        "object_column = test.select_dtypes(['object']).columns\n",
        "category_column = test.select_dtypes(['category']).columns\n",
        "\n",
        "test[object_column] = test[object_column].apply(lambda x: x.astype('category'))\n",
        "\n",
        "test[object_column] = test[object_column].apply(lambda x: x.cat.codes)\n",
        "test[category_column] = test[category_column].apply(lambda x: x.cat.codes)"
      ],
      "execution_count": 6,
      "outputs": []
    },
    {
      "cell_type": "code",
      "metadata": {
        "colab": {
          "base_uri": "https://localhost:8080/",
          "height": 206
        },
        "id": "EkZDO_-okX6L",
        "outputId": "8db6b69a-2168-47e0-f84e-f3d241472ff6"
      },
      "source": [
        "train.head()"
      ],
      "execution_count": 7,
      "outputs": [
        {
          "output_type": "execute_result",
          "data": {
            "text/html": [
              "<div>\n",
              "<style scoped>\n",
              "    .dataframe tbody tr th:only-of-type {\n",
              "        vertical-align: middle;\n",
              "    }\n",
              "\n",
              "    .dataframe tbody tr th {\n",
              "        vertical-align: top;\n",
              "    }\n",
              "\n",
              "    .dataframe thead th {\n",
              "        text-align: right;\n",
              "    }\n",
              "</style>\n",
              "<table border=\"1\" class=\"dataframe\">\n",
              "  <thead>\n",
              "    <tr style=\"text-align: right;\">\n",
              "      <th></th>\n",
              "      <th>Jenis_Kelamin</th>\n",
              "      <th>Umur</th>\n",
              "      <th>SIM</th>\n",
              "      <th>Kode_Daerah</th>\n",
              "      <th>Sudah_Asuransi</th>\n",
              "      <th>Umur_Kendaraan</th>\n",
              "      <th>Kendaraan_Rusak</th>\n",
              "      <th>Premi</th>\n",
              "      <th>Kanal_Penjualan</th>\n",
              "      <th>Lama_Berlangganan</th>\n",
              "      <th>Tertarik</th>\n",
              "    </tr>\n",
              "  </thead>\n",
              "  <tbody>\n",
              "    <tr>\n",
              "      <th>0</th>\n",
              "      <td>1</td>\n",
              "      <td>30.0</td>\n",
              "      <td>1.0</td>\n",
              "      <td>33.0</td>\n",
              "      <td>1.0</td>\n",
              "      <td>1</td>\n",
              "      <td>1</td>\n",
              "      <td>28029.0</td>\n",
              "      <td>152.0</td>\n",
              "      <td>97.0</td>\n",
              "      <td>0.0</td>\n",
              "    </tr>\n",
              "    <tr>\n",
              "      <th>1</th>\n",
              "      <td>0</td>\n",
              "      <td>48.0</td>\n",
              "      <td>1.0</td>\n",
              "      <td>39.0</td>\n",
              "      <td>0.0</td>\n",
              "      <td>2</td>\n",
              "      <td>0</td>\n",
              "      <td>25800.0</td>\n",
              "      <td>29.0</td>\n",
              "      <td>158.0</td>\n",
              "      <td>0.0</td>\n",
              "    </tr>\n",
              "    <tr>\n",
              "      <th>2</th>\n",
              "      <td>1</td>\n",
              "      <td>58.0</td>\n",
              "      <td>1.0</td>\n",
              "      <td>48.0</td>\n",
              "      <td>0.0</td>\n",
              "      <td>0</td>\n",
              "      <td>1</td>\n",
              "      <td>2630.0</td>\n",
              "      <td>124.0</td>\n",
              "      <td>63.0</td>\n",
              "      <td>0.0</td>\n",
              "    </tr>\n",
              "    <tr>\n",
              "      <th>3</th>\n",
              "      <td>0</td>\n",
              "      <td>21.0</td>\n",
              "      <td>1.0</td>\n",
              "      <td>35.0</td>\n",
              "      <td>1.0</td>\n",
              "      <td>1</td>\n",
              "      <td>1</td>\n",
              "      <td>22735.0</td>\n",
              "      <td>152.0</td>\n",
              "      <td>171.0</td>\n",
              "      <td>0.0</td>\n",
              "    </tr>\n",
              "    <tr>\n",
              "      <th>4</th>\n",
              "      <td>1</td>\n",
              "      <td>20.0</td>\n",
              "      <td>1.0</td>\n",
              "      <td>8.0</td>\n",
              "      <td>1.0</td>\n",
              "      <td>1</td>\n",
              "      <td>1</td>\n",
              "      <td>30786.0</td>\n",
              "      <td>160.0</td>\n",
              "      <td>31.0</td>\n",
              "      <td>0.0</td>\n",
              "    </tr>\n",
              "  </tbody>\n",
              "</table>\n",
              "</div>"
            ],
            "text/plain": [
              "   Jenis_Kelamin  Umur  SIM  ...  Kanal_Penjualan  Lama_Berlangganan  Tertarik\n",
              "0              1  30.0  1.0  ...            152.0               97.0       0.0\n",
              "1              0  48.0  1.0  ...             29.0              158.0       0.0\n",
              "2              1  58.0  1.0  ...            124.0               63.0       0.0\n",
              "3              0  21.0  1.0  ...            152.0              171.0       0.0\n",
              "4              1  20.0  1.0  ...            160.0               31.0       0.0\n",
              "\n",
              "[5 rows x 11 columns]"
            ]
          },
          "metadata": {},
          "execution_count": 7
        }
      ]
    },
    {
      "cell_type": "code",
      "metadata": {
        "colab": {
          "base_uri": "https://localhost:8080/",
          "height": 206
        },
        "id": "WfylK6wlY1s8",
        "outputId": "005a566a-1d5f-4f0f-9bde-801c5a4df644"
      },
      "source": [
        "train_y = train.pop('Tertarik').astype(int)\n",
        "test_y = test.pop('Tertarik').astype(int)\n",
        "train.head() # Kolom tertarik dihilangkan untuk fitur"
      ],
      "execution_count": 8,
      "outputs": [
        {
          "output_type": "execute_result",
          "data": {
            "text/html": [
              "<div>\n",
              "<style scoped>\n",
              "    .dataframe tbody tr th:only-of-type {\n",
              "        vertical-align: middle;\n",
              "    }\n",
              "\n",
              "    .dataframe tbody tr th {\n",
              "        vertical-align: top;\n",
              "    }\n",
              "\n",
              "    .dataframe thead th {\n",
              "        text-align: right;\n",
              "    }\n",
              "</style>\n",
              "<table border=\"1\" class=\"dataframe\">\n",
              "  <thead>\n",
              "    <tr style=\"text-align: right;\">\n",
              "      <th></th>\n",
              "      <th>Jenis_Kelamin</th>\n",
              "      <th>Umur</th>\n",
              "      <th>SIM</th>\n",
              "      <th>Kode_Daerah</th>\n",
              "      <th>Sudah_Asuransi</th>\n",
              "      <th>Umur_Kendaraan</th>\n",
              "      <th>Kendaraan_Rusak</th>\n",
              "      <th>Premi</th>\n",
              "      <th>Kanal_Penjualan</th>\n",
              "      <th>Lama_Berlangganan</th>\n",
              "    </tr>\n",
              "  </thead>\n",
              "  <tbody>\n",
              "    <tr>\n",
              "      <th>0</th>\n",
              "      <td>1</td>\n",
              "      <td>30.0</td>\n",
              "      <td>1.0</td>\n",
              "      <td>33.0</td>\n",
              "      <td>1.0</td>\n",
              "      <td>1</td>\n",
              "      <td>1</td>\n",
              "      <td>28029.0</td>\n",
              "      <td>152.0</td>\n",
              "      <td>97.0</td>\n",
              "    </tr>\n",
              "    <tr>\n",
              "      <th>1</th>\n",
              "      <td>0</td>\n",
              "      <td>48.0</td>\n",
              "      <td>1.0</td>\n",
              "      <td>39.0</td>\n",
              "      <td>0.0</td>\n",
              "      <td>2</td>\n",
              "      <td>0</td>\n",
              "      <td>25800.0</td>\n",
              "      <td>29.0</td>\n",
              "      <td>158.0</td>\n",
              "    </tr>\n",
              "    <tr>\n",
              "      <th>2</th>\n",
              "      <td>1</td>\n",
              "      <td>58.0</td>\n",
              "      <td>1.0</td>\n",
              "      <td>48.0</td>\n",
              "      <td>0.0</td>\n",
              "      <td>0</td>\n",
              "      <td>1</td>\n",
              "      <td>2630.0</td>\n",
              "      <td>124.0</td>\n",
              "      <td>63.0</td>\n",
              "    </tr>\n",
              "    <tr>\n",
              "      <th>3</th>\n",
              "      <td>0</td>\n",
              "      <td>21.0</td>\n",
              "      <td>1.0</td>\n",
              "      <td>35.0</td>\n",
              "      <td>1.0</td>\n",
              "      <td>1</td>\n",
              "      <td>1</td>\n",
              "      <td>22735.0</td>\n",
              "      <td>152.0</td>\n",
              "      <td>171.0</td>\n",
              "    </tr>\n",
              "    <tr>\n",
              "      <th>4</th>\n",
              "      <td>1</td>\n",
              "      <td>20.0</td>\n",
              "      <td>1.0</td>\n",
              "      <td>8.0</td>\n",
              "      <td>1.0</td>\n",
              "      <td>1</td>\n",
              "      <td>1</td>\n",
              "      <td>30786.0</td>\n",
              "      <td>160.0</td>\n",
              "      <td>31.0</td>\n",
              "    </tr>\n",
              "  </tbody>\n",
              "</table>\n",
              "</div>"
            ],
            "text/plain": [
              "   Jenis_Kelamin  Umur  SIM  ...    Premi  Kanal_Penjualan  Lama_Berlangganan\n",
              "0              1  30.0  1.0  ...  28029.0            152.0               97.0\n",
              "1              0  48.0  1.0  ...  25800.0             29.0              158.0\n",
              "2              1  58.0  1.0  ...   2630.0            124.0               63.0\n",
              "3              0  21.0  1.0  ...  22735.0            152.0              171.0\n",
              "4              1  20.0  1.0  ...  30786.0            160.0               31.0\n",
              "\n",
              "[5 rows x 10 columns]"
            ]
          },
          "metadata": {},
          "execution_count": 8
        }
      ]
    },
    {
      "cell_type": "markdown",
      "source": [
        "# Building the Model\n",
        "Setelah kita melakukan cleaning data, kita akan menyiapkan model klasifikasi.\n",
        "\n",
        "Model yang digunakan adalah Logistic Regression. Ada tiga metode yang akan digunakan yaitu Scratch, Sklearn, dan Keras.\n",
        "\n",
        "Akan dibandingkan hasil dari tingkat akurasi ketiga metode tersebut."
      ],
      "metadata": {
        "id": "NJX_Hmb9eM0J"
      }
    },
    {
      "cell_type": "markdown",
      "source": [
        "## Logistic Regression from scratch"
      ],
      "metadata": {
        "id": "byzew301pdkk"
      }
    },
    {
      "cell_type": "code",
      "source": [
        "# Logistic Regression\n",
        "class LogitRegression() :\n",
        "    def __init__( self, learning_rate, iterations ) :        \n",
        "        self.learning_rate = learning_rate        \n",
        "        self.iterations = iterations\n",
        "          \n",
        "    # Function for model training    \n",
        "    def fit( self, X, Y ) :        \n",
        "        # no_of_training_examples, no_of_features        \n",
        "        self.m, self.n = X.shape        \n",
        "        # weight initialization        \n",
        "        self.W = np.zeros( self.n )        \n",
        "        self.b = 0        \n",
        "        self.X = X        \n",
        "        self.Y = Y\n",
        "          \n",
        "        # gradient descent learning\n",
        "                  \n",
        "        for i in range( self.iterations ) :            \n",
        "            self.update_weights()            \n",
        "        return self\n",
        "      \n",
        "    # Helper function to update weights in gradient descent\n",
        "      \n",
        "    def update_weights( self ) :           \n",
        "        A = 1 / ( 1 + np.exp( - ( self.X.dot( self.W ) + self.b ) ) )\n",
        "          \n",
        "        # calculate gradients        \n",
        "        tmp = ( A - self.Y.T )        \n",
        "        tmp = np.reshape( tmp, self.m )        \n",
        "        dW = np.dot( self.X.T, tmp ) / self.m         \n",
        "        db = np.sum( tmp ) / self.m \n",
        "          \n",
        "        # update weights    \n",
        "        self.W = self.W - self.learning_rate * dW    \n",
        "        self.b = self.b - self.learning_rate * db\n",
        "          \n",
        "        return self\n",
        "      \n",
        "    # Hypothetical function  h( x ) \n",
        "      \n",
        "    def predict( self, X ) :    \n",
        "        Z = 1 / ( 1 + np.exp( - ( X.dot( self.W ) + self.b ) ) )        \n",
        "        Y = np.where( Z > 0.5, 1, 0 )        \n",
        "        return Y\n",
        "  \n",
        "  \n",
        "# Driver code\n",
        "  \n",
        "def main() :\n",
        "      \n",
        "    # Model training    \n",
        "    model = LogitRegression( learning_rate = 0.01, iterations = 1000 )\n",
        "    model.fit(train, train_y)\n",
        "      \n",
        "    # Prediction on test set\n",
        "    pred_y = model.predict( test )    \n",
        "      \n",
        "    # measure performance    \n",
        "    correctly_classified = 0    \n",
        "      \n",
        "    # counter    \n",
        "    count = 0    \n",
        "    for count in range( np.size( pred_y ) ) :  \n",
        "        \n",
        "        if test_y[count] == pred_y[count] :            \n",
        "            correctly_classified = correctly_classified + 1\n",
        "              \n",
        "        count = count + 1\n",
        "          \n",
        "    print( \"Accuracy on test set      :  \", ( \n",
        "      correctly_classified / count ) * 100 )\n",
        "\n",
        "  \n",
        "if __name__ == \"__main__\" :     \n",
        "    main()"
      ],
      "metadata": {
        "colab": {
          "base_uri": "https://localhost:8080/"
        },
        "id": "zUrVKNm-qkrT",
        "outputId": "6e16a2d8-eb37-4211-f946-4ce5d97f4514"
      },
      "execution_count": 19,
      "outputs": [
        {
          "output_type": "stream",
          "name": "stdout",
          "text": [
            "Accuracy on test set      :   87.69705493398267\n"
          ]
        }
      ]
    },
    {
      "cell_type": "markdown",
      "source": [
        "## Logistic Regression with Sklearn"
      ],
      "metadata": {
        "id": "9x-5T0kQ5VR6"
      }
    },
    {
      "cell_type": "code",
      "source": [
        "import warnings\n",
        "warnings.filterwarnings( \"ignore\" )\n",
        "  \n",
        "from sklearn.linear_model import LogisticRegression"
      ],
      "metadata": {
        "id": "H_qT99dl50ZN"
      },
      "execution_count": 10,
      "outputs": []
    },
    {
      "cell_type": "code",
      "source": [
        "def main() :\n",
        "\n",
        "    model1 = LogisticRegression(max_iter=1000)    \n",
        "    model1.fit(train, train_y)\n",
        "        \n",
        "    pred1_y = model1.predict( test )\n",
        "        \n",
        "    correctly_classified1 = 0\n",
        "      \n",
        "    # counter    \n",
        "    count = 0    \n",
        "    for count in range( np.size( pred1_y ) ) :  \n",
        "        \n",
        "        if test_y[count] == pred1_y[count] :            \n",
        "            correctly_classified1 = correctly_classified1 + 1\n",
        "              \n",
        "        count = count + 1\n",
        "\n",
        "    print( \"Accuracy on test set by sklearn model   :  \", ( \n",
        "      correctly_classified1 / count ) * 100 )\n",
        "  \n",
        "if __name__ == \"__main__\" :     \n",
        "    main()"
      ],
      "metadata": {
        "colab": {
          "base_uri": "https://localhost:8080/"
        },
        "id": "H0YwQqhj5UlZ",
        "outputId": "ab75fd77-9f36-457a-aa3c-765e7e53c265"
      },
      "execution_count": 24,
      "outputs": [
        {
          "output_type": "stream",
          "name": "stdout",
          "text": [
            "Accuracy on test set by sklearn model   :   87.69705493398267\n"
          ]
        }
      ]
    },
    {
      "cell_type": "markdown",
      "source": [
        "## Logistic Regression with Sklearn (using SGD)"
      ],
      "metadata": {
        "id": "kfO67tKkZD99"
      }
    },
    {
      "cell_type": "code",
      "source": [
        "from sklearn.linear_model import SGDClassifier\n",
        "\n",
        "def main() :\n",
        "\n",
        "    model1 = SGDClassifier(eta0 = 0.01, max_iter=1000) #sgd learning path = 0,01 constant\n",
        "    model1.fit(train, train_y)\n",
        "        \n",
        "    pred1_y = model1.predict( test )\n",
        "        \n",
        "    correctly_classified1 = 0\n",
        "      \n",
        "    # counter    \n",
        "    count = 0    \n",
        "    for count in range( np.size( pred1_y ) ) :  \n",
        "        \n",
        "        if test_y[count] == pred1_y[count] :            \n",
        "            correctly_classified1 = correctly_classified1 + 1\n",
        "              \n",
        "        count = count + 1\n",
        "\n",
        "    print( \"Accuracy on test set by sklearn model   :  \", ( \n",
        "      correctly_classified1 / count ) * 100 )\n",
        "  \n",
        "if __name__ == \"__main__\" :     \n",
        "    main()"
      ],
      "metadata": {
        "colab": {
          "base_uri": "https://localhost:8080/"
        },
        "id": "HeJ6UL7iYEBO",
        "outputId": "ad4e357a-507d-4d49-ab15-8fe08cdc88b7"
      },
      "execution_count": 23,
      "outputs": [
        {
          "output_type": "stream",
          "name": "stdout",
          "text": [
            "Accuracy on test set by sklearn model   :   87.07571527529964\n"
          ]
        }
      ]
    },
    {
      "cell_type": "markdown",
      "source": [
        "## Logistic Regression with Keras"
      ],
      "metadata": {
        "id": "e7QzFX-AOHss"
      }
    },
    {
      "cell_type": "code",
      "source": [
        "# Import necessary modules\n",
        "from sklearn.model_selection import train_test_split\n",
        "from sklearn.metrics import mean_squared_error\n",
        "from math import sqrt\n",
        "\n",
        "# Keras specific\n",
        "import keras\n",
        "from keras.models import Sequential\n",
        "from keras.layers import Dense\n",
        "from tensorflow.keras.utils import to_categorical"
      ],
      "metadata": {
        "id": "xB5uLb5S4E3u"
      },
      "execution_count": 12,
      "outputs": []
    },
    {
      "cell_type": "code",
      "source": [
        "y_train = to_categorical(train_y)\n",
        "y_test = to_categorical(test_y)\n",
        "\n",
        "count_classes = y_test.shape[1]\n",
        "print(count_classes)"
      ],
      "metadata": {
        "colab": {
          "base_uri": "https://localhost:8080/"
        },
        "id": "o_An2e_R4BPi",
        "outputId": "2be2fd67-26fc-4201-bb3f-07ce15f5b280"
      },
      "execution_count": 13,
      "outputs": [
        {
          "output_type": "stream",
          "name": "stdout",
          "text": [
            "2\n"
          ]
        }
      ]
    },
    {
      "cell_type": "code",
      "source": [
        "model = Sequential()\n",
        "model.add(Dense(500, activation='relu', input_dim=10))\n",
        "model.add(Dense(100, activation='relu'))\n",
        "model.add(Dense(50, activation='relu'))\n",
        "model.add(Dense(2, activation='softmax'))\n",
        "\n",
        "# Compile the model\n",
        "model.compile(optimizer='adam', #sgd\n",
        "              loss='categorical_crossentropy', #loss measure\n",
        "              metrics=['accuracy']) #evaluation metrics"
      ],
      "metadata": {
        "id": "3gVeLnfZ38Rk"
      },
      "execution_count": 14,
      "outputs": []
    },
    {
      "cell_type": "code",
      "source": [
        "model.fit(train, y_train, epochs=20)"
      ],
      "metadata": {
        "colab": {
          "base_uri": "https://localhost:8080/"
        },
        "id": "EDVcKo664eKi",
        "outputId": "f0b49b0d-b97d-47b9-8e8e-138e8bd6a919"
      },
      "execution_count": 26,
      "outputs": [
        {
          "output_type": "stream",
          "name": "stdout",
          "text": [
            "Epoch 1/20\n",
            "4062/4062 [==============================] - 10s 3ms/step - loss: 0.3695 - accuracy: 0.8787\n",
            "Epoch 2/20\n",
            "4062/4062 [==============================] - 10s 3ms/step - loss: 0.3695 - accuracy: 0.8787\n",
            "Epoch 3/20\n",
            "4062/4062 [==============================] - 10s 3ms/step - loss: 0.3695 - accuracy: 0.8787\n",
            "Epoch 4/20\n",
            "4062/4062 [==============================] - 10s 2ms/step - loss: 0.3695 - accuracy: 0.8787\n",
            "Epoch 5/20\n",
            "4062/4062 [==============================] - 10s 3ms/step - loss: 0.3695 - accuracy: 0.8787\n",
            "Epoch 6/20\n",
            "4062/4062 [==============================] - 11s 3ms/step - loss: 0.3695 - accuracy: 0.8787\n",
            "Epoch 7/20\n",
            "4062/4062 [==============================] - 10s 3ms/step - loss: 0.3695 - accuracy: 0.8787\n",
            "Epoch 8/20\n",
            "4062/4062 [==============================] - 10s 3ms/step - loss: 0.3695 - accuracy: 0.8787\n",
            "Epoch 9/20\n",
            "4062/4062 [==============================] - 10s 3ms/step - loss: 0.3695 - accuracy: 0.8787\n",
            "Epoch 10/20\n",
            "4062/4062 [==============================] - 10s 3ms/step - loss: 0.3695 - accuracy: 0.8787\n",
            "Epoch 11/20\n",
            "4062/4062 [==============================] - 10s 3ms/step - loss: 0.3695 - accuracy: 0.8787\n",
            "Epoch 12/20\n",
            "4062/4062 [==============================] - 10s 2ms/step - loss: 0.3695 - accuracy: 0.8787\n",
            "Epoch 13/20\n",
            "4062/4062 [==============================] - 10s 2ms/step - loss: 0.3695 - accuracy: 0.8787\n",
            "Epoch 14/20\n",
            "4062/4062 [==============================] - 10s 2ms/step - loss: 0.3694 - accuracy: 0.8787\n",
            "Epoch 15/20\n",
            "4062/4062 [==============================] - 10s 2ms/step - loss: 0.3695 - accuracy: 0.8787\n",
            "Epoch 16/20\n",
            "4062/4062 [==============================] - 10s 2ms/step - loss: 0.3695 - accuracy: 0.8787\n",
            "Epoch 17/20\n",
            "4062/4062 [==============================] - 10s 2ms/step - loss: 0.3695 - accuracy: 0.8787\n",
            "Epoch 18/20\n",
            "4062/4062 [==============================] - 10s 2ms/step - loss: 0.3695 - accuracy: 0.8787\n",
            "Epoch 19/20\n",
            "4062/4062 [==============================] - 10s 2ms/step - loss: 0.3695 - accuracy: 0.8787\n",
            "Epoch 20/20\n",
            "4062/4062 [==============================] - 10s 3ms/step - loss: 0.3695 - accuracy: 0.8787\n"
          ]
        },
        {
          "output_type": "execute_result",
          "data": {
            "text/plain": [
              "<keras.callbacks.History at 0x7f6ada0f7bd0>"
            ]
          },
          "metadata": {},
          "execution_count": 26
        }
      ]
    },
    {
      "cell_type": "code",
      "source": [
        "pred_test= model.predict(test)\n",
        "scores2 = model.evaluate(test, y_test, verbose=0)\n",
        "print('Accuracy on test data: {}% \\n Error on test data: {}'.format(scores2[1] * 100, 1 - scores2[1]))    "
      ],
      "metadata": {
        "colab": {
          "base_uri": "https://localhost:8080/"
        },
        "id": "1YR9xlb85Gi4",
        "outputId": "52fc190d-4faa-4579-e4d5-eb5440c583df"
      },
      "execution_count": 16,
      "outputs": [
        {
          "output_type": "stream",
          "name": "stdout",
          "text": [
            "Accuracy on test data: 87.69705295562744% \n",
            " Error on test data: 0.12302947044372559\n"
          ]
        }
      ]
    }
  ]
}