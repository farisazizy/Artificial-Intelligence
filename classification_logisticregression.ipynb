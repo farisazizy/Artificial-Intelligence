{
  "nbformat": 4,
  "nbformat_minor": 0,
  "metadata": {
    "colab": {
      "name": "classification-logisticregression.ipynb",
      "provenance": [],
      "authorship_tag": "ABX9TyP0qquiOxQVmU7uOaGKR73M",
      "include_colab_link": true
    },
    "kernelspec": {
      "name": "python3",
      "display_name": "Python 3"
    },
    "language_info": {
      "name": "python"
    }
  },
  "cells": [
    {
      "cell_type": "markdown",
      "metadata": {
        "id": "view-in-github",
        "colab_type": "text"
      },
      "source": [
        "<a href=\"https://colab.research.google.com/github/farisazizy/Artificial-Intelligence/blob/machine-learning/classification_logisticregression.ipynb\" target=\"_parent\"><img src=\"https://colab.research.google.com/assets/colab-badge.svg\" alt=\"Open In Colab\"/></a>"
      ]
    },
    {
      "cell_type": "code",
      "metadata": {
        "id": "8fHw9P5thB0M"
      },
      "source": [
        "#Import Library\n",
        "%tensorflow_version 2.x\n",
        "\n",
        "# tensor flow module\n",
        "import tensorflow as tf\n",
        "\n",
        "import pandas as pd\n",
        "import numpy as np"
      ],
      "execution_count": 1,
      "outputs": []
    },
    {
      "cell_type": "markdown",
      "source": [
        "# Dataset\n",
        "SIM --> 0 : Tidak punya SIM 1 : Punya SIM\n",
        "\n",
        "Kode_Daerah --> Kode area tempat tinggal pelanggan\n",
        "\n",
        "Sudah_Asuransi --> 1 : Pelanggan sudah memiliki asuransi kendaraan, 0 : Pelanggan belum memiliki asuransi kendaraan\n",
        "\n",
        "Umur_Kendaraan --> Umur kendaraan\n",
        "\n",
        "Kendaraan_Rusak --> 1 : Kendaraan pernah rusak sebelumnya. 0 : Kendaraan belum pernah rusak.\n",
        "\n",
        "Premi --> Jumlah premi yang harus dibayarkan per tahun.\n",
        "\n",
        "Kanal_Penjualan --> Kode kanal untuk menghubungi pelanggan (email, telpon, dll)\n",
        "\n",
        "Lama_Berlangganan --> Sudah berapa lama pelanggan menjadi klien perusahaan\n",
        "\n",
        "Tertarik --> 1 : Pelanggan tertarik, 0 : Pelanggan tidak tertarik"
      ],
      "metadata": {
        "id": "7GDWk7tsYx6l"
      }
    },
    {
      "cell_type": "markdown",
      "metadata": {
        "id": "sH6QJPSdo03I"
      },
      "source": [
        "# Data Cleaning"
      ]
    },
    {
      "cell_type": "code",
      "metadata": {
        "colab": {
          "base_uri": "https://localhost:8080/"
        },
        "id": "KCqtUVsQictc",
        "outputId": "d69bdbc4-9e25-4046-b364-740f10124c44"
      },
      "source": [
        "train = pd.read_csv(\"kendaraan_train.csv\")\n",
        "test = pd.read_csv(\"kendaraan_test.csv\")\n",
        "\n",
        "# Melakukan drop pada baris yang memiliki nilai null\n",
        "train = train.dropna()\n",
        "train.drop([\"id\"], axis=1,  inplace=True)\n",
        "test = test.dropna()\n",
        "train.reset_index(drop=True, inplace=True)\n",
        "\n",
        "print(train.head())\n",
        "print(test.head())"
      ],
      "execution_count": 67,
      "outputs": [
        {
          "output_type": "stream",
          "name": "stdout",
          "text": [
            "  Jenis_Kelamin  Umur  SIM  ...  Kanal_Penjualan  Lama_Berlangganan Tertarik\n",
            "0        Wanita  30.0  1.0  ...            152.0               97.0      0.0\n",
            "1          Pria  48.0  1.0  ...             29.0              158.0      0.0\n",
            "2        Wanita  58.0  1.0  ...            124.0               63.0      0.0\n",
            "3          Pria  21.0  1.0  ...            152.0              171.0      0.0\n",
            "4        Wanita  20.0  1.0  ...            160.0               31.0      0.0\n",
            "\n",
            "[5 rows x 11 columns]\n",
            "  Jenis_Kelamin  Umur  SIM  ...  Kanal_Penjualan  Lama_Berlangganan Tertarik\n",
            "0        Wanita    49    1  ...               26                145        0\n",
            "1          Pria    22    1  ...              152                241        0\n",
            "2          Pria    24    1  ...              152                 62        0\n",
            "3          Pria    46    1  ...              124                 34        0\n",
            "4          Pria    35    1  ...              152                229        0\n",
            "\n",
            "[5 rows x 11 columns]\n"
          ]
        },
        {
          "output_type": "stream",
          "name": "stderr",
          "text": [
            "/usr/local/lib/python3.7/dist-packages/pandas/core/frame.py:4174: SettingWithCopyWarning: \n",
            "A value is trying to be set on a copy of a slice from a DataFrame\n",
            "\n",
            "See the caveats in the documentation: https://pandas.pydata.org/pandas-docs/stable/user_guide/indexing.html#returning-a-view-versus-a-copy\n",
            "  errors=errors,\n"
          ]
        }
      ]
    },
    {
      "cell_type": "code",
      "source": [
        "train.shape"
      ],
      "metadata": {
        "colab": {
          "base_uri": "https://localhost:8080/"
        },
        "id": "HutZL_CCXWwj",
        "outputId": "ce42e5a8-9f2a-435f-a575-ad589e0190eb"
      },
      "execution_count": 68,
      "outputs": [
        {
          "output_type": "execute_result",
          "data": {
            "text/plain": [
              "(24004, 11)"
            ]
          },
          "metadata": {},
          "execution_count": 68
        }
      ]
    },
    {
      "cell_type": "code",
      "source": [
        "train.dtypes"
      ],
      "metadata": {
        "colab": {
          "base_uri": "https://localhost:8080/"
        },
        "id": "VymID8yHXxH0",
        "outputId": "28c0ab8f-3a05-444f-a1f9-c778c7248d0c"
      },
      "execution_count": 69,
      "outputs": [
        {
          "output_type": "execute_result",
          "data": {
            "text/plain": [
              "Jenis_Kelamin         object\n",
              "Umur                 float64\n",
              "SIM                  float64\n",
              "Kode_Daerah          float64\n",
              "Sudah_Asuransi       float64\n",
              "Umur_Kendaraan        object\n",
              "Kendaraan_Rusak       object\n",
              "Premi                float64\n",
              "Kanal_Penjualan      float64\n",
              "Lama_Berlangganan    float64\n",
              "Tertarik             float64\n",
              "dtype: object"
            ]
          },
          "metadata": {},
          "execution_count": 69
        }
      ]
    },
    {
      "cell_type": "markdown",
      "source": [
        "Berdasarkan deskripsi dataset, kolom SIM, Sudah_Asuransi, Kode_Daerah, Umur_Kendaraan, Kendaraan_Rusak, dan Kanal_penjualan seharusnya bertipe data categorical. karena data-data tersebut merupakan data kualitatif\n",
        "\n"
      ],
      "metadata": {
        "id": "1z25ckEYZFeb"
      }
    },
    {
      "cell_type": "code",
      "metadata": {
        "id": "po_fpjpTjnxt"
      },
      "source": [
        "object_column = train.select_dtypes(['object']).columns\n",
        "category_column = train.select_dtypes(['category']).columns\n",
        "\n",
        "train[object_column]=train[object_column].apply(lambda x: x.astype('category'))\n",
        "\n",
        "train[object_column] = train[object_column].apply(lambda x: x.cat.codes)\n",
        "train[category_column] = train[category_column].apply(lambda x: x.cat.codes)"
      ],
      "execution_count": 70,
      "outputs": []
    },
    {
      "cell_type": "code",
      "metadata": {
        "id": "MxDRp24HkbtA"
      },
      "source": [
        "object_column = test.select_dtypes(['object']).columns\n",
        "category_column = test.select_dtypes(['category']).columns\n",
        "\n",
        "test[object_column] = test[object_column].apply(lambda x: x.astype('category'))\n",
        "\n",
        "test[object_column] = test[object_column].apply(lambda x: x.cat.codes)\n",
        "test[category_column] = test[category_column].apply(lambda x: x.cat.codes)"
      ],
      "execution_count": 71,
      "outputs": []
    },
    {
      "cell_type": "code",
      "source": [
        "for col in ['SIM', 'Kode_Daerah', 'Kanal_Penjualan', 'Umur', 'Sudah_Asuransi']: # Menghilangkan .0\n",
        "    train[col] = train[col].astype('int')\n",
        "    test[col] = test[col].astype('int')\n",
        "\n",
        "for col in ['SIM', 'Kode_Daerah', 'Kanal_Penjualan', 'Umur_Kendaraan', 'Kendaraan_Rusak', 'Jenis_Kelamin', 'Sudah_Asuransi']:\n",
        "    train[col] = train[col].astype('category')\n",
        "    test[col] = test[col].astype('category')"
      ],
      "metadata": {
        "id": "HJNznKiNZz9Z",
        "colab": {
          "base_uri": "https://localhost:8080/",
          "height": 35
        },
        "outputId": "2f873af8-3ba8-4ff9-8be1-b4da668ee768"
      },
      "execution_count": 76,
      "outputs": [
        {
          "output_type": "execute_result",
          "data": {
            "application/vnd.google.colaboratory.intrinsic+json": {
              "type": "string"
            },
            "text/plain": [
              "\"\\nfor col in ['Premi', 'Lama_Berlangganan']:\\n    train[col] = train[col].astype('float')\\n    test[col] = test[col].astype('float')\\n\""
            ]
          },
          "metadata": {},
          "execution_count": 76
        }
      ]
    },
    {
      "cell_type": "code",
      "source": [
        "print(train.dtypes)\n",
        "print(\"\")\n",
        "print(test.dtypes)"
      ],
      "metadata": {
        "colab": {
          "base_uri": "https://localhost:8080/"
        },
        "id": "h5CZvHWhatbh",
        "outputId": "4e8e3504-88cd-4ca2-8cc2-4610503a489d"
      },
      "execution_count": 77,
      "outputs": [
        {
          "output_type": "stream",
          "name": "stdout",
          "text": [
            "Jenis_Kelamin        category\n",
            "Umur                    int64\n",
            "SIM                  category\n",
            "Kode_Daerah          category\n",
            "Sudah_Asuransi       category\n",
            "Umur_Kendaraan       category\n",
            "Kendaraan_Rusak      category\n",
            "Premi                 float64\n",
            "Kanal_Penjualan      category\n",
            "Lama_Berlangganan     float64\n",
            "dtype: object\n",
            "\n",
            "Jenis_Kelamin        category\n",
            "Umur                    int64\n",
            "SIM                  category\n",
            "Kode_Daerah          category\n",
            "Sudah_Asuransi       category\n",
            "Umur_Kendaraan       category\n",
            "Kendaraan_Rusak      category\n",
            "Premi                   int64\n",
            "Kanal_Penjualan      category\n",
            "Lama_Berlangganan       int64\n",
            "dtype: object\n"
          ]
        }
      ]
    },
    {
      "cell_type": "code",
      "source": [
        "train.head()"
      ],
      "metadata": {
        "colab": {
          "base_uri": "https://localhost:8080/",
          "height": 206
        },
        "id": "LUx5U4Ovnk0B",
        "outputId": "0397194f-38a8-494f-9565-4c25394f8365"
      },
      "execution_count": 73,
      "outputs": [
        {
          "output_type": "execute_result",
          "data": {
            "text/html": [
              "<div>\n",
              "<style scoped>\n",
              "    .dataframe tbody tr th:only-of-type {\n",
              "        vertical-align: middle;\n",
              "    }\n",
              "\n",
              "    .dataframe tbody tr th {\n",
              "        vertical-align: top;\n",
              "    }\n",
              "\n",
              "    .dataframe thead th {\n",
              "        text-align: right;\n",
              "    }\n",
              "</style>\n",
              "<table border=\"1\" class=\"dataframe\">\n",
              "  <thead>\n",
              "    <tr style=\"text-align: right;\">\n",
              "      <th></th>\n",
              "      <th>Jenis_Kelamin</th>\n",
              "      <th>Umur</th>\n",
              "      <th>SIM</th>\n",
              "      <th>Kode_Daerah</th>\n",
              "      <th>Sudah_Asuransi</th>\n",
              "      <th>Umur_Kendaraan</th>\n",
              "      <th>Kendaraan_Rusak</th>\n",
              "      <th>Premi</th>\n",
              "      <th>Kanal_Penjualan</th>\n",
              "      <th>Lama_Berlangganan</th>\n",
              "      <th>Tertarik</th>\n",
              "    </tr>\n",
              "  </thead>\n",
              "  <tbody>\n",
              "    <tr>\n",
              "      <th>0</th>\n",
              "      <td>1</td>\n",
              "      <td>30.0</td>\n",
              "      <td>1.0</td>\n",
              "      <td>33.0</td>\n",
              "      <td>1.0</td>\n",
              "      <td>1</td>\n",
              "      <td>1</td>\n",
              "      <td>28029.0</td>\n",
              "      <td>152.0</td>\n",
              "      <td>97.0</td>\n",
              "      <td>0.0</td>\n",
              "    </tr>\n",
              "    <tr>\n",
              "      <th>1</th>\n",
              "      <td>0</td>\n",
              "      <td>48.0</td>\n",
              "      <td>1.0</td>\n",
              "      <td>39.0</td>\n",
              "      <td>0.0</td>\n",
              "      <td>2</td>\n",
              "      <td>0</td>\n",
              "      <td>25800.0</td>\n",
              "      <td>29.0</td>\n",
              "      <td>158.0</td>\n",
              "      <td>0.0</td>\n",
              "    </tr>\n",
              "    <tr>\n",
              "      <th>2</th>\n",
              "      <td>1</td>\n",
              "      <td>58.0</td>\n",
              "      <td>1.0</td>\n",
              "      <td>48.0</td>\n",
              "      <td>0.0</td>\n",
              "      <td>0</td>\n",
              "      <td>1</td>\n",
              "      <td>2630.0</td>\n",
              "      <td>124.0</td>\n",
              "      <td>63.0</td>\n",
              "      <td>0.0</td>\n",
              "    </tr>\n",
              "    <tr>\n",
              "      <th>3</th>\n",
              "      <td>0</td>\n",
              "      <td>21.0</td>\n",
              "      <td>1.0</td>\n",
              "      <td>35.0</td>\n",
              "      <td>1.0</td>\n",
              "      <td>1</td>\n",
              "      <td>1</td>\n",
              "      <td>22735.0</td>\n",
              "      <td>152.0</td>\n",
              "      <td>171.0</td>\n",
              "      <td>0.0</td>\n",
              "    </tr>\n",
              "    <tr>\n",
              "      <th>4</th>\n",
              "      <td>1</td>\n",
              "      <td>20.0</td>\n",
              "      <td>1.0</td>\n",
              "      <td>8.0</td>\n",
              "      <td>1.0</td>\n",
              "      <td>1</td>\n",
              "      <td>1</td>\n",
              "      <td>30786.0</td>\n",
              "      <td>160.0</td>\n",
              "      <td>31.0</td>\n",
              "      <td>0.0</td>\n",
              "    </tr>\n",
              "  </tbody>\n",
              "</table>\n",
              "</div>"
            ],
            "text/plain": [
              "   Jenis_Kelamin  Umur  SIM  ...  Kanal_Penjualan  Lama_Berlangganan  Tertarik\n",
              "0              1  30.0  1.0  ...            152.0               97.0       0.0\n",
              "1              0  48.0  1.0  ...             29.0              158.0       0.0\n",
              "2              1  58.0  1.0  ...            124.0               63.0       0.0\n",
              "3              0  21.0  1.0  ...            152.0              171.0       0.0\n",
              "4              1  20.0  1.0  ...            160.0               31.0       0.0\n",
              "\n",
              "[5 rows x 11 columns]"
            ]
          },
          "metadata": {},
          "execution_count": 73
        }
      ]
    },
    {
      "cell_type": "markdown",
      "source": [
        "## Create train_y & test_y"
      ],
      "metadata": {
        "id": "uWlArGrVXN96"
      }
    },
    {
      "cell_type": "code",
      "metadata": {
        "colab": {
          "base_uri": "https://localhost:8080/",
          "height": 206
        },
        "id": "WfylK6wlY1s8",
        "outputId": "1afe9532-15d3-41f3-efdf-ce1995ded17d"
      },
      "source": [
        "train_y = train.pop('Tertarik').astype(int)\n",
        "test_y = test.pop('Tertarik').astype(int)\n",
        "train.head() # Kolom tertarik dihilangkan untuk fitur"
      ],
      "execution_count": 74,
      "outputs": [
        {
          "output_type": "execute_result",
          "data": {
            "text/html": [
              "<div>\n",
              "<style scoped>\n",
              "    .dataframe tbody tr th:only-of-type {\n",
              "        vertical-align: middle;\n",
              "    }\n",
              "\n",
              "    .dataframe tbody tr th {\n",
              "        vertical-align: top;\n",
              "    }\n",
              "\n",
              "    .dataframe thead th {\n",
              "        text-align: right;\n",
              "    }\n",
              "</style>\n",
              "<table border=\"1\" class=\"dataframe\">\n",
              "  <thead>\n",
              "    <tr style=\"text-align: right;\">\n",
              "      <th></th>\n",
              "      <th>Jenis_Kelamin</th>\n",
              "      <th>Umur</th>\n",
              "      <th>SIM</th>\n",
              "      <th>Kode_Daerah</th>\n",
              "      <th>Sudah_Asuransi</th>\n",
              "      <th>Umur_Kendaraan</th>\n",
              "      <th>Kendaraan_Rusak</th>\n",
              "      <th>Premi</th>\n",
              "      <th>Kanal_Penjualan</th>\n",
              "      <th>Lama_Berlangganan</th>\n",
              "    </tr>\n",
              "  </thead>\n",
              "  <tbody>\n",
              "    <tr>\n",
              "      <th>0</th>\n",
              "      <td>1</td>\n",
              "      <td>30.0</td>\n",
              "      <td>1.0</td>\n",
              "      <td>33.0</td>\n",
              "      <td>1.0</td>\n",
              "      <td>1</td>\n",
              "      <td>1</td>\n",
              "      <td>28029.0</td>\n",
              "      <td>152.0</td>\n",
              "      <td>97.0</td>\n",
              "    </tr>\n",
              "    <tr>\n",
              "      <th>1</th>\n",
              "      <td>0</td>\n",
              "      <td>48.0</td>\n",
              "      <td>1.0</td>\n",
              "      <td>39.0</td>\n",
              "      <td>0.0</td>\n",
              "      <td>2</td>\n",
              "      <td>0</td>\n",
              "      <td>25800.0</td>\n",
              "      <td>29.0</td>\n",
              "      <td>158.0</td>\n",
              "    </tr>\n",
              "    <tr>\n",
              "      <th>2</th>\n",
              "      <td>1</td>\n",
              "      <td>58.0</td>\n",
              "      <td>1.0</td>\n",
              "      <td>48.0</td>\n",
              "      <td>0.0</td>\n",
              "      <td>0</td>\n",
              "      <td>1</td>\n",
              "      <td>2630.0</td>\n",
              "      <td>124.0</td>\n",
              "      <td>63.0</td>\n",
              "    </tr>\n",
              "    <tr>\n",
              "      <th>3</th>\n",
              "      <td>0</td>\n",
              "      <td>21.0</td>\n",
              "      <td>1.0</td>\n",
              "      <td>35.0</td>\n",
              "      <td>1.0</td>\n",
              "      <td>1</td>\n",
              "      <td>1</td>\n",
              "      <td>22735.0</td>\n",
              "      <td>152.0</td>\n",
              "      <td>171.0</td>\n",
              "    </tr>\n",
              "    <tr>\n",
              "      <th>4</th>\n",
              "      <td>1</td>\n",
              "      <td>20.0</td>\n",
              "      <td>1.0</td>\n",
              "      <td>8.0</td>\n",
              "      <td>1.0</td>\n",
              "      <td>1</td>\n",
              "      <td>1</td>\n",
              "      <td>30786.0</td>\n",
              "      <td>160.0</td>\n",
              "      <td>31.0</td>\n",
              "    </tr>\n",
              "  </tbody>\n",
              "</table>\n",
              "</div>"
            ],
            "text/plain": [
              "   Jenis_Kelamin  Umur  SIM  ...    Premi  Kanal_Penjualan  Lama_Berlangganan\n",
              "0              1  30.0  1.0  ...  28029.0            152.0               97.0\n",
              "1              0  48.0  1.0  ...  25800.0             29.0              158.0\n",
              "2              1  58.0  1.0  ...   2630.0            124.0               63.0\n",
              "3              0  21.0  1.0  ...  22735.0            152.0              171.0\n",
              "4              1  20.0  1.0  ...  30786.0            160.0               31.0\n",
              "\n",
              "[5 rows x 10 columns]"
            ]
          },
          "metadata": {},
          "execution_count": 74
        }
      ]
    },
    {
      "cell_type": "markdown",
      "source": [
        "# Building the Model\n",
        "Setelah kita melakukan cleaning data, kita akan menyiapkan model klasifikasi.\n",
        "\n",
        "Model yang digunakan adalah Logistic Regression. Ada tiga metode yang akan digunakan yaitu Scratch, Sklearn, dan Keras.\n",
        "\n",
        "Akan dibandingkan hasil dari tingkat akurasi ketiga metode tersebut."
      ],
      "metadata": {
        "id": "NJX_Hmb9eM0J"
      }
    },
    {
      "cell_type": "markdown",
      "source": [
        "## Logistic Regression from scratch"
      ],
      "metadata": {
        "id": "byzew301pdkk"
      }
    },
    {
      "cell_type": "code",
      "source": [
        "# Logistic Regression\n",
        "class LogitRegression() :\n",
        "    def __init__( self, learning_rate, iterations ) :        \n",
        "        self.learning_rate = learning_rate        \n",
        "        self.iterations = iterations\n",
        "          \n",
        "    # Function for model training    \n",
        "    def fit( self, X, Y ) :        \n",
        "        # no_of_training_examples, no_of_features        \n",
        "        self.m, self.n = X.shape        \n",
        "        # weight initialization        \n",
        "        self.W = np.zeros( self.n )        \n",
        "        self.b = 0        \n",
        "        self.X = X        \n",
        "        self.Y = Y\n",
        "          \n",
        "        # gradient descent learning\n",
        "                  \n",
        "        for i in range( self.iterations ) :            \n",
        "            self.update_weights()            \n",
        "        return self\n",
        "      \n",
        "    # Helper function to update weights in gradient descent\n",
        "      \n",
        "    def update_weights( self ) :           \n",
        "        A = 1 / ( 1 + np.exp( - ( self.X.dot( self.W ) + self.b ) ) )\n",
        "          \n",
        "        # calculate gradients        \n",
        "        tmp = ( A - self.Y.T )        \n",
        "        tmp = np.reshape( tmp, self.m )        \n",
        "        dW = np.dot( self.X.T, tmp ) / self.m         \n",
        "        db = np.sum( tmp ) / self.m \n",
        "          \n",
        "        # update weights    \n",
        "        self.W = self.W - self.learning_rate * dW    \n",
        "        self.b = self.b - self.learning_rate * db\n",
        "          \n",
        "        return self\n",
        "      \n",
        "    # Hypothetical function  h( x ) \n",
        "      \n",
        "    def predict( self, X ) :    \n",
        "        Z = 1 / ( 1 + np.exp( - ( X.dot( self.W ) + self.b ) ) )        \n",
        "        Y = np.where( Z > 0.5, 1, 0 )        \n",
        "        return Y\n",
        "\n",
        "# Driver code\n",
        "  \n",
        "def main() :\n",
        "      \n",
        "    # Model training    \n",
        "    model = LogitRegression( learning_rate = 0.01, iterations = 1000 )\n",
        "    model.fit(train, train_y)\n",
        "      \n",
        "    # Prediction on test set\n",
        "    pred_y = model.predict( test )\n",
        "      \n",
        "    # measure performance    \n",
        "    correctly_classified = 0    \n",
        "      \n",
        "    # counter    \n",
        "    count = 0    \n",
        "    for count in range( np.size( pred_y ) ) :  \n",
        "        \n",
        "        if test_y[count] == pred_y[count] :            \n",
        "            correctly_classified = correctly_classified + 1\n",
        "              \n",
        "        count = count + 1\n",
        "          \n",
        "    print( \"Accuracy on test set      :  \", ( \n",
        "      correctly_classified / count ) * 100 )\n",
        "\n",
        "  \n",
        "if __name__ == \"__main__\" :     \n",
        "    main()"
      ],
      "metadata": {
        "id": "zUrVKNm-qkrT",
        "colab": {
          "base_uri": "https://localhost:8080/"
        },
        "outputId": "2fc94809-e964-4d0d-f65f-d421c312e413"
      },
      "execution_count": 78,
      "outputs": [
        {
          "output_type": "stream",
          "name": "stderr",
          "text": [
            "/usr/local/lib/python3.7/dist-packages/pandas/core/series.py:726: RuntimeWarning: overflow encountered in exp\n",
            "  result = getattr(ufunc, method)(*inputs, **kwargs)\n"
          ]
        },
        {
          "output_type": "stream",
          "name": "stdout",
          "text": [
            "Accuracy on test set      :   87.69705493398267\n"
          ]
        }
      ]
    },
    {
      "cell_type": "markdown",
      "source": [
        "## Logistic Regression with Sklearn"
      ],
      "metadata": {
        "id": "9x-5T0kQ5VR6"
      }
    },
    {
      "cell_type": "code",
      "source": [
        "import warnings\n",
        "warnings.filterwarnings( \"ignore\" )\n",
        "  \n",
        "from sklearn.linear_model import LogisticRegression\n",
        "from sklearn.metrics import accuracy_score"
      ],
      "metadata": {
        "id": "H_qT99dl50ZN"
      },
      "execution_count": 158,
      "outputs": []
    },
    {
      "cell_type": "code",
      "source": [
        "def main() :\n",
        "\n",
        "    model1 = LogisticRegression(max_iter=1000)    \n",
        "    model1.fit(train, train_y)\n",
        "        \n",
        "    pred_y = model1.predict(test)\n",
        "    \n",
        "    print(\"Accuracy on test set by sklearn model: \")\n",
        "    print(accuracy_score(test_y, pred_y) * 100)\n",
        "\n",
        "if __name__ == \"__main__\" :     \n",
        "    main()"
      ],
      "metadata": {
        "colab": {
          "base_uri": "https://localhost:8080/"
        },
        "id": "H0YwQqhj5UlZ",
        "outputId": "5c3b4e3b-27f4-4472-b677-229e563d6ba7"
      },
      "execution_count": 159,
      "outputs": [
        {
          "output_type": "stream",
          "name": "stdout",
          "text": [
            "Accuracy on test set by sklearn model: \n",
            "87.69705493398267\n"
          ]
        }
      ]
    },
    {
      "cell_type": "markdown",
      "source": [
        "## Logistic Regression with Sklearn (using SGD)"
      ],
      "metadata": {
        "id": "kfO67tKkZD99"
      }
    },
    {
      "cell_type": "code",
      "source": [
        "from sklearn.linear_model import SGDClassifier\n",
        "\n",
        "def main() :\n",
        "\n",
        "    model1 = SGDClassifier(eta0 = 0.01, max_iter=1000) #sgd learning path = 0,01 constant\n",
        "    model1.fit(train, train_y)\n",
        "        \n",
        "    pred_y = model1.predict( test )\n",
        "        \n",
        "    print(\"Accuracy on test set by sklearn model: \")\n",
        "    print(accuracy_score(test_y, pred_y) * 100)\n",
        "  \n",
        "if __name__ == \"__main__\" :     \n",
        "    main()"
      ],
      "metadata": {
        "colab": {
          "base_uri": "https://localhost:8080/"
        },
        "id": "HeJ6UL7iYEBO",
        "outputId": "caeece33-18e3-4fa0-9c47-b77f99bb4dc3"
      },
      "execution_count": 160,
      "outputs": [
        {
          "output_type": "stream",
          "name": "stdout",
          "text": [
            "Accuracy on test set by sklearn model: \n",
            "86.91408299922333\n"
          ]
        }
      ]
    },
    {
      "cell_type": "markdown",
      "source": [
        "## Logistic Regression with Keras"
      ],
      "metadata": {
        "id": "e7QzFX-AOHss"
      }
    },
    {
      "cell_type": "code",
      "source": [
        "# Keras specific\n",
        "import keras\n",
        "from keras.models import Sequential\n",
        "from keras.layers import Dense\n",
        "from tensorflow.keras.utils import to_categorical"
      ],
      "metadata": {
        "id": "xB5uLb5S4E3u"
      },
      "execution_count": null,
      "outputs": []
    },
    {
      "cell_type": "code",
      "source": [
        "y_train = to_categorical(train_y)\n",
        "y_test = to_categorical(test_y)\n",
        "\n",
        "count_classes = y_test.shape[1]\n",
        "print(count_classes)"
      ],
      "metadata": {
        "colab": {
          "base_uri": "https://localhost:8080/"
        },
        "id": "o_An2e_R4BPi",
        "outputId": "23d5816b-18f8-4714-d8cb-1d7ccc16bae0"
      },
      "execution_count": null,
      "outputs": [
        {
          "output_type": "stream",
          "name": "stdout",
          "text": [
            "2\n"
          ]
        }
      ]
    },
    {
      "cell_type": "code",
      "source": [
        "model = Sequential()\n",
        "model.add(Dense(500, activation='relu', input_dim=10))\n",
        "model.add(Dense(100, activation='relu'))\n",
        "model.add(Dense(50, activation='relu'))\n",
        "model.add(Dense(2, activation='softmax'))\n",
        "\n",
        "# Compile the model\n",
        "model.compile(optimizer='adam', #sgd\n",
        "              loss='categorical_crossentropy', #loss measure\n",
        "              metrics=['accuracy']) #evaluation metrics"
      ],
      "metadata": {
        "id": "3gVeLnfZ38Rk"
      },
      "execution_count": null,
      "outputs": []
    },
    {
      "cell_type": "code",
      "source": [
        "model.fit(train, y_train, epochs=20)"
      ],
      "metadata": {
        "colab": {
          "base_uri": "https://localhost:8080/"
        },
        "id": "EDVcKo664eKi",
        "outputId": "44de1046-cdbd-4a9d-c405-666db5436b6f"
      },
      "execution_count": null,
      "outputs": [
        {
          "output_type": "stream",
          "name": "stdout",
          "text": [
            "Epoch 1/20\n",
            "5346/5346 [==============================] - 23s 4ms/step - loss: 5.9471 - accuracy: 0.8417\n",
            "Epoch 2/20\n",
            "5346/5346 [==============================] - 19s 4ms/step - loss: 0.3846 - accuracy: 0.8782\n",
            "Epoch 3/20\n",
            "5346/5346 [==============================] - 19s 4ms/step - loss: 0.3702 - accuracy: 0.8784\n",
            "Epoch 4/20\n",
            "5346/5346 [==============================] - 21s 4ms/step - loss: 0.3703 - accuracy: 0.8784\n",
            "Epoch 5/20\n",
            "5346/5346 [==============================] - 21s 4ms/step - loss: 0.3703 - accuracy: 0.8784\n",
            "Epoch 6/20\n",
            "5346/5346 [==============================] - 19s 4ms/step - loss: 0.3703 - accuracy: 0.8784\n",
            "Epoch 7/20\n",
            "5346/5346 [==============================] - 20s 4ms/step - loss: 0.3703 - accuracy: 0.8784\n",
            "Epoch 8/20\n",
            "5346/5346 [==============================] - 20s 4ms/step - loss: 0.3703 - accuracy: 0.8784\n",
            "Epoch 9/20\n",
            "5346/5346 [==============================] - 19s 3ms/step - loss: 0.3703 - accuracy: 0.8784\n",
            "Epoch 10/20\n",
            "5346/5346 [==============================] - 19s 4ms/step - loss: 0.3702 - accuracy: 0.8784\n",
            "Epoch 11/20\n",
            "5346/5346 [==============================] - 19s 4ms/step - loss: 0.3702 - accuracy: 0.8784\n",
            "Epoch 12/20\n",
            "5346/5346 [==============================] - 19s 4ms/step - loss: 0.3702 - accuracy: 0.8784\n",
            "Epoch 13/20\n",
            "5346/5346 [==============================] - 19s 4ms/step - loss: 0.3702 - accuracy: 0.8784\n",
            "Epoch 14/20\n",
            "5346/5346 [==============================] - 18s 3ms/step - loss: 0.3702 - accuracy: 0.8784\n",
            "Epoch 15/20\n",
            "5346/5346 [==============================] - 20s 4ms/step - loss: 0.3702 - accuracy: 0.8784\n",
            "Epoch 16/20\n",
            "5346/5346 [==============================] - 20s 4ms/step - loss: 0.3702 - accuracy: 0.8784\n",
            "Epoch 17/20\n",
            "5346/5346 [==============================] - 19s 4ms/step - loss: 0.3702 - accuracy: 0.8784\n",
            "Epoch 18/20\n",
            "5346/5346 [==============================] - 19s 4ms/step - loss: 0.3702 - accuracy: 0.8784\n",
            "Epoch 19/20\n",
            "5346/5346 [==============================] - 19s 4ms/step - loss: 0.3702 - accuracy: 0.8784\n",
            "Epoch 20/20\n",
            "5346/5346 [==============================] - 19s 4ms/step - loss: 0.3702 - accuracy: 0.8784\n"
          ]
        },
        {
          "output_type": "execute_result",
          "data": {
            "text/plain": [
              "<keras.callbacks.History at 0x7fe5f0743b50>"
            ]
          },
          "metadata": {},
          "execution_count": 91
        }
      ]
    },
    {
      "cell_type": "code",
      "source": [
        "pred_test= model.predict(test)\n",
        "scores2 = model.evaluate(test, y_test, verbose=0)\n",
        "print('Accuracy on test data: {}% \\n Error on test data: {}'.format(scores2[1] * 100, 1 - scores2[1]))    "
      ],
      "metadata": {
        "colab": {
          "base_uri": "https://localhost:8080/"
        },
        "id": "1YR9xlb85Gi4",
        "outputId": "891484d4-7d98-41c5-917d-3a3439a70b6b"
      },
      "execution_count": null,
      "outputs": [
        {
          "output_type": "stream",
          "name": "stdout",
          "text": [
            "Accuracy on test data: 87.69705295562744% \n",
            " Error on test data: 0.12302947044372559\n"
          ]
        }
      ]
    }
  ]
}