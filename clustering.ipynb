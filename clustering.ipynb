{
 "cells": [
  {
   "cell_type": "markdown",
   "source": [
    "**Clustering**"
   ],
   "metadata": {}
  },
  {
   "cell_type": "markdown",
   "source": [
    "Clustering (unsupervised Learning) adalah mengelompokkan pelanggan berdasarkan data pelanggan di dealer tanpa memperhatikan label kelas apakah pelanggan tertarik untuk membeli kendaraan baru atau tidak. "
   ],
   "metadata": {}
  },
  {
   "cell_type": "code",
   "execution_count": 1,
   "source": [
    "# Import Library\r\n",
    "\r\n",
    "import pandas as pd\r\n",
    "import numpy as np"
   ],
   "outputs": [],
   "metadata": {}
  },
  {
   "cell_type": "markdown",
   "source": [
    "# Pengenalan Dataset"
   ],
   "metadata": {}
  },
  {
   "cell_type": "markdown",
   "source": [
    "- SIM\t--> 0 : Tidak punya SIM 1 : Punya SIM\r\n",
    "- Kode_Daerah --> Kode area tempat tinggal pelanggan\r\n",
    "- Sudah_Asuransi --> 1 : Pelanggan sudah memiliki asuransi kendaraan, 0 : Pelanggan belum memiliki asuransi kendaraan\r\n",
    "- Umur_Kendaraan --> Umur kendaraan\r\n",
    "- Kendaraan_Rusak --> 1 : Kendaraan pernah rusak sebelumnya. 0 : Kendaraan belum pernah rusak.\r\n",
    "- Premi --> Jumlah premi yang harus dibayarkan per tahun.\r\n",
    "- Kanal_Penjualan --> Kode kanal untuk menghubungi pelanggan (email, telpon, dll)\r\n",
    "- Lama_Berlangganan\t--> Sudah berapa lama pelanggan menjadi klien perusahaan\r\n",
    "- Tertarik --> 1 : Pelanggan tertarik, 0 : Pelanggan tidak tertarik\r\n",
    "\r\n",
    "Clustring tidak membutuhkan kolom 'Tertarik'"
   ],
   "metadata": {}
  },
  {
   "cell_type": "code",
   "execution_count": 34,
   "source": [
    "# Membaca file .csv\r\n",
    "\r\n",
    "df = pd.read_csv(\"kendaraan_train.csv\")\r\n",
    "\r\n",
    "print(\"Data read into pandas dataframe!\")"
   ],
   "outputs": [
    {
     "output_type": "stream",
     "name": "stdout",
     "text": [
      "Data read into pandas dataframe!\n"
     ]
    }
   ],
   "metadata": {}
  },
  {
   "cell_type": "code",
   "execution_count": 35,
   "source": [
    "df.drop([\"Tertarik\"], axis=1,  inplace=True) #Clustering tidak membutuhkan kolom 'Tertarik'\r\n",
    "\r\n",
    "#Melakukan drop kolom berdasarkan analisis data\r\n",
    "df.drop([\"id\"], axis=1,  inplace=True)\r\n",
    "df.drop([\"Jenis_Kelamin\"], axis=1,  inplace=True)\r\n",
    "df.drop([\"SIM\"], axis=1,  inplace=True)\r\n",
    "df.drop([\"Kode_Daerah\"], axis=1,  inplace=True)\r\n",
    "df.drop([\"Umur_Kendaraan\"], axis=1,  inplace=True)\r\n",
    "df.drop([\"Kendaraan_Rusak\"], axis=1,  inplace=True)"
   ],
   "outputs": [],
   "metadata": {}
  },
  {
   "cell_type": "markdown",
   "source": [
    "# Data Cleaning <a id=\"0\"></a>"
   ],
   "metadata": {}
  },
  {
   "cell_type": "code",
   "execution_count": 36,
   "source": [
    "# Melihat 5 data teratas dari dataset\r\n",
    "\r\n",
    "df.head()"
   ],
   "outputs": [
    {
     "output_type": "execute_result",
     "data": {
      "text/html": [
       "<div>\n",
       "<style scoped>\n",
       "    .dataframe tbody tr th:only-of-type {\n",
       "        vertical-align: middle;\n",
       "    }\n",
       "\n",
       "    .dataframe tbody tr th {\n",
       "        vertical-align: top;\n",
       "    }\n",
       "\n",
       "    .dataframe thead th {\n",
       "        text-align: right;\n",
       "    }\n",
       "</style>\n",
       "<table border=\"1\" class=\"dataframe\">\n",
       "  <thead>\n",
       "    <tr style=\"text-align: right;\">\n",
       "      <th></th>\n",
       "      <th>Umur</th>\n",
       "      <th>Sudah_Asuransi</th>\n",
       "      <th>Premi</th>\n",
       "      <th>Kanal_Penjualan</th>\n",
       "      <th>Lama_Berlangganan</th>\n",
       "    </tr>\n",
       "  </thead>\n",
       "  <tbody>\n",
       "    <tr>\n",
       "      <th>0</th>\n",
       "      <td>30.0</td>\n",
       "      <td>1.0</td>\n",
       "      <td>28029.0</td>\n",
       "      <td>152.0</td>\n",
       "      <td>97.0</td>\n",
       "    </tr>\n",
       "    <tr>\n",
       "      <th>1</th>\n",
       "      <td>48.0</td>\n",
       "      <td>0.0</td>\n",
       "      <td>25800.0</td>\n",
       "      <td>29.0</td>\n",
       "      <td>158.0</td>\n",
       "    </tr>\n",
       "    <tr>\n",
       "      <th>2</th>\n",
       "      <td>21.0</td>\n",
       "      <td>1.0</td>\n",
       "      <td>32733.0</td>\n",
       "      <td>160.0</td>\n",
       "      <td>119.0</td>\n",
       "    </tr>\n",
       "    <tr>\n",
       "      <th>3</th>\n",
       "      <td>58.0</td>\n",
       "      <td>0.0</td>\n",
       "      <td>2630.0</td>\n",
       "      <td>124.0</td>\n",
       "      <td>63.0</td>\n",
       "    </tr>\n",
       "    <tr>\n",
       "      <th>4</th>\n",
       "      <td>50.0</td>\n",
       "      <td>0.0</td>\n",
       "      <td>34857.0</td>\n",
       "      <td>88.0</td>\n",
       "      <td>194.0</td>\n",
       "    </tr>\n",
       "  </tbody>\n",
       "</table>\n",
       "</div>"
      ],
      "text/plain": [
       "   Umur  Sudah_Asuransi    Premi  Kanal_Penjualan  Lama_Berlangganan\n",
       "0  30.0             1.0  28029.0            152.0               97.0\n",
       "1  48.0             0.0  25800.0             29.0              158.0\n",
       "2  21.0             1.0  32733.0            160.0              119.0\n",
       "3  58.0             0.0   2630.0            124.0               63.0\n",
       "4  50.0             0.0  34857.0             88.0              194.0"
      ]
     },
     "metadata": {},
     "execution_count": 36
    }
   ],
   "metadata": {}
  },
  {
   "cell_type": "code",
   "execution_count": 37,
   "source": [
    "# Melihat 5 data terbawah dari dataset\r\n",
    "\r\n",
    "df.tail()"
   ],
   "outputs": [
    {
     "output_type": "execute_result",
     "data": {
      "text/html": [
       "<div>\n",
       "<style scoped>\n",
       "    .dataframe tbody tr th:only-of-type {\n",
       "        vertical-align: middle;\n",
       "    }\n",
       "\n",
       "    .dataframe tbody tr th {\n",
       "        vertical-align: top;\n",
       "    }\n",
       "\n",
       "    .dataframe thead th {\n",
       "        text-align: right;\n",
       "    }\n",
       "</style>\n",
       "<table border=\"1\" class=\"dataframe\">\n",
       "  <thead>\n",
       "    <tr style=\"text-align: right;\">\n",
       "      <th></th>\n",
       "      <th>Umur</th>\n",
       "      <th>Sudah_Asuransi</th>\n",
       "      <th>Premi</th>\n",
       "      <th>Kanal_Penjualan</th>\n",
       "      <th>Lama_Berlangganan</th>\n",
       "    </tr>\n",
       "  </thead>\n",
       "  <tbody>\n",
       "    <tr>\n",
       "      <th>285826</th>\n",
       "      <td>23.0</td>\n",
       "      <td>1.0</td>\n",
       "      <td>25988.0</td>\n",
       "      <td>152.0</td>\n",
       "      <td>217.0</td>\n",
       "    </tr>\n",
       "    <tr>\n",
       "      <th>285827</th>\n",
       "      <td>21.0</td>\n",
       "      <td>1.0</td>\n",
       "      <td>44686.0</td>\n",
       "      <td>152.0</td>\n",
       "      <td>50.0</td>\n",
       "    </tr>\n",
       "    <tr>\n",
       "      <th>285828</th>\n",
       "      <td>23.0</td>\n",
       "      <td>1.0</td>\n",
       "      <td>49751.0</td>\n",
       "      <td>152.0</td>\n",
       "      <td>226.0</td>\n",
       "    </tr>\n",
       "    <tr>\n",
       "      <th>285829</th>\n",
       "      <td>68.0</td>\n",
       "      <td>1.0</td>\n",
       "      <td>30503.0</td>\n",
       "      <td>124.0</td>\n",
       "      <td>270.0</td>\n",
       "    </tr>\n",
       "    <tr>\n",
       "      <th>285830</th>\n",
       "      <td>45.0</td>\n",
       "      <td>0.0</td>\n",
       "      <td>36480.0</td>\n",
       "      <td>26.0</td>\n",
       "      <td>44.0</td>\n",
       "    </tr>\n",
       "  </tbody>\n",
       "</table>\n",
       "</div>"
      ],
      "text/plain": [
       "        Umur  Sudah_Asuransi    Premi  Kanal_Penjualan  Lama_Berlangganan\n",
       "285826  23.0             1.0  25988.0            152.0              217.0\n",
       "285827  21.0             1.0  44686.0            152.0               50.0\n",
       "285828  23.0             1.0  49751.0            152.0              226.0\n",
       "285829  68.0             1.0  30503.0            124.0              270.0\n",
       "285830  45.0             0.0  36480.0             26.0               44.0"
      ]
     },
     "metadata": {},
     "execution_count": 37
    }
   ],
   "metadata": {}
  },
  {
   "cell_type": "code",
   "execution_count": 38,
   "source": [
    "# Melihat ukuran dataset\r\n",
    "\r\n",
    "df.shape"
   ],
   "outputs": [
    {
     "output_type": "execute_result",
     "data": {
      "text/plain": [
       "(285831, 5)"
      ]
     },
     "metadata": {},
     "execution_count": 38
    }
   ],
   "metadata": {}
  },
  {
   "cell_type": "code",
   "execution_count": 39,
   "source": [
    "# Melihat jenis data dataset\r\n",
    "\r\n",
    "df.info()"
   ],
   "outputs": [
    {
     "output_type": "stream",
     "name": "stdout",
     "text": [
      "<class 'pandas.core.frame.DataFrame'>\n",
      "RangeIndex: 285831 entries, 0 to 285830\n",
      "Data columns (total 5 columns):\n",
      " #   Column             Non-Null Count   Dtype  \n",
      "---  ------             --------------   -----  \n",
      " 0   Umur               271617 non-null  float64\n",
      " 1   Sudah_Asuransi     271602 non-null  float64\n",
      " 2   Premi              271262 non-null  float64\n",
      " 3   Kanal_Penjualan    271532 non-null  float64\n",
      " 4   Lama_Berlangganan  271839 non-null  float64\n",
      "dtypes: float64(5)\n",
      "memory usage: 10.9 MB\n"
     ]
    }
   ],
   "metadata": {}
  },
  {
   "cell_type": "code",
   "execution_count": 40,
   "source": [
    "# Pengecekan data kosong\r\n",
    "\r\n",
    "df.isnull().sum()"
   ],
   "outputs": [
    {
     "output_type": "execute_result",
     "data": {
      "text/plain": [
       "Umur                 14214\n",
       "Sudah_Asuransi       14229\n",
       "Premi                14569\n",
       "Kanal_Penjualan      14299\n",
       "Lama_Berlangganan    13992\n",
       "dtype: int64"
      ]
     },
     "metadata": {},
     "execution_count": 40
    }
   ],
   "metadata": {}
  },
  {
   "cell_type": "code",
   "execution_count": 41,
   "source": [
    "# Menghapus data kosong\r\n",
    "\r\n",
    "df = df.dropna()"
   ],
   "outputs": [],
   "metadata": {}
  },
  {
   "cell_type": "code",
   "execution_count": 42,
   "source": [
    "# Melakukan cek kembali data kosong\r\n",
    "\r\n",
    "df.isnull().sum()"
   ],
   "outputs": [
    {
     "output_type": "execute_result",
     "data": {
      "text/plain": [
       "Umur                 0\n",
       "Sudah_Asuransi       0\n",
       "Premi                0\n",
       "Kanal_Penjualan      0\n",
       "Lama_Berlangganan    0\n",
       "dtype: int64"
      ]
     },
     "metadata": {},
     "execution_count": 42
    }
   ],
   "metadata": {}
  },
  {
   "cell_type": "markdown",
   "source": [
    "# Clustering K-Means <a id=\"0\"></a>"
   ],
   "metadata": {}
  },
  {
   "cell_type": "markdown",
   "source": [
    "Akan digunakan 2D Dataset. Kolom yang akan digunakan adalah Premi dan Lama_Berlangganan. Data akan dikelompokan berdasarkan kedua kolom tersebut. Fitur:\r\n",
    "- Premi(float): Jumlah premi yang harus dibayarkan per tahun.\r\n",
    "- Lama_Berlangganan(float): Sudah berapa lama pelanggan menjadi klien perusahaan"
   ],
   "metadata": {}
  },
  {
   "cell_type": "markdown",
   "source": [
    "Selanjutnya akan dilakukan plotting data."
   ],
   "metadata": {}
  },
  {
   "cell_type": "code",
   "execution_count": 43,
   "source": [
    "#import library\r\n",
    "\r\n",
    "import matplotlib.pyplot as plt\r\n",
    "from matplotlib.image import imread\r\n",
    "import pandas as pd\r\n",
    "import seaborn as sns\r\n",
    "import scipy.spatial.distance as metric\r\n",
    "                                            \r\n",
    "%matplotlib inline\r\n",
    "sns.set_context('notebook')\r\n",
    "plt.style.use('fivethirtyeight')\r\n",
    "from warnings import filterwarnings\r\n",
    "filterwarnings('ignore')"
   ],
   "outputs": [],
   "metadata": {}
  },
  {
   "cell_type": "code",
   "execution_count": 44,
   "source": [
    "df.head()"
   ],
   "outputs": [
    {
     "output_type": "execute_result",
     "data": {
      "text/html": [
       "<div>\n",
       "<style scoped>\n",
       "    .dataframe tbody tr th:only-of-type {\n",
       "        vertical-align: middle;\n",
       "    }\n",
       "\n",
       "    .dataframe tbody tr th {\n",
       "        vertical-align: top;\n",
       "    }\n",
       "\n",
       "    .dataframe thead th {\n",
       "        text-align: right;\n",
       "    }\n",
       "</style>\n",
       "<table border=\"1\" class=\"dataframe\">\n",
       "  <thead>\n",
       "    <tr style=\"text-align: right;\">\n",
       "      <th></th>\n",
       "      <th>Umur</th>\n",
       "      <th>Sudah_Asuransi</th>\n",
       "      <th>Premi</th>\n",
       "      <th>Kanal_Penjualan</th>\n",
       "      <th>Lama_Berlangganan</th>\n",
       "    </tr>\n",
       "  </thead>\n",
       "  <tbody>\n",
       "    <tr>\n",
       "      <th>0</th>\n",
       "      <td>30.0</td>\n",
       "      <td>1.0</td>\n",
       "      <td>28029.0</td>\n",
       "      <td>152.0</td>\n",
       "      <td>97.0</td>\n",
       "    </tr>\n",
       "    <tr>\n",
       "      <th>1</th>\n",
       "      <td>48.0</td>\n",
       "      <td>0.0</td>\n",
       "      <td>25800.0</td>\n",
       "      <td>29.0</td>\n",
       "      <td>158.0</td>\n",
       "    </tr>\n",
       "    <tr>\n",
       "      <th>2</th>\n",
       "      <td>21.0</td>\n",
       "      <td>1.0</td>\n",
       "      <td>32733.0</td>\n",
       "      <td>160.0</td>\n",
       "      <td>119.0</td>\n",
       "    </tr>\n",
       "    <tr>\n",
       "      <th>3</th>\n",
       "      <td>58.0</td>\n",
       "      <td>0.0</td>\n",
       "      <td>2630.0</td>\n",
       "      <td>124.0</td>\n",
       "      <td>63.0</td>\n",
       "    </tr>\n",
       "    <tr>\n",
       "      <th>4</th>\n",
       "      <td>50.0</td>\n",
       "      <td>0.0</td>\n",
       "      <td>34857.0</td>\n",
       "      <td>88.0</td>\n",
       "      <td>194.0</td>\n",
       "    </tr>\n",
       "  </tbody>\n",
       "</table>\n",
       "</div>"
      ],
      "text/plain": [
       "   Umur  Sudah_Asuransi    Premi  Kanal_Penjualan  Lama_Berlangganan\n",
       "0  30.0             1.0  28029.0            152.0               97.0\n",
       "1  48.0             0.0  25800.0             29.0              158.0\n",
       "2  21.0             1.0  32733.0            160.0              119.0\n",
       "3  58.0             0.0   2630.0            124.0               63.0\n",
       "4  50.0             0.0  34857.0             88.0              194.0"
      ]
     },
     "metadata": {},
     "execution_count": 44
    }
   ],
   "metadata": {}
  },
  {
   "cell_type": "code",
   "execution_count": 47,
   "source": [
    "df1 = df[['Umur', 'Premi']].copy() #Membuat dataframe baru dengan hanya 2 kolom yang dibutuhkan\r\n",
    "df1 = df1[:1000] #Hanya menggunakan 1000 data\r\n",
    "df1 = df1.drop(df1[df1.Premi == df1.Premi.min()].index) #Menghapus outlier bawah\r\n",
    "df1 = df1.drop(df1[df1.Premi == df1.Premi.max()].index) #mMenghapus outlier atas"
   ],
   "outputs": [],
   "metadata": {}
  },
  {
   "cell_type": "code",
   "execution_count": 29,
   "source": [
    "plt.figure(figsize=(6, 6)) #Mengatur ukuran grafik\r\n",
    "plt.scatter(df1.iloc[:, 0], df1.iloc[:, 1]) #Mengatur sumbu x dan y\r\n",
    "plt.ylabel('Premi yang harus dibayar')\r\n",
    "plt.xlabel('Umur')\r\n",
    "plt.title('Visualization of raw data')"
   ],
   "outputs": [
    {
     "output_type": "execute_result",
     "data": {
      "text/plain": [
       "Text(0.5, 1.0, 'Visualization of raw data')"
      ]
     },
     "metadata": {},
     "execution_count": 29
    },
    {
     "output_type": "display_data",
     "data": {
      "image/png": "[encoded data removed]",
      "text/plain": [
       "<Figure size 432x432 with 1 Axes>"
      ]
     },
     "metadata": {}
    }
   ],
   "metadata": {}
  },
  {
   "cell_type": "markdown",
   "source": [
    "K-Means"
   ],
   "metadata": {}
  },
  {
   "cell_type": "code",
   "execution_count": 48,
   "source": [
    "def euclidean_dist(A, B): #Fungsi untuk menghitung euclidean distance\r\n",
    "    return metric.euclidean(A, B)\r\n",
    "\r\n",
    "def plot(data, k, index, centroids, orig_centroids): #FUngsi untuk membuat grafik scatter\r\n",
    "    \r\n",
    "    input = []\r\n",
    "    for i in range(len(index)):\r\n",
    "        for j in index[i]:\r\n",
    "            input.append(int(j))\r\n",
    "            \r\n",
    "    colors = 10*[\"g\",\"r\",\"c\",\"b\",\"k\"] #Untuk menyiapkan warna\r\n",
    "\r\n",
    "    j=0\r\n",
    "    for i in input:\r\n",
    "        plt.scatter(data[j,0], data[j,1], marker=\"o\", color=colors[i], s=50, linewidths=5)\r\n",
    "        j+=1\r\n",
    "\r\n",
    "    ## Tanda New centroid\r\n",
    "    for centroid in range(len(centroids)):\r\n",
    "        plt.scatter(centroids[centroid][0],centroids[centroid][1],marker=\"o\", color=\"k\", s=50, linewidths=5)\r\n",
    "    \r\n",
    "    # Tanda Original centroid\r\n",
    "    for centroid in range(len(orig_centroids)):\r\n",
    "        plt.scatter(orig_centroids[centroid][0],orig_centroids[centroid][1],marker=\"D\", color=\"DarkBlue\", s=50, linewidths=5)"
   ],
   "outputs": [],
   "metadata": {}
  },
  {
   "cell_type": "code",
   "execution_count": 18,
   "source": [
    "class K_Means: #Kelas K_Means\r\n",
    "    def __init__(self,k,data,centroid_init=None):\r\n",
    "        self.k = k\r\n",
    "        self.data = data  \r\n",
    "        self.centroid_init = centroid_init\r\n",
    "        \r\n",
    "    def initialise_centroids(self,centroid_init,k,data): #Inisiasi centroid\r\n",
    "        \r\n",
    "        ## Membuat centroid baru dengan 3 cara (random, firstk, atau langsung ditentukan)\r\n",
    "        if(self.centroid_init == 'random'): #inputan random\r\n",
    "            initial_centroids = np.random.permutation(data.shape[0])[:self.k]\r\n",
    "            self.centroids = data[initial_centroids]\r\n",
    "        elif(self.centroid_init == 'firstk'): #inputan 'firstk'\r\n",
    "            self.centroids = data[:k]\r\n",
    "        else: #ditentukan langsung\r\n",
    "            for i in range(self.k): \r\n",
    "                self.centroids.append(i%self.k)\r\n",
    "        return self.centroids    \r\n",
    " \r\n",
    "    def fit(self,data): #Proses algoritma K-meeans\r\n",
    "        m = np.shape(data)[0] #membuat array berdasarkan ukuran\r\n",
    "        clusterAssign = np.mat(np.zeros((m,2))) #membuat matrix dengan bentuk m x 2\r\n",
    "        \r\n",
    "        cents = self.initialise_centroids(self.centroid_init,self.k,data)\r\n",
    "        \r\n",
    "        # Preserve original centroids\r\n",
    "        cents_orig = cents.copy()\r\n",
    "        changed = True #variabel kondisi\r\n",
    "        num_iter = 0\r\n",
    "        \r\n",
    "        while changed and num_iter < 100:\r\n",
    "            changed = False #variabel kondisi default\r\n",
    "\r\n",
    "            for i in range(m):  # untuk setiap baris pada dataset\r\n",
    "\r\n",
    "                # Track minimum distance and vector index of associated cluster\r\n",
    "                min_dist = np.inf #konstanta infinite\r\n",
    "                min_index = -1\r\n",
    "\r\n",
    "                #menghitung jarak \r\n",
    "                for j in range(self.k):\r\n",
    "                    dist_ji = euclidean_dist(cents[j,:],data[i,:])\r\n",
    "                    if(dist_ji < min_dist):\r\n",
    "                        min_dist = dist_ji\r\n",
    "                        min_index = j\r\n",
    "                        \r\n",
    "                    # pengecekan cluster sudah berubah atau belum\r\n",
    "                    if clusterAssign[i, 0] != min_index: \r\n",
    "                        changed = True\r\n",
    "\r\n",
    "                # Assign instance ke cluster\r\n",
    "                clusterAssign[i, :] = min_index, min_dist**2\r\n",
    "\r\n",
    "            # Update lokasi centroid \r\n",
    "            for cent in range(self.k):\r\n",
    "                points = data[np.nonzero(clusterAssign[:,0].A==cent)[0]]\r\n",
    "                cents[cent,:] = np.mean(points, axis=0)\r\n",
    "    \r\n",
    "            num_iter += 1\r\n",
    "\r\n",
    "         # Return \r\n",
    "        return cents, clusterAssign, num_iter, cents_orig"
   ],
   "outputs": [],
   "metadata": {}
  },
  {
   "cell_type": "code",
   "execution_count": 19,
   "source": [
    "new = df1.to_numpy() #merubah dataframe menjadi array numpy\r\n",
    "kmeans = K_Means(k=2, data = new, centroid_init='random') #inisiasi objek\r\n",
    "centroids, clusterAssign, iters, FirstCentroid = kmeans.fit(new) #menyimpan hasil fit ke variabel\r\n",
    "index = clusterAssign[:,0] # cluster assignment 0,1,.... \r\n",
    "distance = clusterAssign[:,1]  # evaluasi\r\n",
    "\r\n",
    "k=2 #centroid = 2\r\n",
    "plot(new,k,index,centroids,FirstCentroid) #membuat grafik"
   ],
   "outputs": [
    {
     "output_type": "display_data",
     "data": {
      "image/png": "[encoded data removed]",
      "text/plain": [
       "<Figure size 432x288 with 1 Axes>"
      ]
     },
     "metadata": {}
    }
   ],
   "metadata": {}
  },
  {
   "cell_type": "markdown",
   "source": [
    "Evaluasi Jumlah K dengan _elbow method_"
   ],
   "metadata": {}
  },
  {
   "cell_type": "code",
   "execution_count": 20,
   "source": [
    "costs = [] #list untuk menyimpan nilai hasil perhitungan\r\n",
    "for i in range(10): #dilakukan evaluasi sebanyak k=10\r\n",
    "    kmeans = K_Means(k=i, data = new, centroid_init='firstk')\r\n",
    "    centroids, clusterAssign, iters, FirstCentroid = kmeans.fit(new)\r\n",
    "    distance = clusterAssign[:,1]\r\n",
    "    cost = sum(distance)/(2*len(new))\r\n",
    "    cost = np.array(cost)\r\n",
    "    cost = cost.item()\r\n",
    "    costs.append(cost)\r\n",
    "    \r\n",
    "x = np.arange(10)\r\n",
    "plt.plot(x,costs)\r\n",
    "plt.title(\"Elbow Curve\")\r\n",
    "plt.xlabel(\"K\")\r\n",
    "plt.ylabel(\"Dispersion\")"
   ],
   "outputs": [
    {
     "output_type": "execute_result",
     "data": {
      "text/plain": [
       "Text(0, 0.5, 'Dispersion')"
      ]
     },
     "metadata": {},
     "execution_count": 20
    },
    {
     "output_type": "display_data",
     "data": {
      "image/png": "[encoded data removed]",
      "text/plain": [
       "<Figure size 432x288 with 1 Axes>"
      ]
     },
     "metadata": {}
    }
   ],
   "metadata": {}
  }
 ],
 "metadata": {
  "orig_nbformat": 4,
  "language_info": {
   "name": "python",
   "version": "3.8.3",
   "mimetype": "text/x-python",
   "codemirror_mode": {
    "name": "ipython",
    "version": 3
   },
   "pygments_lexer": "ipython3",
   "nbconvert_exporter": "python",
   "file_extension": ".py"
  },
  "kernelspec": {
   "name": "python3",
   "display_name": "Python 3.8.3 64-bit ('base': conda)"
  },
  "interpreter": {
   "hash": "b3ba2566441a7c06988d0923437866b63cedc61552a5af99d1f4fb67d367b25f"
  }
 },
 "nbformat": 4,
 "nbformat_minor": 2
}