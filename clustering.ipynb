{
 "cells": [
  {
   "cell_type": "markdown",
   "source": [
    "**Clustering**"
   ],
   "metadata": {}
  },
  {
   "cell_type": "markdown",
   "source": [
    "Clustering (unsupervised Learning) adalah mengelompokkan pelanggan berdasarkan data pelanggan di dealer tanpa memperhatikan label kelas apakah pelanggan tertarik untuk membeli kendaraan baru atau tidak. "
   ],
   "metadata": {}
  },
  {
   "cell_type": "code",
   "execution_count": 40,
   "source": [
    "# Import Library\r\n",
    "\r\n",
    "import pandas as pd\r\n",
    "import numpy as np"
   ],
   "outputs": [],
   "metadata": {}
  },
  {
   "cell_type": "markdown",
   "source": [
    "# Pengenalan Dataset"
   ],
   "metadata": {}
  },
  {
   "cell_type": "markdown",
   "source": [
    "- SIM\t--> 0 : Tidak punya SIM 1 : Punya SIM\r\n",
    "- Kode_Daerah --> Kode area tempat tinggal pelanggan\r\n",
    "- Sudah_Asuransi --> 1 : Pelanggan sudah memiliki asuransi kendaraan, 0 : Pelanggan belum memiliki asuransi kendaraan\r\n",
    "- Umur_Kendaraan --> Umur kendaraan\r\n",
    "- Kendaraan_Rusak --> 1 : Kendaraan pernah rusak sebelumnya. 0 : Kendaraan belum pernah rusak.\r\n",
    "- Premi --> Jumlah premi yang harus dibayarkan per tahun.\r\n",
    "- Kanal_Penjualan --> Kode kanal untuk menghubungi pelanggan (email, telpon, dll)\r\n",
    "- Lama_Berlangganan\t--> Sudah berapa lama pelanggan menjadi klien perusahaan\r\n",
    "- Tertarik --> 1 : Pelanggan tertarik, 0 : Pelanggan tidak tertarik\r\n",
    "\r\n",
    "Clustring tidak membutuhkan kolom 'Tertarik'"
   ],
   "metadata": {}
  },
  {
   "cell_type": "code",
   "execution_count": 41,
   "source": [
    "# Membaca file .csv\r\n",
    "\r\n",
    "df = pd.read_csv(\"kendaraan_train.csv\")\r\n",
    "df.drop([\"Tertarik\"], axis=1,  inplace=True) #Clustering tidak membutuhkan kolom 'Tertarik'\r\n",
    "df.drop([\"id\"], axis=1,  inplace=True)\r\n",
    "\r\n",
    "print(\"Data read into pandas dataframe!\")"
   ],
   "outputs": [
    {
     "output_type": "stream",
     "name": "stdout",
     "text": [
      "Data read into pandas dataframe!\n"
     ]
    }
   ],
   "metadata": {}
  },
  {
   "cell_type": "markdown",
   "source": [
    "# Data Cleaning <a id=\"0\"></a>"
   ],
   "metadata": {}
  },
  {
   "cell_type": "code",
   "execution_count": 42,
   "source": [
    "# Melihat 5 data teratas dari dataset\r\n",
    "\r\n",
    "df.head()"
   ],
   "outputs": [
    {
     "output_type": "execute_result",
     "data": {
      "text/html": [
       "<div>\n",
       "<style scoped>\n",
       "    .dataframe tbody tr th:only-of-type {\n",
       "        vertical-align: middle;\n",
       "    }\n",
       "\n",
       "    .dataframe tbody tr th {\n",
       "        vertical-align: top;\n",
       "    }\n",
       "\n",
       "    .dataframe thead th {\n",
       "        text-align: right;\n",
       "    }\n",
       "</style>\n",
       "<table border=\"1\" class=\"dataframe\">\n",
       "  <thead>\n",
       "    <tr style=\"text-align: right;\">\n",
       "      <th></th>\n",
       "      <th>Jenis_Kelamin</th>\n",
       "      <th>Umur</th>\n",
       "      <th>SIM</th>\n",
       "      <th>Kode_Daerah</th>\n",
       "      <th>Sudah_Asuransi</th>\n",
       "      <th>Umur_Kendaraan</th>\n",
       "      <th>Kendaraan_Rusak</th>\n",
       "      <th>Premi</th>\n",
       "      <th>Kanal_Penjualan</th>\n",
       "      <th>Lama_Berlangganan</th>\n",
       "    </tr>\n",
       "  </thead>\n",
       "  <tbody>\n",
       "    <tr>\n",
       "      <th>0</th>\n",
       "      <td>Wanita</td>\n",
       "      <td>30.0</td>\n",
       "      <td>1.0</td>\n",
       "      <td>33.0</td>\n",
       "      <td>1.0</td>\n",
       "      <td>&lt; 1 Tahun</td>\n",
       "      <td>Tidak</td>\n",
       "      <td>28029.0</td>\n",
       "      <td>152.0</td>\n",
       "      <td>97.0</td>\n",
       "    </tr>\n",
       "    <tr>\n",
       "      <th>1</th>\n",
       "      <td>Pria</td>\n",
       "      <td>48.0</td>\n",
       "      <td>1.0</td>\n",
       "      <td>39.0</td>\n",
       "      <td>0.0</td>\n",
       "      <td>&gt; 2 Tahun</td>\n",
       "      <td>Pernah</td>\n",
       "      <td>25800.0</td>\n",
       "      <td>29.0</td>\n",
       "      <td>158.0</td>\n",
       "    </tr>\n",
       "    <tr>\n",
       "      <th>2</th>\n",
       "      <td>NaN</td>\n",
       "      <td>21.0</td>\n",
       "      <td>1.0</td>\n",
       "      <td>46.0</td>\n",
       "      <td>1.0</td>\n",
       "      <td>&lt; 1 Tahun</td>\n",
       "      <td>Tidak</td>\n",
       "      <td>32733.0</td>\n",
       "      <td>160.0</td>\n",
       "      <td>119.0</td>\n",
       "    </tr>\n",
       "    <tr>\n",
       "      <th>3</th>\n",
       "      <td>Wanita</td>\n",
       "      <td>58.0</td>\n",
       "      <td>1.0</td>\n",
       "      <td>48.0</td>\n",
       "      <td>0.0</td>\n",
       "      <td>1-2 Tahun</td>\n",
       "      <td>Tidak</td>\n",
       "      <td>2630.0</td>\n",
       "      <td>124.0</td>\n",
       "      <td>63.0</td>\n",
       "    </tr>\n",
       "    <tr>\n",
       "      <th>4</th>\n",
       "      <td>Pria</td>\n",
       "      <td>50.0</td>\n",
       "      <td>1.0</td>\n",
       "      <td>35.0</td>\n",
       "      <td>0.0</td>\n",
       "      <td>&gt; 2 Tahun</td>\n",
       "      <td>NaN</td>\n",
       "      <td>34857.0</td>\n",
       "      <td>88.0</td>\n",
       "      <td>194.0</td>\n",
       "    </tr>\n",
       "  </tbody>\n",
       "</table>\n",
       "</div>"
      ],
      "text/plain": [
       "  Jenis_Kelamin  Umur  SIM  Kode_Daerah  Sudah_Asuransi Umur_Kendaraan  \\\n",
       "0        Wanita  30.0  1.0         33.0             1.0      < 1 Tahun   \n",
       "1          Pria  48.0  1.0         39.0             0.0      > 2 Tahun   \n",
       "2           NaN  21.0  1.0         46.0             1.0      < 1 Tahun   \n",
       "3        Wanita  58.0  1.0         48.0             0.0      1-2 Tahun   \n",
       "4          Pria  50.0  1.0         35.0             0.0      > 2 Tahun   \n",
       "\n",
       "  Kendaraan_Rusak    Premi  Kanal_Penjualan  Lama_Berlangganan  \n",
       "0           Tidak  28029.0            152.0               97.0  \n",
       "1          Pernah  25800.0             29.0              158.0  \n",
       "2           Tidak  32733.0            160.0              119.0  \n",
       "3           Tidak   2630.0            124.0               63.0  \n",
       "4             NaN  34857.0             88.0              194.0  "
      ]
     },
     "metadata": {},
     "execution_count": 42
    }
   ],
   "metadata": {}
  },
  {
   "cell_type": "code",
   "execution_count": 43,
   "source": [
    "# Melihat 5 data terbawah dari dataset\r\n",
    "\r\n",
    "df.tail()"
   ],
   "outputs": [
    {
     "output_type": "execute_result",
     "data": {
      "text/html": [
       "<div>\n",
       "<style scoped>\n",
       "    .dataframe tbody tr th:only-of-type {\n",
       "        vertical-align: middle;\n",
       "    }\n",
       "\n",
       "    .dataframe tbody tr th {\n",
       "        vertical-align: top;\n",
       "    }\n",
       "\n",
       "    .dataframe thead th {\n",
       "        text-align: right;\n",
       "    }\n",
       "</style>\n",
       "<table border=\"1\" class=\"dataframe\">\n",
       "  <thead>\n",
       "    <tr style=\"text-align: right;\">\n",
       "      <th></th>\n",
       "      <th>Jenis_Kelamin</th>\n",
       "      <th>Umur</th>\n",
       "      <th>SIM</th>\n",
       "      <th>Kode_Daerah</th>\n",
       "      <th>Sudah_Asuransi</th>\n",
       "      <th>Umur_Kendaraan</th>\n",
       "      <th>Kendaraan_Rusak</th>\n",
       "      <th>Premi</th>\n",
       "      <th>Kanal_Penjualan</th>\n",
       "      <th>Lama_Berlangganan</th>\n",
       "    </tr>\n",
       "  </thead>\n",
       "  <tbody>\n",
       "    <tr>\n",
       "      <th>285826</th>\n",
       "      <td>Wanita</td>\n",
       "      <td>23.0</td>\n",
       "      <td>1.0</td>\n",
       "      <td>4.0</td>\n",
       "      <td>1.0</td>\n",
       "      <td>&lt; 1 Tahun</td>\n",
       "      <td>Tidak</td>\n",
       "      <td>25988.0</td>\n",
       "      <td>152.0</td>\n",
       "      <td>217.0</td>\n",
       "    </tr>\n",
       "    <tr>\n",
       "      <th>285827</th>\n",
       "      <td>Wanita</td>\n",
       "      <td>21.0</td>\n",
       "      <td>1.0</td>\n",
       "      <td>46.0</td>\n",
       "      <td>1.0</td>\n",
       "      <td>&lt; 1 Tahun</td>\n",
       "      <td>Tidak</td>\n",
       "      <td>44686.0</td>\n",
       "      <td>152.0</td>\n",
       "      <td>50.0</td>\n",
       "    </tr>\n",
       "    <tr>\n",
       "      <th>285828</th>\n",
       "      <td>Wanita</td>\n",
       "      <td>23.0</td>\n",
       "      <td>1.0</td>\n",
       "      <td>50.0</td>\n",
       "      <td>1.0</td>\n",
       "      <td>&lt; 1 Tahun</td>\n",
       "      <td>Tidak</td>\n",
       "      <td>49751.0</td>\n",
       "      <td>152.0</td>\n",
       "      <td>226.0</td>\n",
       "    </tr>\n",
       "    <tr>\n",
       "      <th>285829</th>\n",
       "      <td>Pria</td>\n",
       "      <td>68.0</td>\n",
       "      <td>1.0</td>\n",
       "      <td>7.0</td>\n",
       "      <td>1.0</td>\n",
       "      <td>1-2 Tahun</td>\n",
       "      <td>Tidak</td>\n",
       "      <td>30503.0</td>\n",
       "      <td>124.0</td>\n",
       "      <td>270.0</td>\n",
       "    </tr>\n",
       "    <tr>\n",
       "      <th>285830</th>\n",
       "      <td>Pria</td>\n",
       "      <td>45.0</td>\n",
       "      <td>1.0</td>\n",
       "      <td>28.0</td>\n",
       "      <td>0.0</td>\n",
       "      <td>1-2 Tahun</td>\n",
       "      <td>Pernah</td>\n",
       "      <td>36480.0</td>\n",
       "      <td>26.0</td>\n",
       "      <td>44.0</td>\n",
       "    </tr>\n",
       "  </tbody>\n",
       "</table>\n",
       "</div>"
      ],
      "text/plain": [
       "       Jenis_Kelamin  Umur  SIM  Kode_Daerah  Sudah_Asuransi Umur_Kendaraan  \\\n",
       "285826        Wanita  23.0  1.0          4.0             1.0      < 1 Tahun   \n",
       "285827        Wanita  21.0  1.0         46.0             1.0      < 1 Tahun   \n",
       "285828        Wanita  23.0  1.0         50.0             1.0      < 1 Tahun   \n",
       "285829          Pria  68.0  1.0          7.0             1.0      1-2 Tahun   \n",
       "285830          Pria  45.0  1.0         28.0             0.0      1-2 Tahun   \n",
       "\n",
       "       Kendaraan_Rusak    Premi  Kanal_Penjualan  Lama_Berlangganan  \n",
       "285826           Tidak  25988.0            152.0              217.0  \n",
       "285827           Tidak  44686.0            152.0               50.0  \n",
       "285828           Tidak  49751.0            152.0              226.0  \n",
       "285829           Tidak  30503.0            124.0              270.0  \n",
       "285830          Pernah  36480.0             26.0               44.0  "
      ]
     },
     "metadata": {},
     "execution_count": 43
    }
   ],
   "metadata": {}
  },
  {
   "cell_type": "code",
   "execution_count": 44,
   "source": [
    "# Melihat ukuran dataset\r\n",
    "\r\n",
    "df.shape"
   ],
   "outputs": [
    {
     "output_type": "execute_result",
     "data": {
      "text/plain": [
       "(285831, 10)"
      ]
     },
     "metadata": {},
     "execution_count": 44
    }
   ],
   "metadata": {}
  },
  {
   "cell_type": "code",
   "execution_count": 45,
   "source": [
    "# Melihat jenis data dataset\r\n",
    "\r\n",
    "df.info()"
   ],
   "outputs": [
    {
     "output_type": "stream",
     "name": "stdout",
     "text": [
      "<class 'pandas.core.frame.DataFrame'>\n",
      "RangeIndex: 285831 entries, 0 to 285830\n",
      "Data columns (total 10 columns):\n",
      " #   Column             Non-Null Count   Dtype  \n",
      "---  ------             --------------   -----  \n",
      " 0   Jenis_Kelamin      271391 non-null  object \n",
      " 1   Umur               271617 non-null  float64\n",
      " 2   SIM                271427 non-null  float64\n",
      " 3   Kode_Daerah        271525 non-null  float64\n",
      " 4   Sudah_Asuransi     271602 non-null  float64\n",
      " 5   Umur_Kendaraan     271556 non-null  object \n",
      " 6   Kendaraan_Rusak    271643 non-null  object \n",
      " 7   Premi              271262 non-null  float64\n",
      " 8   Kanal_Penjualan    271532 non-null  float64\n",
      " 9   Lama_Berlangganan  271839 non-null  float64\n",
      "dtypes: float64(7), object(3)\n",
      "memory usage: 21.8+ MB\n"
     ]
    }
   ],
   "metadata": {}
  },
  {
   "cell_type": "code",
   "execution_count": 46,
   "source": [
    "# Pengecekan data kosong\r\n",
    "\r\n",
    "df.isnull().sum()"
   ],
   "outputs": [
    {
     "output_type": "execute_result",
     "data": {
      "text/plain": [
       "Jenis_Kelamin        14440\n",
       "Umur                 14214\n",
       "SIM                  14404\n",
       "Kode_Daerah          14306\n",
       "Sudah_Asuransi       14229\n",
       "Umur_Kendaraan       14275\n",
       "Kendaraan_Rusak      14188\n",
       "Premi                14569\n",
       "Kanal_Penjualan      14299\n",
       "Lama_Berlangganan    13992\n",
       "dtype: int64"
      ]
     },
     "metadata": {},
     "execution_count": 46
    }
   ],
   "metadata": {}
  },
  {
   "cell_type": "code",
   "execution_count": 47,
   "source": [
    "# Menghapus data kosong\r\n",
    "\r\n",
    "df = df.dropna()"
   ],
   "outputs": [],
   "metadata": {}
  },
  {
   "cell_type": "code",
   "execution_count": 48,
   "source": [
    "# Melakukan cek kembali data kosong\r\n",
    "\r\n",
    "df.isnull().sum()"
   ],
   "outputs": [
    {
     "output_type": "execute_result",
     "data": {
      "text/plain": [
       "Jenis_Kelamin        0\n",
       "Umur                 0\n",
       "SIM                  0\n",
       "Kode_Daerah          0\n",
       "Sudah_Asuransi       0\n",
       "Umur_Kendaraan       0\n",
       "Kendaraan_Rusak      0\n",
       "Premi                0\n",
       "Kanal_Penjualan      0\n",
       "Lama_Berlangganan    0\n",
       "dtype: int64"
      ]
     },
     "metadata": {},
     "execution_count": 48
    }
   ],
   "metadata": {}
  },
  {
   "cell_type": "markdown",
   "source": [
    "# Preprocessing <a id=\"0\"></a>"
   ],
   "metadata": {}
  },
  {
   "cell_type": "code",
   "execution_count": 49,
   "source": [
    "object_column = df.select_dtypes(['object']).columns\r\n",
    "\r\n",
    "category_column = df.select_dtypes(['category']).columns\r\n",
    "df[object_column]=df[object_column].apply(lambda x: x.astype('category'))\r\n",
    "df.info()"
   ],
   "outputs": [
    {
     "output_type": "stream",
     "name": "stdout",
     "text": [
      "<class 'pandas.core.frame.DataFrame'>\n",
      "Int64Index: 171068 entries, 0 to 285830\n",
      "Data columns (total 10 columns):\n",
      " #   Column             Non-Null Count   Dtype   \n",
      "---  ------             --------------   -----   \n",
      " 0   Jenis_Kelamin      171068 non-null  category\n",
      " 1   Umur               171068 non-null  float64 \n",
      " 2   SIM                171068 non-null  float64 \n",
      " 3   Kode_Daerah        171068 non-null  float64 \n",
      " 4   Sudah_Asuransi     171068 non-null  float64 \n",
      " 5   Umur_Kendaraan     171068 non-null  category\n",
      " 6   Kendaraan_Rusak    171068 non-null  category\n",
      " 7   Premi              171068 non-null  float64 \n",
      " 8   Kanal_Penjualan    171068 non-null  float64 \n",
      " 9   Lama_Berlangganan  171068 non-null  float64 \n",
      "dtypes: category(3), float64(7)\n",
      "memory usage: 10.9 MB\n"
     ]
    }
   ],
   "metadata": {}
  },
  {
   "cell_type": "code",
   "execution_count": 50,
   "source": [
    "df[object_column] = df[object_column].apply(lambda x: x.cat.codes)\r\n",
    "df[category_column] = df[category_column].apply(lambda x: x.cat.codes)"
   ],
   "outputs": [],
   "metadata": {}
  },
  {
   "cell_type": "markdown",
   "source": [
    "# Clustering K-Means <a id=\"0\"></a>"
   ],
   "metadata": {}
  },
  {
   "cell_type": "markdown",
   "source": [
    "Akan digunakan 2D Dataset. Kolom yang akan digunakan adalah Premi dan Lama_Berlangganan. Data akan dikelompokan berdasarkan kedua kolom tersebut. Fitur:\r\n",
    "- Premi(float): Jumlah premi yang harus dibayarkan per tahun.\r\n",
    "- Lama_Berlangganan(float): Sudah berapa lama pelanggan menjadi klien perusahaan"
   ],
   "metadata": {}
  },
  {
   "cell_type": "markdown",
   "source": [
    "Selanjutnya akan dilakukan plotting data."
   ],
   "metadata": {}
  },
  {
   "cell_type": "code",
   "execution_count": 51,
   "source": [
    "#import library\r\n",
    "\r\n",
    "import matplotlib.pyplot as plt\r\n",
    "from matplotlib.image import imread\r\n",
    "import pandas as pd\r\n",
    "import seaborn as sns\r\n",
    "import scipy.spatial.distance as metric\r\n",
    "                                            \r\n",
    "%matplotlib inline\r\n",
    "sns.set_context('notebook')\r\n",
    "plt.style.use('fivethirtyeight')\r\n",
    "from warnings import filterwarnings\r\n",
    "filterwarnings('ignore')"
   ],
   "outputs": [],
   "metadata": {}
  },
  {
   "cell_type": "code",
   "execution_count": 100,
   "source": [
    "df.head()"
   ],
   "outputs": [
    {
     "output_type": "execute_result",
     "data": {
      "text/html": [
       "<div>\n",
       "<style scoped>\n",
       "    .dataframe tbody tr th:only-of-type {\n",
       "        vertical-align: middle;\n",
       "    }\n",
       "\n",
       "    .dataframe tbody tr th {\n",
       "        vertical-align: top;\n",
       "    }\n",
       "\n",
       "    .dataframe thead th {\n",
       "        text-align: right;\n",
       "    }\n",
       "</style>\n",
       "<table border=\"1\" class=\"dataframe\">\n",
       "  <thead>\n",
       "    <tr style=\"text-align: right;\">\n",
       "      <th></th>\n",
       "      <th>Jenis_Kelamin</th>\n",
       "      <th>Umur</th>\n",
       "      <th>SIM</th>\n",
       "      <th>Kode_Daerah</th>\n",
       "      <th>Sudah_Asuransi</th>\n",
       "      <th>Umur_Kendaraan</th>\n",
       "      <th>Kendaraan_Rusak</th>\n",
       "      <th>Premi</th>\n",
       "      <th>Kanal_Penjualan</th>\n",
       "      <th>Lama_Berlangganan</th>\n",
       "    </tr>\n",
       "  </thead>\n",
       "  <tbody>\n",
       "    <tr>\n",
       "      <th>0</th>\n",
       "      <td>1</td>\n",
       "      <td>30.0</td>\n",
       "      <td>1.0</td>\n",
       "      <td>33.0</td>\n",
       "      <td>1.0</td>\n",
       "      <td>1</td>\n",
       "      <td>1</td>\n",
       "      <td>28029.0</td>\n",
       "      <td>152.0</td>\n",
       "      <td>97.0</td>\n",
       "    </tr>\n",
       "    <tr>\n",
       "      <th>1</th>\n",
       "      <td>0</td>\n",
       "      <td>48.0</td>\n",
       "      <td>1.0</td>\n",
       "      <td>39.0</td>\n",
       "      <td>0.0</td>\n",
       "      <td>2</td>\n",
       "      <td>0</td>\n",
       "      <td>25800.0</td>\n",
       "      <td>29.0</td>\n",
       "      <td>158.0</td>\n",
       "    </tr>\n",
       "    <tr>\n",
       "      <th>3</th>\n",
       "      <td>1</td>\n",
       "      <td>58.0</td>\n",
       "      <td>1.0</td>\n",
       "      <td>48.0</td>\n",
       "      <td>0.0</td>\n",
       "      <td>0</td>\n",
       "      <td>1</td>\n",
       "      <td>2630.0</td>\n",
       "      <td>124.0</td>\n",
       "      <td>63.0</td>\n",
       "    </tr>\n",
       "    <tr>\n",
       "      <th>5</th>\n",
       "      <td>0</td>\n",
       "      <td>21.0</td>\n",
       "      <td>1.0</td>\n",
       "      <td>35.0</td>\n",
       "      <td>1.0</td>\n",
       "      <td>1</td>\n",
       "      <td>1</td>\n",
       "      <td>22735.0</td>\n",
       "      <td>152.0</td>\n",
       "      <td>171.0</td>\n",
       "    </tr>\n",
       "    <tr>\n",
       "      <th>8</th>\n",
       "      <td>1</td>\n",
       "      <td>20.0</td>\n",
       "      <td>1.0</td>\n",
       "      <td>8.0</td>\n",
       "      <td>1.0</td>\n",
       "      <td>1</td>\n",
       "      <td>1</td>\n",
       "      <td>30786.0</td>\n",
       "      <td>160.0</td>\n",
       "      <td>31.0</td>\n",
       "    </tr>\n",
       "  </tbody>\n",
       "</table>\n",
       "</div>"
      ],
      "text/plain": [
       "   Jenis_Kelamin  Umur  SIM  Kode_Daerah  Sudah_Asuransi  Umur_Kendaraan  \\\n",
       "0              1  30.0  1.0         33.0             1.0               1   \n",
       "1              0  48.0  1.0         39.0             0.0               2   \n",
       "3              1  58.0  1.0         48.0             0.0               0   \n",
       "5              0  21.0  1.0         35.0             1.0               1   \n",
       "8              1  20.0  1.0          8.0             1.0               1   \n",
       "\n",
       "   Kendaraan_Rusak    Premi  Kanal_Penjualan  Lama_Berlangganan  \n",
       "0                1  28029.0            152.0               97.0  \n",
       "1                0  25800.0             29.0              158.0  \n",
       "3                1   2630.0            124.0               63.0  \n",
       "5                1  22735.0            152.0              171.0  \n",
       "8                1  30786.0            160.0               31.0  "
      ]
     },
     "metadata": {},
     "execution_count": 100
    }
   ],
   "metadata": {}
  },
  {
   "cell_type": "code",
   "execution_count": 103,
   "source": [
    "corr = df.corr()\r\n",
    "corr\r\n",
    "#sns.heatmap(corr, xticklabels=corr.columns, yticklabels=corr.columns, annot=True, )"
   ],
   "outputs": [
    {
     "output_type": "execute_result",
     "data": {
      "text/html": [
       "<div>\n",
       "<style scoped>\n",
       "    .dataframe tbody tr th:only-of-type {\n",
       "        vertical-align: middle;\n",
       "    }\n",
       "\n",
       "    .dataframe tbody tr th {\n",
       "        vertical-align: top;\n",
       "    }\n",
       "\n",
       "    .dataframe thead th {\n",
       "        text-align: right;\n",
       "    }\n",
       "</style>\n",
       "<table border=\"1\" class=\"dataframe\">\n",
       "  <thead>\n",
       "    <tr style=\"text-align: right;\">\n",
       "      <th></th>\n",
       "      <th>Jenis_Kelamin</th>\n",
       "      <th>Umur</th>\n",
       "      <th>SIM</th>\n",
       "      <th>Kode_Daerah</th>\n",
       "      <th>Sudah_Asuransi</th>\n",
       "      <th>Umur_Kendaraan</th>\n",
       "      <th>Kendaraan_Rusak</th>\n",
       "      <th>Premi</th>\n",
       "      <th>Kanal_Penjualan</th>\n",
       "      <th>Lama_Berlangganan</th>\n",
       "    </tr>\n",
       "  </thead>\n",
       "  <tbody>\n",
       "    <tr>\n",
       "      <th>Jenis_Kelamin</th>\n",
       "      <td>1.000000</td>\n",
       "      <td>-0.145438</td>\n",
       "      <td>0.018742</td>\n",
       "      <td>-0.002656</td>\n",
       "      <td>0.082809</td>\n",
       "      <td>0.115970</td>\n",
       "      <td>0.092064</td>\n",
       "      <td>-0.003023</td>\n",
       "      <td>0.114058</td>\n",
       "      <td>0.002175</td>\n",
       "    </tr>\n",
       "    <tr>\n",
       "      <th>Umur</th>\n",
       "      <td>-0.145438</td>\n",
       "      <td>1.000000</td>\n",
       "      <td>-0.078543</td>\n",
       "      <td>0.044256</td>\n",
       "      <td>-0.256815</td>\n",
       "      <td>-0.525058</td>\n",
       "      <td>-0.269755</td>\n",
       "      <td>0.063838</td>\n",
       "      <td>-0.576009</td>\n",
       "      <td>-0.001032</td>\n",
       "    </tr>\n",
       "    <tr>\n",
       "      <th>SIM</th>\n",
       "      <td>0.018742</td>\n",
       "      <td>-0.078543</td>\n",
       "      <td>1.000000</td>\n",
       "      <td>-0.005862</td>\n",
       "      <td>0.016459</td>\n",
       "      <td>0.029913</td>\n",
       "      <td>0.019149</td>\n",
       "      <td>-0.012864</td>\n",
       "      <td>0.041575</td>\n",
       "      <td>0.001739</td>\n",
       "    </tr>\n",
       "    <tr>\n",
       "      <th>Kode_Daerah</th>\n",
       "      <td>-0.002656</td>\n",
       "      <td>0.044256</td>\n",
       "      <td>-0.005862</td>\n",
       "      <td>1.000000</td>\n",
       "      <td>-0.024393</td>\n",
       "      <td>-0.027249</td>\n",
       "      <td>-0.026729</td>\n",
       "      <td>-0.012462</td>\n",
       "      <td>-0.043988</td>\n",
       "      <td>-0.003798</td>\n",
       "    </tr>\n",
       "    <tr>\n",
       "      <th>Sudah_Asuransi</th>\n",
       "      <td>0.082809</td>\n",
       "      <td>-0.256815</td>\n",
       "      <td>0.016459</td>\n",
       "      <td>-0.024393</td>\n",
       "      <td>1.000000</td>\n",
       "      <td>0.175825</td>\n",
       "      <td>0.826157</td>\n",
       "      <td>0.003988</td>\n",
       "      <td>0.221583</td>\n",
       "      <td>0.002902</td>\n",
       "    </tr>\n",
       "    <tr>\n",
       "      <th>Umur_Kendaraan</th>\n",
       "      <td>0.115970</td>\n",
       "      <td>-0.525058</td>\n",
       "      <td>0.029913</td>\n",
       "      <td>-0.027249</td>\n",
       "      <td>0.175825</td>\n",
       "      <td>1.000000</td>\n",
       "      <td>0.176561</td>\n",
       "      <td>0.024222</td>\n",
       "      <td>0.393338</td>\n",
       "      <td>0.001483</td>\n",
       "    </tr>\n",
       "    <tr>\n",
       "      <th>Kendaraan_Rusak</th>\n",
       "      <td>0.092064</td>\n",
       "      <td>-0.269755</td>\n",
       "      <td>0.019149</td>\n",
       "      <td>-0.026729</td>\n",
       "      <td>0.826157</td>\n",
       "      <td>0.176561</td>\n",
       "      <td>1.000000</td>\n",
       "      <td>-0.008673</td>\n",
       "      <td>0.226667</td>\n",
       "      <td>0.002023</td>\n",
       "    </tr>\n",
       "    <tr>\n",
       "      <th>Premi</th>\n",
       "      <td>-0.003023</td>\n",
       "      <td>0.063838</td>\n",
       "      <td>-0.012864</td>\n",
       "      <td>-0.012462</td>\n",
       "      <td>0.003988</td>\n",
       "      <td>0.024222</td>\n",
       "      <td>-0.008673</td>\n",
       "      <td>1.000000</td>\n",
       "      <td>-0.112297</td>\n",
       "      <td>-0.001260</td>\n",
       "    </tr>\n",
       "    <tr>\n",
       "      <th>Kanal_Penjualan</th>\n",
       "      <td>0.114058</td>\n",
       "      <td>-0.576009</td>\n",
       "      <td>0.041575</td>\n",
       "      <td>-0.043988</td>\n",
       "      <td>0.221583</td>\n",
       "      <td>0.393338</td>\n",
       "      <td>0.226667</td>\n",
       "      <td>-0.112297</td>\n",
       "      <td>1.000000</td>\n",
       "      <td>0.000878</td>\n",
       "    </tr>\n",
       "    <tr>\n",
       "      <th>Lama_Berlangganan</th>\n",
       "      <td>0.002175</td>\n",
       "      <td>-0.001032</td>\n",
       "      <td>0.001739</td>\n",
       "      <td>-0.003798</td>\n",
       "      <td>0.002902</td>\n",
       "      <td>0.001483</td>\n",
       "      <td>0.002023</td>\n",
       "      <td>-0.001260</td>\n",
       "      <td>0.000878</td>\n",
       "      <td>1.000000</td>\n",
       "    </tr>\n",
       "  </tbody>\n",
       "</table>\n",
       "</div>"
      ],
      "text/plain": [
       "                   Jenis_Kelamin      Umur       SIM  Kode_Daerah  \\\n",
       "Jenis_Kelamin           1.000000 -0.145438  0.018742    -0.002656   \n",
       "Umur                   -0.145438  1.000000 -0.078543     0.044256   \n",
       "SIM                     0.018742 -0.078543  1.000000    -0.005862   \n",
       "Kode_Daerah            -0.002656  0.044256 -0.005862     1.000000   \n",
       "Sudah_Asuransi          0.082809 -0.256815  0.016459    -0.024393   \n",
       "Umur_Kendaraan          0.115970 -0.525058  0.029913    -0.027249   \n",
       "Kendaraan_Rusak         0.092064 -0.269755  0.019149    -0.026729   \n",
       "Premi                  -0.003023  0.063838 -0.012864    -0.012462   \n",
       "Kanal_Penjualan         0.114058 -0.576009  0.041575    -0.043988   \n",
       "Lama_Berlangganan       0.002175 -0.001032  0.001739    -0.003798   \n",
       "\n",
       "                   Sudah_Asuransi  Umur_Kendaraan  Kendaraan_Rusak     Premi  \\\n",
       "Jenis_Kelamin            0.082809        0.115970         0.092064 -0.003023   \n",
       "Umur                    -0.256815       -0.525058        -0.269755  0.063838   \n",
       "SIM                      0.016459        0.029913         0.019149 -0.012864   \n",
       "Kode_Daerah             -0.024393       -0.027249        -0.026729 -0.012462   \n",
       "Sudah_Asuransi           1.000000        0.175825         0.826157  0.003988   \n",
       "Umur_Kendaraan           0.175825        1.000000         0.176561  0.024222   \n",
       "Kendaraan_Rusak          0.826157        0.176561         1.000000 -0.008673   \n",
       "Premi                    0.003988        0.024222        -0.008673  1.000000   \n",
       "Kanal_Penjualan          0.221583        0.393338         0.226667 -0.112297   \n",
       "Lama_Berlangganan        0.002902        0.001483         0.002023 -0.001260   \n",
       "\n",
       "                   Kanal_Penjualan  Lama_Berlangganan  \n",
       "Jenis_Kelamin             0.114058           0.002175  \n",
       "Umur                     -0.576009          -0.001032  \n",
       "SIM                       0.041575           0.001739  \n",
       "Kode_Daerah              -0.043988          -0.003798  \n",
       "Sudah_Asuransi            0.221583           0.002902  \n",
       "Umur_Kendaraan            0.393338           0.001483  \n",
       "Kendaraan_Rusak           0.226667           0.002023  \n",
       "Premi                    -0.112297          -0.001260  \n",
       "Kanal_Penjualan           1.000000           0.000878  \n",
       "Lama_Berlangganan         0.000878           1.000000  "
      ]
     },
     "metadata": {},
     "execution_count": 103
    }
   ],
   "metadata": {}
  },
  {
   "cell_type": "code",
   "execution_count": 97,
   "source": [
    "df1 = df[['Umur', 'Premi']].copy()\r\n",
    "df1 = df1.drop(df1[df1.Premi == df1.Premi.min()].index)\r\n",
    "#data = data.drop(data[data.Premi == data.Premi.min()].index)\r\n",
    "df1 = df1[:1000] #Hanya menggunakan 1000 data"
   ],
   "outputs": [],
   "metadata": {}
  },
  {
   "cell_type": "code",
   "execution_count": 96,
   "source": [
    "plt.figure(figsize=(6, 6))\r\n",
    "plt.scatter(df1.iloc[:, 0], df1.iloc[:, 1])\r\n",
    "plt.ylabel('Premi yang harus dibayar')\r\n",
    "plt.xlabel('Umur')\r\n",
    "plt.title('Visualization of raw data')"
   ],
   "outputs": [
    {
     "output_type": "execute_result",
     "data": {
      "text/plain": [
       "Text(0.5, 1.0, 'Visualization of raw data')"
      ]
     },
     "metadata": {},
     "execution_count": 96
    },
    {
     "output_type": "display_data",
     "data": {
      "image/png": "[encoded data removed]",
      "text/plain": [
       "<Figure size 432x432 with 1 Axes>"
      ]
     },
     "metadata": {}
    }
   ],
   "metadata": {}
  },
  {
   "cell_type": "markdown",
   "source": [
    "Algo Kedua + Elbow Method"
   ],
   "metadata": {}
  },
  {
   "cell_type": "code",
   "execution_count": 67,
   "source": [
    "def euclidean_dist(A, B):\r\n",
    "    return metric.euclidean(A, B)\r\n",
    "\r\n",
    "def plot(data,k,index,centroids,orig_centroids):\r\n",
    "    input = []\r\n",
    "    for i in range(len(index)):\r\n",
    "        for j in index[i]:\r\n",
    "            input.append(int(j))\r\n",
    "            \r\n",
    "    colors = 10*[\"g\",\"r\",\"c\",\"b\",\"k\"]\r\n",
    "    j=0\r\n",
    "    for i in input:\r\n",
    "        plt.scatter(data[j,0], data[j,1], marker=\"o\", color=colors[i], s=50, linewidths=5)\r\n",
    "        j+=1\r\n",
    "\r\n",
    "    ## New centroids\r\n",
    "    for centroid in range(len(centroids)):\r\n",
    "        plt.scatter(centroids[centroid][0],centroids[centroid][1],marker=\"o\", color=\"k\", s=50, linewidths=5)\r\n",
    "    \r\n",
    "    # Original Clusters\r\n",
    "    for centroid in range(len(orig_centroids)):\r\n",
    "        plt.scatter(orig_centroids[centroid][0],orig_centroids[centroid][1],marker=\"D\", color=\"DarkBlue\", s=50, linewidths=5)"
   ],
   "outputs": [],
   "metadata": {}
  },
  {
   "cell_type": "code",
   "execution_count": 68,
   "source": [
    "class K_Means:\r\n",
    "    def __init__(self,k,data,centroid_init=None):\r\n",
    "        self.k = k\r\n",
    "        self.data = data  \r\n",
    "        self.centroid_init = centroid_init\r\n",
    "        \r\n",
    "    def initialise_centroids(self,centroid_init,k,data):\r\n",
    "        ## 3 ways to initialize centroides\r\n",
    "        if(self.centroid_init == 'random'): \r\n",
    "            initial_centroids = np.random.permutation(data.shape[0])[:self.k]\r\n",
    "            self.centroids = data[initial_centroids]\r\n",
    "        elif(self.centroid_init == 'firstk'):\r\n",
    "            self.centroids = data[:k]\r\n",
    "        else:\r\n",
    "            for i in range(self.k):\r\n",
    "                self.centroids.append(i%self.k)\r\n",
    "        return self.centroids    \r\n",
    " \r\n",
    "    def fit(self,data):\r\n",
    "        m = np.shape(data)[0]\r\n",
    "        cluster_assignments = np.mat(np.zeros((m,2)))\r\n",
    "        \r\n",
    "        cents = self.initialise_centroids(self.centroid_init,self.k,data)\r\n",
    "        \r\n",
    "        # Preserve original centroids\r\n",
    "        cents_orig = cents.copy()\r\n",
    "        changed = True\r\n",
    "        num_iter = 0\r\n",
    "        \r\n",
    "        while changed and num_iter < 100:\r\n",
    "            changed = False\r\n",
    "\r\n",
    "            # for each row in the dataset\r\n",
    "            for i in range(m):\r\n",
    "\r\n",
    "                # Track minimum distance and vector index of associated cluster\r\n",
    "                min_dist = np.inf\r\n",
    "                min_index = -1\r\n",
    "\r\n",
    "                #calculate distance \r\n",
    "                for j in range(self.k):\r\n",
    "                    dist_ji = euclidean_dist(cents[j,:],data[i,:])\r\n",
    "                    if(dist_ji < min_dist):\r\n",
    "                        min_dist = dist_ji\r\n",
    "                        min_index = j\r\n",
    "                        \r\n",
    "                    # Check if cluster assignment of instance has changed\r\n",
    "                    if cluster_assignments[i, 0] != min_index: \r\n",
    "                        changed = True\r\n",
    "\r\n",
    "                # Assign instance to appropriate cluster\r\n",
    "                cluster_assignments[i, :] = min_index, min_dist**2\r\n",
    "\r\n",
    "            # Update centroid location\r\n",
    "            for cent in range(self.k):\r\n",
    "                points = data[np.nonzero(cluster_assignments[:,0].A==cent)[0]]\r\n",
    "                cents[cent,:] = np.mean(points, axis=0)\r\n",
    "    \r\n",
    "            # Count iterations\r\n",
    "            num_iter += 1\r\n",
    "            #print(num_iter)\r\n",
    "\r\n",
    "         # Return important stuff when done\r\n",
    "        return cents, cluster_assignments, num_iter, cents_orig"
   ],
   "outputs": [],
   "metadata": {}
  },
  {
   "cell_type": "code",
   "execution_count": 95,
   "source": [
    "new = df1.to_numpy()\r\n",
    "kmeans = K_Means(k=2, data = new, centroid_init='random')\r\n",
    "centroids, cluster_assignments, iters, orig_centroids = kmeans.fit(new)\r\n",
    "index = cluster_assignments[:,0] ## This has the cluster assignment 0,1,.... \r\n",
    "distance = cluster_assignments[:,1]  ## This has the distance from their respective centroides for evaluation purposes \r\n",
    "\r\n",
    "k=2\r\n",
    "plot(new,k,index,centroids,orig_centroids)"
   ],
   "outputs": [
    {
     "output_type": "display_data",
     "data": {
      "image/png": "[encoded data removed]",
      "text/plain": [
       "<Figure size 432x288 with 1 Axes>"
      ]
     },
     "metadata": {}
    }
   ],
   "metadata": {}
  },
  {
   "cell_type": "code",
   "execution_count": 94,
   "source": [
    "costs = []\r\n",
    "for i in range(10):\r\n",
    "    kmeans = K_Means(k=i, data = new, centroid_init='firstk')\r\n",
    "    centroids, cluster_assignments, iters, orig_centroids = kmeans.fit(new)\r\n",
    "    distance = cluster_assignments[:,1]  ## This has the distance from their respective centroides for evaluation purposes \r\n",
    "    cost = sum(distance)/(2*len(new))\r\n",
    "    cost = np.array(cost)\r\n",
    "    cost = cost.item()\r\n",
    "    costs.append(cost)\r\n",
    "    \r\n",
    "x = np.arange(10)\r\n",
    "plt.plot(x,costs)\r\n",
    "plt.title(\"Elbow curve\")\r\n",
    "plt.xlabel(\"K\")\r\n",
    "plt.ylabel(\"Dispersion\")"
   ],
   "outputs": [
    {
     "output_type": "execute_result",
     "data": {
      "text/plain": [
       "Text(0, 0.5, 'Dispersion')"
      ]
     },
     "metadata": {},
     "execution_count": 94
    },
    {
     "output_type": "display_data",
     "data": {
      "image/png": "[encoded data removed]",
      "text/plain": [
       "<Figure size 432x288 with 1 Axes>"
      ]
     },
     "metadata": {}
    }
   ],
   "metadata": {}
  }
 ],
 "metadata": {
  "orig_nbformat": 4,
  "language_info": {
   "name": "python",
   "version": "3.8.3",
   "mimetype": "text/x-python",
   "codemirror_mode": {
    "name": "ipython",
    "version": 3
   },
   "pygments_lexer": "ipython3",
   "nbconvert_exporter": "python",
   "file_extension": ".py"
  },
  "kernelspec": {
   "name": "python3",
   "display_name": "Python 3.8.3 64-bit ('base': conda)"
  },
  "interpreter": {
   "hash": "b3ba2566441a7c06988d0923437866b63cedc61552a5af99d1f4fb67d367b25f"
  }
 },
 "nbformat": 4,
 "nbformat_minor": 2
}