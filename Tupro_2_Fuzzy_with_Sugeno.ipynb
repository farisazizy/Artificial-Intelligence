{
  "nbformat": 4,
  "nbformat_minor": 0,
  "metadata": {
    "colab": {
      "name": "Tupro 2: Fuzzy with Sugeno.ipynb",
      "provenance": [],
      "collapsed_sections": [],
      "authorship_tag": "ABX9TyOF4J9TA2mpRxBK8Uqgl929",
      "include_colab_link": true
    },
    "kernelspec": {
      "display_name": "Python 3",
      "name": "python3"
    },
    "language_info": {
      "name": "python"
    }
  },
  "cells": [
    {
      "cell_type": "markdown",
      "metadata": {
        "id": "view-in-github",
        "colab_type": "text"
      },
      "source": [
        "<a href=\"https://colab.research.google.com/github/farisazizy/Artificial-Intelligence/blob/main/Tupro_2_Fuzzy_with_Sugeno.ipynb\" target=\"_parent\"><img src=\"https://colab.research.google.com/assets/colab-badge.svg\" alt=\"Open In Colab\"/></a>"
      ]
    },
    {
      "cell_type": "code",
      "metadata": {
        "id": "VMox-MNl_NgH"
      },
      "source": [
        "def trapesium(x, a, b, c, d):\n",
        "  if x <= a or x >= d:\n",
        "    return 0\n",
        "  if a < x and x < b:\n",
        "    return (x-a)/(b-a)\n",
        "  if b <= x and x <= d:\n",
        "    return 1\n",
        "  if c < x and x <= d: \n",
        "    return -(x-d)/(d-c)"
      ],
      "execution_count": 112,
      "outputs": []
    },
    {
      "cell_type": "code",
      "metadata": {
        "id": "OsBy4l_v_GIq"
      },
      "source": [
        "def segitiga(x, a, b, c):\n",
        "  if x <= a or x >= c:\n",
        "    return 0\n",
        "  if x == b:\n",
        "    return 1\n",
        "  if a < x and x <= b:\n",
        "    return (x-a)/(b-a)\n",
        "  if b < x and x <= c:\n",
        "    return -(x-c)/(c-b)"
      ],
      "execution_count": 182,
      "outputs": []
    },
    {
      "cell_type": "code",
      "metadata": {
        "id": "2_RE9YyIW8t0"
      },
      "source": [
        "pelayanan_buruk = lambda x: trapesium(x, 0, 0, 30, 40)\n",
        "pelayanan_sedang = lambda x: trapesium(x, 30, 40, 50, 60)\n",
        "pelayanan_baik = lambda x: trapesium(x, 50, 60, 70, 90)\n",
        "pelayanan_sangatbaik = lambda x: trapesium(x, 70, 90, 101, 101)"
      ],
      "execution_count": 114,
      "outputs": []
    },
    {
      "cell_type": "code",
      "metadata": {
        "id": "6QVII5_AV5U_"
      },
      "source": [
        "makanan_buruk = lambda x: trapesium(x, 0, 0, 3, 5)\n",
        "makanan_sedang = lambda x: segitiga(x, 3, 5, 7)\n",
        "makanan_baik = lambda x: trapesium(x, 5, 7, 11, 11)"
      ],
      "execution_count": 115,
      "outputs": []
    },
    {
      "cell_type": "code",
      "metadata": {
        "id": "JW8pPFxTYFfO"
      },
      "source": [
        "kelayakan_tinggi = lambda x: trapesium(x, 0, 0, 50, 60)\n",
        "kelayakan_rendah = lambda x: trapesium(x, 50, 60, 100, 100)"
      ],
      "execution_count": 116,
      "outputs": []
    },
    {
      "cell_type": "code",
      "metadata": {
        "id": "_OC_J_KvYVuF"
      },
      "source": [
        "x = 75\n",
        "\n",
        "pburuk = pelayanan_buruk(x)\n",
        "psedang = pelayanan_sedang(x)\n",
        "pbaik = pelayanan_baik(x)\n",
        "psangatbaik = pelayanan_sangatbaik(x)"
      ],
      "execution_count": 176,
      "outputs": []
    },
    {
      "cell_type": "code",
      "metadata": {
        "id": "5wMju1oHZTeq"
      },
      "source": [
        "y = 6\n",
        "\n",
        "mburuk = makanan_buruk(y)\n",
        "msedang = makanan_sedang(y)\n",
        "mbaik = makanan_baik(y)"
      ],
      "execution_count": 199,
      "outputs": []
    },
    {
      "cell_type": "code",
      "metadata": {
        "id": "h4SC4Z7kZraZ"
      },
      "source": [
        "# RULES\n",
        "rendah = 0\n",
        "tinggi = 0\n",
        "sedang = 0\n",
        "\n",
        "#1\n",
        "if pburuk != 0 and mburuk != 0:\n",
        "  temp = min(pburuk, mburuk)\n",
        "  rendah = max(rendah, temp)\n",
        "#2\n",
        "if pburuk != 0 and msedang != 0:\n",
        "  temp = min(pburuk, msedang)\n",
        "  rendah = max(rendah, temp)\n",
        "#3\n",
        "if pburuk != 0 and mbaik != 0:\n",
        "  temp = min(pburuk, mbaik)\n",
        "  sedang = max(sedang, temp)\n",
        "#4\n",
        "if psedang != 0 and mburuk != 0:\n",
        "  temp = min(psedang, mburuk)\n",
        "  rendah = max(rendah, temp)\n",
        "#5\n",
        "if psedang != 0 and msedang != 0:\n",
        "  temp = min(psedang, msedang)\n",
        "  sedang = max(sedang, temp)\n",
        "#6\n",
        "if psedang != 0 and mbaik != 0:\n",
        "  temp = min(psedang, mbaik)\n",
        "  sedang = max(sedang, temp)\n",
        "#7\n",
        "if pbaik != 0 and mburuk != 0:\n",
        "  temp = min(pbaik, mburuk)\n",
        "  rendah = max(rendah, temp)\n",
        "#8\n",
        "if pbaik != 0 and msedang != 0:\n",
        "  temp = min(pbaik, msedang)\n",
        "  tinggi = max(tinggi, temp)\n",
        "#9\n",
        "if pbaik != 0 and mbaik != 0:\n",
        "  temp = min(pbaik, mbaik)\n",
        "  tinggi = max(tinggi, temp)\n",
        "#10\n",
        "if psangatbaik != 0 and mburuk != 0:\n",
        "  temp = min(psangatbaik, mburuk)\n",
        "  sedang = max(sedang, temp)\n",
        "#11\n",
        "if psangatbaik != 0 and msedang != 0:\n",
        "  temp = min(psangatbaik, mburuk)\n",
        "  tinggi = max(tinggi, temp)\n",
        "#12\n",
        "if psangatbaik != 0 and mbaik != 0:\n",
        "  temp = min(psangatbaik, mbaik)\n",
        "  tinggi = max(tinggi, temp)\n"
      ],
      "execution_count": 200,
      "outputs": []
    },
    {
      "cell_type": "code",
      "metadata": {
        "colab": {
          "base_uri": "https://localhost:8080/"
        },
        "id": "YdmDfvAVSWfo",
        "outputId": "d11b5282-1b1d-4428-804e-5b6f271b243f"
      },
      "source": [
        "rendah"
      ],
      "execution_count": 201,
      "outputs": [
        {
          "output_type": "execute_result",
          "data": {
            "text/plain": [
              "0"
            ]
          },
          "metadata": {
            "tags": []
          },
          "execution_count": 201
        }
      ]
    },
    {
      "cell_type": "code",
      "metadata": {
        "colab": {
          "base_uri": "https://localhost:8080/"
        },
        "id": "VdRGv5StWq5Q",
        "outputId": "2769ca9e-07bd-4ccb-c0a8-116533a6f8cf"
      },
      "source": [
        "sedang"
      ],
      "execution_count": 202,
      "outputs": [
        {
          "output_type": "execute_result",
          "data": {
            "text/plain": [
              "0"
            ]
          },
          "metadata": {
            "tags": []
          },
          "execution_count": 202
        }
      ]
    },
    {
      "cell_type": "code",
      "metadata": {
        "colab": {
          "base_uri": "https://localhost:8080/"
        },
        "id": "BKlcJK55TBKQ",
        "outputId": "30553e97-b30b-454a-dc9a-12661960523c"
      },
      "source": [
        "tinggi"
      ],
      "execution_count": 203,
      "outputs": [
        {
          "output_type": "execute_result",
          "data": {
            "text/plain": [
              "0.5"
            ]
          },
          "metadata": {
            "tags": []
          },
          "execution_count": 203
        }
      ]
    },
    {
      "cell_type": "code",
      "metadata": {
        "colab": {
          "base_uri": "https://localhost:8080/"
        },
        "id": "mh2LN8tnQ1qh",
        "outputId": "8f957995-278a-4603-de19-632af64ab673"
      },
      "source": [
        "hasil = ((tinggi * 100) + (rendah * 30)) + (sedang * 60) / (tinggi + sedang + rendah)\n",
        "hasil"
      ],
      "execution_count": 204,
      "outputs": [
        {
          "output_type": "execute_result",
          "data": {
            "text/plain": [
              "50.0"
            ]
          },
          "metadata": {
            "tags": []
          },
          "execution_count": 204
        }
      ]
    },
    {
      "cell_type": "code",
      "metadata": {
        "colab": {
          "base_uri": "https://localhost:8080/"
        },
        "id": "iSZmiN0jJ-F7",
        "outputId": "4e8f9ef3-3a93-4868-ac45-9737c3e7e591"
      },
      "source": [
        "'''\n",
        "kelayakan = 0\n",
        "pembilang = 0\n",
        "penyebut = 0\n",
        "for i in range(1, 101): # 100 titik\n",
        "  low = min(kelayakan_rendah(i), rendah)\n",
        "  high = min(kelayakan_tinggi(i), tinggi)\n",
        "  center = max(low, high)\n",
        "  pembilang = pembilang + i + center\n",
        "  penyebut = penyebut + center\n",
        " \n",
        "hasil = pembilang / penyebut\n",
        "hasil\n",
        "'''"
      ],
      "execution_count": 108,
      "outputs": [
        {
          "output_type": "execute_result",
          "data": {
            "text/plain": [
              "114.48314606741573"
            ]
          },
          "metadata": {
            "tags": []
          },
          "execution_count": 108
        }
      ]
    }
  ]
}