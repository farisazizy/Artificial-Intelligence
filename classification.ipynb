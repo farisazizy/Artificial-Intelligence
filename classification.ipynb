{
  "nbformat": 4,
  "nbformat_minor": 0,
  "metadata": {
    "colab": {
      "name": "classification.ipynb",
      "provenance": [],
      "authorship_tag": "ABX9TyMwR40EKb7dUozqrivouOxA",
      "include_colab_link": true
    },
    "kernelspec": {
      "name": "python3",
      "display_name": "Python 3"
    },
    "language_info": {
      "name": "python"
    }
  },
  "cells": [
    {
      "cell_type": "markdown",
      "metadata": {
        "id": "view-in-github",
        "colab_type": "text"
      },
      "source": [
        "<a href=\"https://colab.research.google.com/github/farisazizy/Artificial-Intelligence/blob/machine-learning/classification.ipynb\" target=\"_parent\"><img src=\"https://colab.research.google.com/assets/colab-badge.svg\" alt=\"Open In Colab\"/></a>"
      ]
    },
    {
      "cell_type": "code",
      "metadata": {
        "id": "8fHw9P5thB0M"
      },
      "source": [
        "#Import Library\n",
        "%tensorflow_version 2.x\n",
        "\n",
        "# tensorflow hub\n",
        "import tensorflow_hub as hub\n",
        "# tensor flow module\n",
        "import tensorflow as tf\n",
        "import tensorflow_probability as tfp\n",
        "\n",
        "# matplotlib\n",
        "from matplotlib import colors\n",
        "from matplotlib import pyplot as plt\n",
        "\n",
        "import pandas as pd\n",
        "import numpy as np"
      ],
      "execution_count": 2,
      "outputs": []
    },
    {
      "cell_type": "markdown",
      "metadata": {
        "id": "sH6QJPSdo03I"
      },
      "source": [
        "## Data Cleaning"
      ]
    },
    {
      "cell_type": "code",
      "metadata": {
        "colab": {
          "base_uri": "https://localhost:8080/"
        },
        "id": "KCqtUVsQictc",
        "outputId": "91939ab6-4ac2-47fe-db5d-fa32065c4ccd"
      },
      "source": [
        "train = pd.read_csv(\"kendaraan_train.csv\")\n",
        "test = pd.read_csv(\"kendaraan_test.csv\")\n",
        "\n",
        "# Melakukan drop pada baris yang memiliki nilai null\n",
        "train = train.dropna()\n",
        "train.drop([\"id\"], axis=1,  inplace=True)\n",
        "test = test.dropna()\n",
        "train.reset_index(drop=True, inplace=True)\n",
        "\n",
        "print(train.head())\n",
        "print(test.head())"
      ],
      "execution_count": 30,
      "outputs": [
        {
          "output_type": "stream",
          "name": "stdout",
          "text": [
            "  Jenis_Kelamin  Umur  SIM  ...  Kanal_Penjualan  Lama_Berlangganan Tertarik\n",
            "0        Wanita  30.0  1.0  ...            152.0               97.0        0\n",
            "1          Pria  48.0  1.0  ...             29.0              158.0        0\n",
            "2        Wanita  58.0  1.0  ...            124.0               63.0        0\n",
            "3          Pria  21.0  1.0  ...            152.0              171.0        0\n",
            "4        Wanita  20.0  1.0  ...            160.0               31.0        0\n",
            "\n",
            "[5 rows x 11 columns]\n",
            "  Jenis_Kelamin  Umur  SIM  ...  Kanal_Penjualan  Lama_Berlangganan Tertarik\n",
            "0        Wanita    49    1  ...               26                145        0\n",
            "1          Pria    22    1  ...              152                241        0\n",
            "2          Pria    24    1  ...              152                 62        0\n",
            "3          Pria    46    1  ...              124                 34        0\n",
            "4          Pria    35    1  ...              152                229        0\n",
            "\n",
            "[5 rows x 11 columns]\n"
          ]
        },
        {
          "output_type": "stream",
          "name": "stderr",
          "text": [
            "/usr/local/lib/python3.7/dist-packages/pandas/core/frame.py:4174: SettingWithCopyWarning: \n",
            "A value is trying to be set on a copy of a slice from a DataFrame\n",
            "\n",
            "See the caveats in the documentation: https://pandas.pydata.org/pandas-docs/stable/user_guide/indexing.html#returning-a-view-versus-a-copy\n",
            "  errors=errors,\n"
          ]
        }
      ]
    },
    {
      "cell_type": "code",
      "source": [
        "CATEGORICAL_COLUMNS = ['Jenis_Kelamin', 'Umur_Kendaraan', 'Kendaraan_Rusak']\n",
        "\n",
        "feature_columns = []\n",
        "for feature_name in CATEGORICAL_COLUMNS:\n",
        "  vocabulary = train[feature_name].unique()  # gets a list of all unique values from given feature column\n",
        "  feature_columns.append(tf.feature_column.categorical_column_with_vocabulary_list(feature_name, vocabulary))\n",
        "\n",
        "print(feature_columns)"
      ],
      "metadata": {
        "colab": {
          "base_uri": "https://localhost:8080/"
        },
        "id": "TQEWxE-aZlsn",
        "outputId": "f07b8b75-bf67-48c6-e5c1-c3e702fd88cc"
      },
      "execution_count": 31,
      "outputs": [
        {
          "output_type": "stream",
          "name": "stdout",
          "text": [
            "[VocabularyListCategoricalColumn(key='Jenis_Kelamin', vocabulary_list=('Wanita', 'Pria'), dtype=tf.string, default_value=-1, num_oov_buckets=0), VocabularyListCategoricalColumn(key='Umur_Kendaraan', vocabulary_list=('< 1 Tahun', '> 2 Tahun', '1-2 Tahun'), dtype=tf.string, default_value=-1, num_oov_buckets=0), VocabularyListCategoricalColumn(key='Kendaraan_Rusak', vocabulary_list=('Tidak', 'Pernah'), dtype=tf.string, default_value=-1, num_oov_buckets=0)]\n"
          ]
        }
      ]
    },
    {
      "cell_type": "code",
      "metadata": {
        "id": "po_fpjpTjnxt"
      },
      "source": [
        "object_column = train.select_dtypes(['object']).columns\n",
        "category_column = train.select_dtypes(['category']).columns\n",
        "\n",
        "train[object_column]=train[object_column].apply(lambda x: x.astype('category'))\n",
        "\n",
        "train[object_column] = train[object_column].apply(lambda x: x.cat.codes)\n",
        "train[category_column] = train[category_column].apply(lambda x: x.cat.codes)"
      ],
      "execution_count": 32,
      "outputs": []
    },
    {
      "cell_type": "code",
      "metadata": {
        "id": "MxDRp24HkbtA"
      },
      "source": [
        "object_column = test.select_dtypes(['object']).columns\n",
        "category_column = test.select_dtypes(['category']).columns\n",
        "\n",
        "test[object_column] = test[object_column].apply(lambda x: x.astype('category'))\n",
        "\n",
        "test[object_column] = test[object_column].apply(lambda x: x.cat.codes)\n",
        "test[category_column] = test[category_column].apply(lambda x: x.cat.codes)"
      ],
      "execution_count": 33,
      "outputs": []
    },
    {
      "cell_type": "code",
      "metadata": {
        "colab": {
          "base_uri": "https://localhost:8080/",
          "height": 206
        },
        "id": "EkZDO_-okX6L",
        "outputId": "33ba35d1-0134-4ea4-c3f5-772d645234d8"
      },
      "source": [
        "train.head()"
      ],
      "execution_count": 34,
      "outputs": [
        {
          "output_type": "execute_result",
          "data": {
            "text/html": [
              "<div>\n",
              "<style scoped>\n",
              "    .dataframe tbody tr th:only-of-type {\n",
              "        vertical-align: middle;\n",
              "    }\n",
              "\n",
              "    .dataframe tbody tr th {\n",
              "        vertical-align: top;\n",
              "    }\n",
              "\n",
              "    .dataframe thead th {\n",
              "        text-align: right;\n",
              "    }\n",
              "</style>\n",
              "<table border=\"1\" class=\"dataframe\">\n",
              "  <thead>\n",
              "    <tr style=\"text-align: right;\">\n",
              "      <th></th>\n",
              "      <th>Jenis_Kelamin</th>\n",
              "      <th>Umur</th>\n",
              "      <th>SIM</th>\n",
              "      <th>Kode_Daerah</th>\n",
              "      <th>Sudah_Asuransi</th>\n",
              "      <th>Umur_Kendaraan</th>\n",
              "      <th>Kendaraan_Rusak</th>\n",
              "      <th>Premi</th>\n",
              "      <th>Kanal_Penjualan</th>\n",
              "      <th>Lama_Berlangganan</th>\n",
              "      <th>Tertarik</th>\n",
              "    </tr>\n",
              "  </thead>\n",
              "  <tbody>\n",
              "    <tr>\n",
              "      <th>0</th>\n",
              "      <td>1</td>\n",
              "      <td>30.0</td>\n",
              "      <td>1.0</td>\n",
              "      <td>33.0</td>\n",
              "      <td>1.0</td>\n",
              "      <td>1</td>\n",
              "      <td>1</td>\n",
              "      <td>28029.0</td>\n",
              "      <td>152.0</td>\n",
              "      <td>97.0</td>\n",
              "      <td>0</td>\n",
              "    </tr>\n",
              "    <tr>\n",
              "      <th>1</th>\n",
              "      <td>0</td>\n",
              "      <td>48.0</td>\n",
              "      <td>1.0</td>\n",
              "      <td>39.0</td>\n",
              "      <td>0.0</td>\n",
              "      <td>2</td>\n",
              "      <td>0</td>\n",
              "      <td>25800.0</td>\n",
              "      <td>29.0</td>\n",
              "      <td>158.0</td>\n",
              "      <td>0</td>\n",
              "    </tr>\n",
              "    <tr>\n",
              "      <th>2</th>\n",
              "      <td>1</td>\n",
              "      <td>58.0</td>\n",
              "      <td>1.0</td>\n",
              "      <td>48.0</td>\n",
              "      <td>0.0</td>\n",
              "      <td>0</td>\n",
              "      <td>1</td>\n",
              "      <td>2630.0</td>\n",
              "      <td>124.0</td>\n",
              "      <td>63.0</td>\n",
              "      <td>0</td>\n",
              "    </tr>\n",
              "    <tr>\n",
              "      <th>3</th>\n",
              "      <td>0</td>\n",
              "      <td>21.0</td>\n",
              "      <td>1.0</td>\n",
              "      <td>35.0</td>\n",
              "      <td>1.0</td>\n",
              "      <td>1</td>\n",
              "      <td>1</td>\n",
              "      <td>22735.0</td>\n",
              "      <td>152.0</td>\n",
              "      <td>171.0</td>\n",
              "      <td>0</td>\n",
              "    </tr>\n",
              "    <tr>\n",
              "      <th>4</th>\n",
              "      <td>1</td>\n",
              "      <td>20.0</td>\n",
              "      <td>1.0</td>\n",
              "      <td>8.0</td>\n",
              "      <td>1.0</td>\n",
              "      <td>1</td>\n",
              "      <td>1</td>\n",
              "      <td>30786.0</td>\n",
              "      <td>160.0</td>\n",
              "      <td>31.0</td>\n",
              "      <td>0</td>\n",
              "    </tr>\n",
              "  </tbody>\n",
              "</table>\n",
              "</div>"
            ],
            "text/plain": [
              "   Jenis_Kelamin  Umur  SIM  ...  Kanal_Penjualan  Lama_Berlangganan  Tertarik\n",
              "0              1  30.0  1.0  ...            152.0               97.0         0\n",
              "1              0  48.0  1.0  ...             29.0              158.0         0\n",
              "2              1  58.0  1.0  ...            124.0               63.0         0\n",
              "3              0  21.0  1.0  ...            152.0              171.0         0\n",
              "4              1  20.0  1.0  ...            160.0               31.0         0\n",
              "\n",
              "[5 rows x 11 columns]"
            ]
          },
          "metadata": {},
          "execution_count": 34
        }
      ]
    },
    {
      "cell_type": "code",
      "metadata": {
        "colab": {
          "base_uri": "https://localhost:8080/",
          "height": 206
        },
        "id": "WfylK6wlY1s8",
        "outputId": "0bdcdcb0-0d09-4973-fd5a-633e0bfb0cca"
      },
      "source": [
        "train_y = train.pop('Tertarik').astype(int)\n",
        "test_y = test.pop('Tertarik').astype(int)\n",
        "train.head() # Kolom tertarik dihilangkan untuk fitur"
      ],
      "execution_count": 35,
      "outputs": [
        {
          "output_type": "execute_result",
          "data": {
            "text/html": [
              "<div>\n",
              "<style scoped>\n",
              "    .dataframe tbody tr th:only-of-type {\n",
              "        vertical-align: middle;\n",
              "    }\n",
              "\n",
              "    .dataframe tbody tr th {\n",
              "        vertical-align: top;\n",
              "    }\n",
              "\n",
              "    .dataframe thead th {\n",
              "        text-align: right;\n",
              "    }\n",
              "</style>\n",
              "<table border=\"1\" class=\"dataframe\">\n",
              "  <thead>\n",
              "    <tr style=\"text-align: right;\">\n",
              "      <th></th>\n",
              "      <th>Jenis_Kelamin</th>\n",
              "      <th>Umur</th>\n",
              "      <th>SIM</th>\n",
              "      <th>Kode_Daerah</th>\n",
              "      <th>Sudah_Asuransi</th>\n",
              "      <th>Umur_Kendaraan</th>\n",
              "      <th>Kendaraan_Rusak</th>\n",
              "      <th>Premi</th>\n",
              "      <th>Kanal_Penjualan</th>\n",
              "      <th>Lama_Berlangganan</th>\n",
              "    </tr>\n",
              "  </thead>\n",
              "  <tbody>\n",
              "    <tr>\n",
              "      <th>0</th>\n",
              "      <td>1</td>\n",
              "      <td>30.0</td>\n",
              "      <td>1.0</td>\n",
              "      <td>33.0</td>\n",
              "      <td>1.0</td>\n",
              "      <td>1</td>\n",
              "      <td>1</td>\n",
              "      <td>28029.0</td>\n",
              "      <td>152.0</td>\n",
              "      <td>97.0</td>\n",
              "    </tr>\n",
              "    <tr>\n",
              "      <th>1</th>\n",
              "      <td>0</td>\n",
              "      <td>48.0</td>\n",
              "      <td>1.0</td>\n",
              "      <td>39.0</td>\n",
              "      <td>0.0</td>\n",
              "      <td>2</td>\n",
              "      <td>0</td>\n",
              "      <td>25800.0</td>\n",
              "      <td>29.0</td>\n",
              "      <td>158.0</td>\n",
              "    </tr>\n",
              "    <tr>\n",
              "      <th>2</th>\n",
              "      <td>1</td>\n",
              "      <td>58.0</td>\n",
              "      <td>1.0</td>\n",
              "      <td>48.0</td>\n",
              "      <td>0.0</td>\n",
              "      <td>0</td>\n",
              "      <td>1</td>\n",
              "      <td>2630.0</td>\n",
              "      <td>124.0</td>\n",
              "      <td>63.0</td>\n",
              "    </tr>\n",
              "    <tr>\n",
              "      <th>3</th>\n",
              "      <td>0</td>\n",
              "      <td>21.0</td>\n",
              "      <td>1.0</td>\n",
              "      <td>35.0</td>\n",
              "      <td>1.0</td>\n",
              "      <td>1</td>\n",
              "      <td>1</td>\n",
              "      <td>22735.0</td>\n",
              "      <td>152.0</td>\n",
              "      <td>171.0</td>\n",
              "    </tr>\n",
              "    <tr>\n",
              "      <th>4</th>\n",
              "      <td>1</td>\n",
              "      <td>20.0</td>\n",
              "      <td>1.0</td>\n",
              "      <td>8.0</td>\n",
              "      <td>1.0</td>\n",
              "      <td>1</td>\n",
              "      <td>1</td>\n",
              "      <td>30786.0</td>\n",
              "      <td>160.0</td>\n",
              "      <td>31.0</td>\n",
              "    </tr>\n",
              "  </tbody>\n",
              "</table>\n",
              "</div>"
            ],
            "text/plain": [
              "   Jenis_Kelamin  Umur  SIM  ...    Premi  Kanal_Penjualan  Lama_Berlangganan\n",
              "0              1  30.0  1.0  ...  28029.0            152.0               97.0\n",
              "1              0  48.0  1.0  ...  25800.0             29.0              158.0\n",
              "2              1  58.0  1.0  ...   2630.0            124.0               63.0\n",
              "3              0  21.0  1.0  ...  22735.0            152.0              171.0\n",
              "4              1  20.0  1.0  ...  30786.0            160.0               31.0\n",
              "\n",
              "[5 rows x 10 columns]"
            ]
          },
          "metadata": {},
          "execution_count": 35
        }
      ]
    },
    {
      "cell_type": "markdown",
      "metadata": {
        "id": "EvN7p-_7lzMi"
      },
      "source": [
        "# Preparing Algorithm"
      ]
    },
    {
      "cell_type": "markdown",
      "source": [
        "### Input Function"
      ],
      "metadata": {
        "id": "Un2V3u3PdxxS"
      }
    },
    {
      "cell_type": "code",
      "source": [
        "def input_fn(features, labels, training=True, batch_size=256):\n",
        "    # Convert the inputs to a Dataset.\n",
        "    dataset = tf.data.Dataset.from_tensor_slices((dict(features), labels))\n",
        "\n",
        "    # Shuffle and repeat if you are in training mode.\n",
        "    if training:\n",
        "        dataset = dataset.shuffle(1000).repeat()\n",
        "    \n",
        "    return dataset.batch(batch_size)"
      ],
      "metadata": {
        "id": "gzwXRFIodxMs"
      },
      "execution_count": 38,
      "outputs": []
    },
    {
      "cell_type": "markdown",
      "source": [
        "### Feature Columns"
      ],
      "metadata": {
        "id": "H2wmpX5Rd-rJ"
      }
    },
    {
      "cell_type": "code",
      "source": [
        "my_feature_columns = []\n",
        "for key in train.keys():\n",
        "    my_feature_columns.append(tf.feature_column.numeric_column(key=key))\n",
        "print(my_feature_columns)"
      ],
      "metadata": {
        "colab": {
          "base_uri": "https://localhost:8080/"
        },
        "id": "1H0GBYr-d1Jx",
        "outputId": "19d62076-5837-4573-b2b3-0c8efc067920"
      },
      "execution_count": 39,
      "outputs": [
        {
          "output_type": "stream",
          "name": "stdout",
          "text": [
            "[NumericColumn(key='Jenis_Kelamin', shape=(1,), default_value=None, dtype=tf.float32, normalizer_fn=None), NumericColumn(key='Umur', shape=(1,), default_value=None, dtype=tf.float32, normalizer_fn=None), NumericColumn(key='SIM', shape=(1,), default_value=None, dtype=tf.float32, normalizer_fn=None), NumericColumn(key='Kode_Daerah', shape=(1,), default_value=None, dtype=tf.float32, normalizer_fn=None), NumericColumn(key='Sudah_Asuransi', shape=(1,), default_value=None, dtype=tf.float32, normalizer_fn=None), NumericColumn(key='Umur_Kendaraan', shape=(1,), default_value=None, dtype=tf.float32, normalizer_fn=None), NumericColumn(key='Kendaraan_Rusak', shape=(1,), default_value=None, dtype=tf.float32, normalizer_fn=None), NumericColumn(key='Premi', shape=(1,), default_value=None, dtype=tf.float32, normalizer_fn=None), NumericColumn(key='Kanal_Penjualan', shape=(1,), default_value=None, dtype=tf.float32, normalizer_fn=None), NumericColumn(key='Lama_Berlangganan', shape=(1,), default_value=None, dtype=tf.float32, normalizer_fn=None)]\n"
          ]
        }
      ]
    },
    {
      "cell_type": "markdown",
      "source": [
        "# Building the Model\n",
        "And now we are ready to choose a model. For classification tasks there are variety of different estimators/models that we can pick from. Some options are listed below.\n",
        "- ```DNNClassifier``` (Deep Neural Network)\n",
        "- ```LinearClassifier```\n",
        "\n",
        "We can choose either model but the DNN seems to be the best choice. This is because we may not be able to find a linear coorespondence in our data. \n",
        "\n",
        "So let's build a model!"
      ],
      "metadata": {
        "id": "NJX_Hmb9eM0J"
      }
    },
    {
      "cell_type": "code",
      "source": [
        "# Build a DNN with 2 hidden layers with 30 and 10 hidden nodes each.\n",
        "classifier = tf.estimator.DNNClassifier(\n",
        "    feature_columns=my_feature_columns,\n",
        "    # Two hidden layers of 30 and 10 nodes respectively.\n",
        "    hidden_units=[30, 10],\n",
        "    # The model must choose between 3 classes.\n",
        "    n_classes=3)"
      ],
      "metadata": {
        "colab": {
          "base_uri": "https://localhost:8080/"
        },
        "id": "zQrNw8zSeI06",
        "outputId": "9edfb8a2-2dd2-4569-8b7e-5467072001c4"
      },
      "execution_count": 40,
      "outputs": [
        {
          "output_type": "stream",
          "name": "stdout",
          "text": [
            "INFO:tensorflow:Using default config.\n",
            "WARNING:tensorflow:Using temporary folder as model directory: /tmp/tmpnrx_idj4\n",
            "INFO:tensorflow:Using config: {'_model_dir': '/tmp/tmpnrx_idj4', '_tf_random_seed': None, '_save_summary_steps': 100, '_save_checkpoints_steps': None, '_save_checkpoints_secs': 600, '_session_config': allow_soft_placement: true\n",
            "graph_options {\n",
            "  rewrite_options {\n",
            "    meta_optimizer_iterations: ONE\n",
            "  }\n",
            "}\n",
            ", '_keep_checkpoint_max': 5, '_keep_checkpoint_every_n_hours': 10000, '_log_step_count_steps': 100, '_train_distribute': None, '_device_fn': None, '_protocol': None, '_eval_distribute': None, '_experimental_distribute': None, '_experimental_max_worker_delay_secs': None, '_session_creation_timeout_secs': 7200, '_checkpoint_save_graph_def': True, '_service': None, '_cluster_spec': ClusterSpec({}), '_task_type': 'worker', '_task_id': 0, '_global_id_in_cluster': 0, '_master': '', '_evaluation_master': '', '_is_chief': True, '_num_ps_replicas': 0, '_num_worker_replicas': 1}\n"
          ]
        }
      ]
    },
    {
      "cell_type": "markdown",
      "source": [
        "###Training\n",
        "Now it's time to train the model!"
      ],
      "metadata": {
        "id": "hC0bmeANeUDR"
      }
    },
    {
      "cell_type": "code",
      "source": [
        "classifier.train(\n",
        "    input_fn=lambda: input_fn(train, train_y, training=True),\n",
        "    steps=5000)\n",
        "# We include a lambda to avoid creating an inner function previously"
      ],
      "metadata": {
        "id": "s5pCLikKeUjR"
      },
      "execution_count": null,
      "outputs": []
    },
    {
      "cell_type": "code",
      "source": [
        "eval_result = classifier.evaluate(\n",
        "    input_fn=lambda: input_fn(test, test_y, training=False))\n",
        "\n",
        "print('\\nTest set accuracy: {accuracy:0.3f}\\n'.format(**eval_result))\n",
        "eval_result"
      ],
      "metadata": {
        "colab": {
          "base_uri": "https://localhost:8080/"
        },
        "id": "ZdZvNItwfpDE",
        "outputId": "a8f21068-6dbb-4d50-96d6-0b81b3bbf635"
      },
      "execution_count": 43,
      "outputs": [
        {
          "output_type": "stream",
          "name": "stdout",
          "text": [
            "INFO:tensorflow:Calling model_fn.\n",
            "INFO:tensorflow:Done calling model_fn.\n",
            "INFO:tensorflow:Starting evaluation at 2021-12-09T09:21:14\n",
            "INFO:tensorflow:Graph was finalized.\n",
            "INFO:tensorflow:Restoring parameters from /tmp/tmpnrx_idj4/model.ckpt-5000\n",
            "INFO:tensorflow:Running local_init_op.\n",
            "INFO:tensorflow:Done running local_init_op.\n",
            "INFO:tensorflow:Inference Time : 0.87371s\n",
            "INFO:tensorflow:Finished evaluation at 2021-12-09-09:21:15\n",
            "INFO:tensorflow:Saving dict for global step 5000: accuracy = 0.76139295, average_loss = 2.3412921, global_step = 5000, loss = 2.3476613\n",
            "INFO:tensorflow:Saving 'checkpoint_path' summary for global step 5000: /tmp/tmpnrx_idj4/model.ckpt-5000\n",
            "\n",
            "Test set accuracy: 0.761\n",
            "\n"
          ]
        },
        {
          "output_type": "execute_result",
          "data": {
            "text/plain": [
              "{'accuracy': 0.76139295,\n",
              " 'average_loss': 2.3412921,\n",
              " 'global_step': 5000,\n",
              " 'loss': 2.3476613}"
            ]
          },
          "metadata": {},
          "execution_count": 43
        }
      ]
    },
    {
      "cell_type": "markdown",
      "metadata": {
        "id": "yVqB1h88l1xj"
      },
      "source": [
        "##  Multi-layer Perceptron Classifier"
      ]
    },
    {
      "cell_type": "code",
      "metadata": {
        "id": "d6tCCxFTmGQ2"
      },
      "source": [
        "train_X = train\n",
        "test_X = test"
      ],
      "execution_count": 15,
      "outputs": []
    }
  ]
}