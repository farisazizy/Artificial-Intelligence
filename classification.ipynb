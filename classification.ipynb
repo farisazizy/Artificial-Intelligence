{
  "nbformat": 4,
  "nbformat_minor": 0,
  "metadata": {
    "colab": {
      "name": "classification.ipynb",
      "provenance": [],
      "authorship_tag": "ABX9TyPBg6PwOw5e4zCy0QqY+Jen",
      "include_colab_link": true
    },
    "kernelspec": {
      "name": "python3",
      "display_name": "Python 3"
    },
    "language_info": {
      "name": "python"
    }
  },
  "cells": [
    {
      "cell_type": "markdown",
      "metadata": {
        "id": "view-in-github",
        "colab_type": "text"
      },
      "source": [
        "<a href=\"https://colab.research.google.com/github/farisazizy/Artificial-Intelligence/blob/machine-learning/classification.ipynb\" target=\"_parent\"><img src=\"https://colab.research.google.com/assets/colab-badge.svg\" alt=\"Open In Colab\"/></a>"
      ]
    },
    {
      "cell_type": "code",
      "metadata": {
        "id": "8fHw9P5thB0M"
      },
      "source": [
        "#Import Library\n",
        "%tensorflow_version 2.x\n",
        "\n",
        "# tensorflow hub\n",
        "import tensorflow_hub as hub\n",
        "# tensor flow module\n",
        "import tensorflow as tf\n",
        "import tensorflow_probability as tfp\n",
        "\n",
        "# matplotlib\n",
        "from matplotlib import colors\n",
        "from matplotlib import pyplot as plt\n",
        "\n",
        "import pandas as pd\n",
        "import numpy as np"
      ],
      "execution_count": 3,
      "outputs": []
    },
    {
      "cell_type": "markdown",
      "metadata": {
        "id": "sH6QJPSdo03I"
      },
      "source": [
        "## Data Cleaning"
      ]
    },
    {
      "cell_type": "code",
      "metadata": {
        "colab": {
          "base_uri": "https://localhost:8080/"
        },
        "id": "KCqtUVsQictc",
        "outputId": "8a2b76de-9196-4e76-e96a-43f6456dc50e"
      },
      "source": [
        "train = pd.read_csv(\"kendaraan_train.csv\")\n",
        "test = pd.read_csv(\"kendaraan_test.csv\")\n",
        "\n",
        "# Melakukan drop pada baris yang memiliki nilai null\n",
        "train = train.dropna()\n",
        "train.drop([\"id\"], axis=1,  inplace=True)\n",
        "test = test.dropna()\n",
        "train.reset_index(drop=True, inplace=True)\n",
        "\n",
        "print(train.head())\n",
        "print(test.head())"
      ],
      "execution_count": 4,
      "outputs": [
        {
          "output_type": "stream",
          "name": "stdout",
          "text": [
            "  Jenis_Kelamin  Umur  SIM  ...  Kanal_Penjualan  Lama_Berlangganan Tertarik\n",
            "0        Wanita  30.0  1.0  ...            152.0               97.0      0.0\n",
            "1          Pria  48.0  1.0  ...             29.0              158.0      0.0\n",
            "2        Wanita  58.0  1.0  ...            124.0               63.0      0.0\n",
            "3          Pria  21.0  1.0  ...            152.0              171.0      0.0\n",
            "4        Wanita  20.0  1.0  ...            160.0               31.0      0.0\n",
            "\n",
            "[5 rows x 11 columns]\n",
            "  Jenis_Kelamin  Umur  SIM  ...  Kanal_Penjualan  Lama_Berlangganan Tertarik\n",
            "0        Wanita    49    1  ...               26                145        0\n",
            "1          Pria    22    1  ...              152                241        0\n",
            "2          Pria    24    1  ...              152                 62        0\n",
            "3          Pria    46    1  ...              124                 34        0\n",
            "4          Pria    35    1  ...              152                229        0\n",
            "\n",
            "[5 rows x 11 columns]\n"
          ]
        },
        {
          "output_type": "stream",
          "name": "stderr",
          "text": [
            "/usr/local/lib/python3.7/dist-packages/pandas/core/frame.py:4174: SettingWithCopyWarning: \n",
            "A value is trying to be set on a copy of a slice from a DataFrame\n",
            "\n",
            "See the caveats in the documentation: https://pandas.pydata.org/pandas-docs/stable/user_guide/indexing.html#returning-a-view-versus-a-copy\n",
            "  errors=errors,\n"
          ]
        }
      ]
    },
    {
      "cell_type": "code",
      "source": [
        "CATEGORICAL_COLUMNS = ['Jenis_Kelamin', 'Umur_Kendaraan', 'Kendaraan_Rusak']\n",
        "\n",
        "feature_columns = []\n",
        "for feature_name in CATEGORICAL_COLUMNS:\n",
        "  vocabulary = train[feature_name].unique()  # gets a list of all unique values from given feature column\n",
        "  feature_columns.append(tf.feature_column.categorical_column_with_vocabulary_list(feature_name, vocabulary))\n",
        "\n",
        "print(feature_columns)"
      ],
      "metadata": {
        "colab": {
          "base_uri": "https://localhost:8080/"
        },
        "id": "TQEWxE-aZlsn",
        "outputId": "8dd609c3-74f5-41c1-b84d-befa0a06ee06"
      },
      "execution_count": 5,
      "outputs": [
        {
          "output_type": "stream",
          "name": "stdout",
          "text": [
            "[VocabularyListCategoricalColumn(key='Jenis_Kelamin', vocabulary_list=('Wanita', 'Pria'), dtype=tf.string, default_value=-1, num_oov_buckets=0), VocabularyListCategoricalColumn(key='Umur_Kendaraan', vocabulary_list=('< 1 Tahun', '> 2 Tahun', '1-2 Tahun'), dtype=tf.string, default_value=-1, num_oov_buckets=0), VocabularyListCategoricalColumn(key='Kendaraan_Rusak', vocabulary_list=('Tidak', 'Pernah'), dtype=tf.string, default_value=-1, num_oov_buckets=0)]\n"
          ]
        }
      ]
    },
    {
      "cell_type": "code",
      "metadata": {
        "id": "po_fpjpTjnxt",
        "colab": {
          "base_uri": "https://localhost:8080/"
        },
        "outputId": "1bbbd927-bad9-4162-fbfd-dabed9861d9b"
      },
      "source": [
        "object_column = train.select_dtypes(['object']).columns\n",
        "category_column = train.select_dtypes(['category']).columns\n",
        "\n",
        "train[object_column]=train[object_column].apply(lambda x: x.astype('category'))\n",
        "\n",
        "train[object_column] = train[object_column].apply(lambda x: x.cat.codes)\n",
        "train[category_column] = train[category_column].apply(lambda x: x.cat.codes)"
      ],
      "execution_count": 6,
      "outputs": [
        {
          "output_type": "stream",
          "name": "stderr",
          "text": [
            "/usr/local/lib/python3.7/dist-packages/pandas/core/frame.py:3069: SettingWithCopyWarning: \n",
            "A value is trying to be set on a copy of a slice from a DataFrame.\n",
            "Try using .loc[row_indexer,col_indexer] = value instead\n",
            "\n",
            "See the caveats in the documentation: https://pandas.pydata.org/pandas-docs/stable/user_guide/indexing.html#returning-a-view-versus-a-copy\n",
            "  self[k1] = value[k2]\n"
          ]
        }
      ]
    },
    {
      "cell_type": "code",
      "metadata": {
        "id": "MxDRp24HkbtA"
      },
      "source": [
        "object_column = test.select_dtypes(['object']).columns\n",
        "category_column = test.select_dtypes(['category']).columns\n",
        "\n",
        "test[object_column] = test[object_column].apply(lambda x: x.astype('category'))\n",
        "\n",
        "test[object_column] = test[object_column].apply(lambda x: x.cat.codes)\n",
        "test[category_column] = test[category_column].apply(lambda x: x.cat.codes)"
      ],
      "execution_count": 7,
      "outputs": []
    },
    {
      "cell_type": "code",
      "metadata": {
        "colab": {
          "base_uri": "https://localhost:8080/",
          "height": 206
        },
        "id": "EkZDO_-okX6L",
        "outputId": "4532303c-205f-43be-f967-9c7b5d1c32c6"
      },
      "source": [
        "train.head()"
      ],
      "execution_count": 8,
      "outputs": [
        {
          "output_type": "execute_result",
          "data": {
            "text/html": [
              "<div>\n",
              "<style scoped>\n",
              "    .dataframe tbody tr th:only-of-type {\n",
              "        vertical-align: middle;\n",
              "    }\n",
              "\n",
              "    .dataframe tbody tr th {\n",
              "        vertical-align: top;\n",
              "    }\n",
              "\n",
              "    .dataframe thead th {\n",
              "        text-align: right;\n",
              "    }\n",
              "</style>\n",
              "<table border=\"1\" class=\"dataframe\">\n",
              "  <thead>\n",
              "    <tr style=\"text-align: right;\">\n",
              "      <th></th>\n",
              "      <th>Jenis_Kelamin</th>\n",
              "      <th>Umur</th>\n",
              "      <th>SIM</th>\n",
              "      <th>Kode_Daerah</th>\n",
              "      <th>Sudah_Asuransi</th>\n",
              "      <th>Umur_Kendaraan</th>\n",
              "      <th>Kendaraan_Rusak</th>\n",
              "      <th>Premi</th>\n",
              "      <th>Kanal_Penjualan</th>\n",
              "      <th>Lama_Berlangganan</th>\n",
              "      <th>Tertarik</th>\n",
              "    </tr>\n",
              "  </thead>\n",
              "  <tbody>\n",
              "    <tr>\n",
              "      <th>0</th>\n",
              "      <td>1</td>\n",
              "      <td>30.0</td>\n",
              "      <td>1.0</td>\n",
              "      <td>33.0</td>\n",
              "      <td>1.0</td>\n",
              "      <td>1</td>\n",
              "      <td>1</td>\n",
              "      <td>28029.0</td>\n",
              "      <td>152.0</td>\n",
              "      <td>97.0</td>\n",
              "      <td>0.0</td>\n",
              "    </tr>\n",
              "    <tr>\n",
              "      <th>1</th>\n",
              "      <td>0</td>\n",
              "      <td>48.0</td>\n",
              "      <td>1.0</td>\n",
              "      <td>39.0</td>\n",
              "      <td>0.0</td>\n",
              "      <td>2</td>\n",
              "      <td>0</td>\n",
              "      <td>25800.0</td>\n",
              "      <td>29.0</td>\n",
              "      <td>158.0</td>\n",
              "      <td>0.0</td>\n",
              "    </tr>\n",
              "    <tr>\n",
              "      <th>2</th>\n",
              "      <td>1</td>\n",
              "      <td>58.0</td>\n",
              "      <td>1.0</td>\n",
              "      <td>48.0</td>\n",
              "      <td>0.0</td>\n",
              "      <td>0</td>\n",
              "      <td>1</td>\n",
              "      <td>2630.0</td>\n",
              "      <td>124.0</td>\n",
              "      <td>63.0</td>\n",
              "      <td>0.0</td>\n",
              "    </tr>\n",
              "    <tr>\n",
              "      <th>3</th>\n",
              "      <td>0</td>\n",
              "      <td>21.0</td>\n",
              "      <td>1.0</td>\n",
              "      <td>35.0</td>\n",
              "      <td>1.0</td>\n",
              "      <td>1</td>\n",
              "      <td>1</td>\n",
              "      <td>22735.0</td>\n",
              "      <td>152.0</td>\n",
              "      <td>171.0</td>\n",
              "      <td>0.0</td>\n",
              "    </tr>\n",
              "    <tr>\n",
              "      <th>4</th>\n",
              "      <td>1</td>\n",
              "      <td>20.0</td>\n",
              "      <td>1.0</td>\n",
              "      <td>8.0</td>\n",
              "      <td>1.0</td>\n",
              "      <td>1</td>\n",
              "      <td>1</td>\n",
              "      <td>30786.0</td>\n",
              "      <td>160.0</td>\n",
              "      <td>31.0</td>\n",
              "      <td>0.0</td>\n",
              "    </tr>\n",
              "  </tbody>\n",
              "</table>\n",
              "</div>"
            ],
            "text/plain": [
              "   Jenis_Kelamin  Umur  SIM  ...  Kanal_Penjualan  Lama_Berlangganan  Tertarik\n",
              "0              1  30.0  1.0  ...            152.0               97.0       0.0\n",
              "1              0  48.0  1.0  ...             29.0              158.0       0.0\n",
              "2              1  58.0  1.0  ...            124.0               63.0       0.0\n",
              "3              0  21.0  1.0  ...            152.0              171.0       0.0\n",
              "4              1  20.0  1.0  ...            160.0               31.0       0.0\n",
              "\n",
              "[5 rows x 11 columns]"
            ]
          },
          "metadata": {},
          "execution_count": 8
        }
      ]
    },
    {
      "cell_type": "code",
      "metadata": {
        "colab": {
          "base_uri": "https://localhost:8080/",
          "height": 206
        },
        "id": "WfylK6wlY1s8",
        "outputId": "053d06d6-0c9f-45f7-bb1a-a217dc095ddb"
      },
      "source": [
        "train_y = train.pop('Tertarik').astype(int)\n",
        "test_y = test.pop('Tertarik').astype(int)\n",
        "train.head() # Kolom tertarik dihilangkan untuk fitur"
      ],
      "execution_count": 9,
      "outputs": [
        {
          "output_type": "execute_result",
          "data": {
            "text/html": [
              "<div>\n",
              "<style scoped>\n",
              "    .dataframe tbody tr th:only-of-type {\n",
              "        vertical-align: middle;\n",
              "    }\n",
              "\n",
              "    .dataframe tbody tr th {\n",
              "        vertical-align: top;\n",
              "    }\n",
              "\n",
              "    .dataframe thead th {\n",
              "        text-align: right;\n",
              "    }\n",
              "</style>\n",
              "<table border=\"1\" class=\"dataframe\">\n",
              "  <thead>\n",
              "    <tr style=\"text-align: right;\">\n",
              "      <th></th>\n",
              "      <th>Jenis_Kelamin</th>\n",
              "      <th>Umur</th>\n",
              "      <th>SIM</th>\n",
              "      <th>Kode_Daerah</th>\n",
              "      <th>Sudah_Asuransi</th>\n",
              "      <th>Umur_Kendaraan</th>\n",
              "      <th>Kendaraan_Rusak</th>\n",
              "      <th>Premi</th>\n",
              "      <th>Kanal_Penjualan</th>\n",
              "      <th>Lama_Berlangganan</th>\n",
              "    </tr>\n",
              "  </thead>\n",
              "  <tbody>\n",
              "    <tr>\n",
              "      <th>0</th>\n",
              "      <td>1</td>\n",
              "      <td>30.0</td>\n",
              "      <td>1.0</td>\n",
              "      <td>33.0</td>\n",
              "      <td>1.0</td>\n",
              "      <td>1</td>\n",
              "      <td>1</td>\n",
              "      <td>28029.0</td>\n",
              "      <td>152.0</td>\n",
              "      <td>97.0</td>\n",
              "    </tr>\n",
              "    <tr>\n",
              "      <th>1</th>\n",
              "      <td>0</td>\n",
              "      <td>48.0</td>\n",
              "      <td>1.0</td>\n",
              "      <td>39.0</td>\n",
              "      <td>0.0</td>\n",
              "      <td>2</td>\n",
              "      <td>0</td>\n",
              "      <td>25800.0</td>\n",
              "      <td>29.0</td>\n",
              "      <td>158.0</td>\n",
              "    </tr>\n",
              "    <tr>\n",
              "      <th>2</th>\n",
              "      <td>1</td>\n",
              "      <td>58.0</td>\n",
              "      <td>1.0</td>\n",
              "      <td>48.0</td>\n",
              "      <td>0.0</td>\n",
              "      <td>0</td>\n",
              "      <td>1</td>\n",
              "      <td>2630.0</td>\n",
              "      <td>124.0</td>\n",
              "      <td>63.0</td>\n",
              "    </tr>\n",
              "    <tr>\n",
              "      <th>3</th>\n",
              "      <td>0</td>\n",
              "      <td>21.0</td>\n",
              "      <td>1.0</td>\n",
              "      <td>35.0</td>\n",
              "      <td>1.0</td>\n",
              "      <td>1</td>\n",
              "      <td>1</td>\n",
              "      <td>22735.0</td>\n",
              "      <td>152.0</td>\n",
              "      <td>171.0</td>\n",
              "    </tr>\n",
              "    <tr>\n",
              "      <th>4</th>\n",
              "      <td>1</td>\n",
              "      <td>20.0</td>\n",
              "      <td>1.0</td>\n",
              "      <td>8.0</td>\n",
              "      <td>1.0</td>\n",
              "      <td>1</td>\n",
              "      <td>1</td>\n",
              "      <td>30786.0</td>\n",
              "      <td>160.0</td>\n",
              "      <td>31.0</td>\n",
              "    </tr>\n",
              "  </tbody>\n",
              "</table>\n",
              "</div>"
            ],
            "text/plain": [
              "   Jenis_Kelamin  Umur  SIM  ...    Premi  Kanal_Penjualan  Lama_Berlangganan\n",
              "0              1  30.0  1.0  ...  28029.0            152.0               97.0\n",
              "1              0  48.0  1.0  ...  25800.0             29.0              158.0\n",
              "2              1  58.0  1.0  ...   2630.0            124.0               63.0\n",
              "3              0  21.0  1.0  ...  22735.0            152.0              171.0\n",
              "4              1  20.0  1.0  ...  30786.0            160.0               31.0\n",
              "\n",
              "[5 rows x 10 columns]"
            ]
          },
          "metadata": {},
          "execution_count": 9
        }
      ]
    },
    {
      "cell_type": "markdown",
      "metadata": {
        "id": "EvN7p-_7lzMi"
      },
      "source": [
        "# Preparing Algorithm"
      ]
    },
    {
      "cell_type": "markdown",
      "source": [
        "### Input Function"
      ],
      "metadata": {
        "id": "Un2V3u3PdxxS"
      }
    },
    {
      "cell_type": "code",
      "source": [
        "def input_fn(features, labels, training=True, batch_size=256):\n",
        "    # Convert the inputs to a Dataset.\n",
        "    dataset = tf.data.Dataset.from_tensor_slices((dict(features), labels))\n",
        "\n",
        "    # Shuffle and repeat if you are in training mode.\n",
        "    if training:\n",
        "        dataset = dataset.shuffle(1000).repeat()\n",
        "    \n",
        "    return dataset.batch(batch_size)"
      ],
      "metadata": {
        "id": "gzwXRFIodxMs"
      },
      "execution_count": 10,
      "outputs": []
    },
    {
      "cell_type": "markdown",
      "source": [
        "### Feature Columns"
      ],
      "metadata": {
        "id": "H2wmpX5Rd-rJ"
      }
    },
    {
      "cell_type": "code",
      "source": [
        "my_feature_columns = []\n",
        "for key in train.keys():\n",
        "    my_feature_columns.append(tf.feature_column.numeric_column(key=key))\n",
        "print(my_feature_columns)"
      ],
      "metadata": {
        "colab": {
          "base_uri": "https://localhost:8080/"
        },
        "id": "1H0GBYr-d1Jx",
        "outputId": "c4ba245a-e048-4d84-b6ce-a4898f594f2f"
      },
      "execution_count": 11,
      "outputs": [
        {
          "output_type": "stream",
          "name": "stdout",
          "text": [
            "[NumericColumn(key='Jenis_Kelamin', shape=(1,), default_value=None, dtype=tf.float32, normalizer_fn=None), NumericColumn(key='Umur', shape=(1,), default_value=None, dtype=tf.float32, normalizer_fn=None), NumericColumn(key='SIM', shape=(1,), default_value=None, dtype=tf.float32, normalizer_fn=None), NumericColumn(key='Kode_Daerah', shape=(1,), default_value=None, dtype=tf.float32, normalizer_fn=None), NumericColumn(key='Sudah_Asuransi', shape=(1,), default_value=None, dtype=tf.float32, normalizer_fn=None), NumericColumn(key='Umur_Kendaraan', shape=(1,), default_value=None, dtype=tf.float32, normalizer_fn=None), NumericColumn(key='Kendaraan_Rusak', shape=(1,), default_value=None, dtype=tf.float32, normalizer_fn=None), NumericColumn(key='Premi', shape=(1,), default_value=None, dtype=tf.float32, normalizer_fn=None), NumericColumn(key='Kanal_Penjualan', shape=(1,), default_value=None, dtype=tf.float32, normalizer_fn=None), NumericColumn(key='Lama_Berlangganan', shape=(1,), default_value=None, dtype=tf.float32, normalizer_fn=None)]\n"
          ]
        }
      ]
    },
    {
      "cell_type": "markdown",
      "source": [
        "# Building the Model\n",
        "And now we are ready to choose a model. For classification tasks there are variety of different estimators/models that we can pick from. Some options are listed below.\n",
        "- ```DNNClassifier``` (Deep Neural Network)\n",
        "- ```LinearClassifier```\n",
        "\n",
        "We can choose either model but the DNN seems to be the best choice. This is because we may not be able to find a linear coorespondence in our data. \n",
        "\n",
        "So let's build a model!"
      ],
      "metadata": {
        "id": "NJX_Hmb9eM0J"
      }
    },
    {
      "cell_type": "markdown",
      "source": [
        "## DNN"
      ],
      "metadata": {
        "id": "8-DyfUU1naCK"
      }
    },
    {
      "cell_type": "code",
      "source": [
        "# Build a DNN with 2 hidden layers with 30 and 10 hidden nodes each.\n",
        "classifier = tf.estimator.DNNClassifier(\n",
        "    feature_columns=my_feature_columns,\n",
        "    # Two hidden layers of 30 and 10 nodes respectively.\n",
        "    hidden_units=[30, 10],\n",
        "    # The model must choose between 3 classes.\n",
        "    n_classes=2)"
      ],
      "metadata": {
        "colab": {
          "base_uri": "https://localhost:8080/"
        },
        "id": "zQrNw8zSeI06",
        "outputId": "b3703c3d-7904-4c49-a912-9c68080903e6"
      },
      "execution_count": 12,
      "outputs": [
        {
          "output_type": "stream",
          "name": "stdout",
          "text": [
            "INFO:tensorflow:Using default config.\n",
            "WARNING:tensorflow:Using temporary folder as model directory: /tmp/tmpi_dwd2q1\n",
            "INFO:tensorflow:Using config: {'_model_dir': '/tmp/tmpi_dwd2q1', '_tf_random_seed': None, '_save_summary_steps': 100, '_save_checkpoints_steps': None, '_save_checkpoints_secs': 600, '_session_config': allow_soft_placement: true\n",
            "graph_options {\n",
            "  rewrite_options {\n",
            "    meta_optimizer_iterations: ONE\n",
            "  }\n",
            "}\n",
            ", '_keep_checkpoint_max': 5, '_keep_checkpoint_every_n_hours': 10000, '_log_step_count_steps': 100, '_train_distribute': None, '_device_fn': None, '_protocol': None, '_eval_distribute': None, '_experimental_distribute': None, '_experimental_max_worker_delay_secs': None, '_session_creation_timeout_secs': 7200, '_checkpoint_save_graph_def': True, '_service': None, '_cluster_spec': ClusterSpec({}), '_task_type': 'worker', '_task_id': 0, '_global_id_in_cluster': 0, '_master': '', '_evaluation_master': '', '_is_chief': True, '_num_ps_replicas': 0, '_num_worker_replicas': 1}\n"
          ]
        }
      ]
    },
    {
      "cell_type": "markdown",
      "source": [
        "###Training\n",
        "Now it's time to train the model!"
      ],
      "metadata": {
        "id": "hC0bmeANeUDR"
      }
    },
    {
      "cell_type": "code",
      "source": [
        "classifier.train(\n",
        "    input_fn=lambda: input_fn(train, train_y, training=True),\n",
        "    steps=5000)\n",
        "# We include a lambda to avoid creating an inner function previously"
      ],
      "metadata": {
        "colab": {
          "base_uri": "https://localhost:8080/"
        },
        "id": "s5pCLikKeUjR",
        "outputId": "19187417-b455-4d63-fbf4-58f9fb102ffc"
      },
      "execution_count": 13,
      "outputs": [
        {
          "output_type": "stream",
          "name": "stdout",
          "text": [
            "WARNING:tensorflow:From /usr/local/lib/python3.7/dist-packages/tensorflow/python/training/training_util.py:401: Variable.initialized_value (from tensorflow.python.ops.variables) is deprecated and will be removed in a future version.\n",
            "Instructions for updating:\n",
            "Use Variable.read_value. Variables in 2.X are initialized automatically both in eager and graph (inside tf.defun) contexts.\n",
            "INFO:tensorflow:Calling model_fn.\n",
            "WARNING:tensorflow:From /usr/local/lib/python3.7/dist-packages/keras/optimizer_v2/adagrad.py:84: calling Constant.__init__ (from tensorflow.python.ops.init_ops) with dtype is deprecated and will be removed in a future version.\n",
            "Instructions for updating:\n",
            "Call initializer instance with the dtype argument instead of passing it to the constructor\n",
            "INFO:tensorflow:Done calling model_fn.\n",
            "INFO:tensorflow:Create CheckpointSaverHook.\n",
            "INFO:tensorflow:Graph was finalized.\n",
            "INFO:tensorflow:Running local_init_op.\n",
            "INFO:tensorflow:Done running local_init_op.\n",
            "INFO:tensorflow:Calling checkpoint listeners before saving checkpoint 0...\n",
            "INFO:tensorflow:Saving checkpoints for 0 into /tmp/tmpi_dwd2q1/model.ckpt.\n",
            "INFO:tensorflow:Calling checkpoint listeners after saving checkpoint 0...\n",
            "INFO:tensorflow:loss = 3617.1353, step = 0\n",
            "INFO:tensorflow:global_step/sec: 217.824\n",
            "INFO:tensorflow:loss = 5.2252655, step = 100 (0.462 sec)\n",
            "INFO:tensorflow:global_step/sec: 235.274\n",
            "INFO:tensorflow:loss = 6.9221797, step = 200 (0.425 sec)\n",
            "INFO:tensorflow:global_step/sec: 238.176\n",
            "INFO:tensorflow:loss = 6.436465, step = 300 (0.420 sec)\n",
            "INFO:tensorflow:global_step/sec: 248.356\n",
            "INFO:tensorflow:loss = 5.470607, step = 400 (0.403 sec)\n",
            "INFO:tensorflow:global_step/sec: 256.02\n",
            "INFO:tensorflow:loss = 4.712874, step = 500 (0.391 sec)\n",
            "INFO:tensorflow:global_step/sec: 253.248\n",
            "INFO:tensorflow:loss = 4.9587636, step = 600 (0.395 sec)\n",
            "INFO:tensorflow:global_step/sec: 256.34\n",
            "INFO:tensorflow:loss = 5.3103843, step = 700 (0.391 sec)\n",
            "INFO:tensorflow:global_step/sec: 243.557\n",
            "INFO:tensorflow:loss = 5.8116875, step = 800 (0.415 sec)\n",
            "INFO:tensorflow:global_step/sec: 232.241\n",
            "INFO:tensorflow:loss = 5.5181675, step = 900 (0.426 sec)\n",
            "INFO:tensorflow:global_step/sec: 234.784\n",
            "INFO:tensorflow:loss = 5.072433, step = 1000 (0.429 sec)\n",
            "INFO:tensorflow:global_step/sec: 237.437\n",
            "INFO:tensorflow:loss = 3.794067, step = 1100 (0.417 sec)\n",
            "INFO:tensorflow:global_step/sec: 245.833\n",
            "INFO:tensorflow:loss = 3.531519, step = 1200 (0.411 sec)\n",
            "INFO:tensorflow:global_step/sec: 237.11\n",
            "INFO:tensorflow:loss = 5.7547264, step = 1300 (0.417 sec)\n",
            "INFO:tensorflow:global_step/sec: 235.262\n",
            "INFO:tensorflow:loss = 5.17434, step = 1400 (0.430 sec)\n",
            "INFO:tensorflow:global_step/sec: 238.901\n",
            "INFO:tensorflow:loss = 4.177678, step = 1500 (0.418 sec)\n",
            "INFO:tensorflow:global_step/sec: 225.519\n",
            "INFO:tensorflow:loss = 4.5882797, step = 1600 (0.443 sec)\n",
            "INFO:tensorflow:global_step/sec: 237.328\n",
            "INFO:tensorflow:loss = 4.388988, step = 1700 (0.417 sec)\n",
            "INFO:tensorflow:global_step/sec: 239.337\n",
            "INFO:tensorflow:loss = 5.1196427, step = 1800 (0.418 sec)\n",
            "INFO:tensorflow:global_step/sec: 248.828\n",
            "INFO:tensorflow:loss = 4.688674, step = 1900 (0.401 sec)\n",
            "INFO:tensorflow:global_step/sec: 244.715\n",
            "INFO:tensorflow:loss = 3.7535841, step = 2000 (0.414 sec)\n",
            "INFO:tensorflow:global_step/sec: 237.579\n",
            "INFO:tensorflow:loss = 4.121062, step = 2100 (0.417 sec)\n",
            "INFO:tensorflow:global_step/sec: 257.417\n",
            "INFO:tensorflow:loss = 5.0846624, step = 2200 (0.389 sec)\n",
            "INFO:tensorflow:global_step/sec: 250.087\n",
            "INFO:tensorflow:loss = 4.461433, step = 2300 (0.403 sec)\n",
            "INFO:tensorflow:global_step/sec: 261.955\n",
            "INFO:tensorflow:loss = 3.1175783, step = 2400 (0.377 sec)\n",
            "INFO:tensorflow:global_step/sec: 245.236\n",
            "INFO:tensorflow:loss = 3.7305603, step = 2500 (0.409 sec)\n",
            "INFO:tensorflow:global_step/sec: 244.395\n",
            "INFO:tensorflow:loss = 3.9914808, step = 2600 (0.413 sec)\n",
            "INFO:tensorflow:global_step/sec: 244.021\n",
            "INFO:tensorflow:loss = 5.2450714, step = 2700 (0.406 sec)\n",
            "INFO:tensorflow:global_step/sec: 243.526\n",
            "INFO:tensorflow:loss = 4.1861644, step = 2800 (0.414 sec)\n",
            "INFO:tensorflow:global_step/sec: 247.49\n",
            "INFO:tensorflow:loss = 4.3161964, step = 2900 (0.401 sec)\n",
            "INFO:tensorflow:global_step/sec: 244.535\n",
            "INFO:tensorflow:loss = 4.2525663, step = 3000 (0.413 sec)\n",
            "INFO:tensorflow:global_step/sec: 260.817\n",
            "INFO:tensorflow:loss = 3.5734594, step = 3100 (0.383 sec)\n",
            "INFO:tensorflow:global_step/sec: 239.476\n",
            "INFO:tensorflow:loss = 3.905622, step = 3200 (0.416 sec)\n",
            "INFO:tensorflow:global_step/sec: 255.319\n",
            "INFO:tensorflow:loss = 3.5206952, step = 3300 (0.391 sec)\n",
            "INFO:tensorflow:global_step/sec: 247.251\n",
            "INFO:tensorflow:loss = 3.2159102, step = 3400 (0.403 sec)\n",
            "INFO:tensorflow:global_step/sec: 240.447\n",
            "INFO:tensorflow:loss = 4.9108806, step = 3500 (0.421 sec)\n",
            "INFO:tensorflow:global_step/sec: 244.68\n",
            "INFO:tensorflow:loss = 1.8697962, step = 3600 (0.409 sec)\n",
            "INFO:tensorflow:global_step/sec: 246.841\n",
            "INFO:tensorflow:loss = 5.0237293, step = 3700 (0.403 sec)\n",
            "INFO:tensorflow:global_step/sec: 238.79\n",
            "INFO:tensorflow:loss = 4.122815, step = 3800 (0.417 sec)\n",
            "INFO:tensorflow:global_step/sec: 260.219\n",
            "INFO:tensorflow:loss = 3.5456371, step = 3900 (0.384 sec)\n",
            "INFO:tensorflow:global_step/sec: 248.627\n",
            "INFO:tensorflow:loss = 3.3002527, step = 4000 (0.406 sec)\n",
            "INFO:tensorflow:global_step/sec: 252.24\n",
            "INFO:tensorflow:loss = 3.5011888, step = 4100 (0.396 sec)\n",
            "INFO:tensorflow:global_step/sec: 228.499\n",
            "INFO:tensorflow:loss = 3.1690967, step = 4200 (0.440 sec)\n",
            "INFO:tensorflow:global_step/sec: 249.209\n",
            "INFO:tensorflow:loss = 2.9716988, step = 4300 (0.397 sec)\n",
            "INFO:tensorflow:global_step/sec: 254.139\n",
            "INFO:tensorflow:loss = 3.5534801, step = 4400 (0.395 sec)\n",
            "INFO:tensorflow:global_step/sec: 254.159\n",
            "INFO:tensorflow:loss = 2.968461, step = 4500 (0.390 sec)\n",
            "INFO:tensorflow:global_step/sec: 253.34\n",
            "INFO:tensorflow:loss = 2.4343324, step = 4600 (0.398 sec)\n",
            "INFO:tensorflow:global_step/sec: 247.211\n",
            "INFO:tensorflow:loss = 2.7302394, step = 4700 (0.402 sec)\n",
            "INFO:tensorflow:global_step/sec: 262.461\n",
            "INFO:tensorflow:loss = 3.2858276, step = 4800 (0.380 sec)\n",
            "INFO:tensorflow:global_step/sec: 256.64\n",
            "INFO:tensorflow:loss = 3.4242342, step = 4900 (0.393 sec)\n",
            "INFO:tensorflow:Calling checkpoint listeners before saving checkpoint 5000...\n",
            "INFO:tensorflow:Saving checkpoints for 5000 into /tmp/tmpi_dwd2q1/model.ckpt.\n",
            "INFO:tensorflow:Calling checkpoint listeners after saving checkpoint 5000...\n",
            "INFO:tensorflow:Loss for final step: 3.2944245.\n"
          ]
        },
        {
          "output_type": "execute_result",
          "data": {
            "text/plain": [
              "<tensorflow_estimator.python.estimator.canned.dnn.DNNClassifierV2 at 0x7ff639c53b10>"
            ]
          },
          "metadata": {},
          "execution_count": 13
        }
      ]
    },
    {
      "cell_type": "code",
      "source": [
        "eval_result = classifier.evaluate(\n",
        "    input_fn=lambda: input_fn(test, test_y, training=False))\n",
        "\n",
        "print('\\nTest set accuracy: {accuracy:0.3f}\\n'.format(**eval_result))\n",
        "eval_result"
      ],
      "metadata": {
        "colab": {
          "base_uri": "https://localhost:8080/"
        },
        "id": "ZdZvNItwfpDE",
        "outputId": "57a7e26a-a779-4242-ed27-cb5fa89ecb9b"
      },
      "execution_count": 14,
      "outputs": [
        {
          "output_type": "stream",
          "name": "stdout",
          "text": [
            "INFO:tensorflow:Calling model_fn.\n",
            "INFO:tensorflow:Done calling model_fn.\n",
            "INFO:tensorflow:Starting evaluation at 2021-12-10T09:26:38\n",
            "INFO:tensorflow:Graph was finalized.\n",
            "INFO:tensorflow:Restoring parameters from /tmp/tmpi_dwd2q1/model.ckpt-5000\n",
            "INFO:tensorflow:Running local_init_op.\n",
            "INFO:tensorflow:Done running local_init_op.\n",
            "INFO:tensorflow:Inference Time : 1.80066s\n",
            "INFO:tensorflow:Finished evaluation at 2021-12-10-09:26:40\n",
            "INFO:tensorflow:Saving dict for global step 5000: accuracy = 0.84011, accuracy_baseline = 0.8769705, auc = 0.5640794, auc_precision_recall = 0.15830769, average_loss = 2.9093788, global_step = 5000, label/mean = 0.12302945, loss = 2.9203153, precision = 0.1997264, prediction/mean = 0.06554677, recall = 0.0996417\n",
            "INFO:tensorflow:Saving 'checkpoint_path' summary for global step 5000: /tmp/tmpi_dwd2q1/model.ckpt-5000\n",
            "\n",
            "Test set accuracy: 0.840\n",
            "\n"
          ]
        },
        {
          "output_type": "execute_result",
          "data": {
            "text/plain": [
              "{'accuracy': 0.84011,\n",
              " 'accuracy_baseline': 0.8769705,\n",
              " 'auc': 0.5640794,\n",
              " 'auc_precision_recall': 0.15830769,\n",
              " 'average_loss': 2.9093788,\n",
              " 'global_step': 5000,\n",
              " 'label/mean': 0.12302945,\n",
              " 'loss': 2.9203153,\n",
              " 'precision': 0.1997264,\n",
              " 'prediction/mean': 0.06554677,\n",
              " 'recall': 0.0996417}"
            ]
          },
          "metadata": {},
          "execution_count": 14
        }
      ]
    },
    {
      "cell_type": "markdown",
      "source": [
        "### Prediction"
      ],
      "metadata": {
        "id": "xLLXRLPP0csO"
      }
    },
    {
      "cell_type": "code",
      "source": [
        "Tertarik = ['Tidak Tertarik', 'Tertarik']"
      ],
      "metadata": {
        "id": "HXpxt5Rd3pb8"
      },
      "execution_count": 15,
      "outputs": []
    },
    {
      "cell_type": "code",
      "source": [
        "def input_fn(features, batch_size=256):\n",
        "    # Convert the inputs to a Dataset without labels.\n",
        "    return tf.data.Dataset.from_tensor_slices(dict(features)).batch(batch_size)\n",
        "\n",
        "features = ['Jenis_Kelamin', 'Umur', 'SIM', 'Kode_Daerah', 'Sudah_Asuransi',\n",
        "            'Umur_Kendaraan', 'Kendaraan_Rusak', 'Premi', 'Kanal_Penjualan',\n",
        "            'Lama_Berlangganan']\n",
        "predict = {}\n",
        "\n",
        "\n",
        "print(\"Please type numeric values as prompted.\")\n",
        "for feature in features:\n",
        "  valid = True\n",
        "  while valid: \n",
        "    val = input(feature + \": \")\n",
        "    if not val.isdigit(): valid = False\n",
        "\n",
        "  predict[feature] = [float(val)]\n",
        "\n",
        "predictions = classifier.predict(input_fn=lambda: input_fn(predict))\n",
        "for pred_dict in predictions:\n",
        "    class_id = pred_dict['class_ids'][0]\n",
        "    probability = pred_dict['probabilities'][class_id]\n",
        "\n",
        "    print('Prediction is \"{}\" ({:.1f}%)'.format(\n",
        "        Tertarik[class_id], 100 * probability))\n"
      ],
      "metadata": {
        "id": "qgIj9Zdp0fxE",
        "colab": {
          "base_uri": "https://localhost:8080/",
          "height": 536
        },
        "outputId": "68b52041-620f-4cf0-ead8-63004c155905"
      },
      "execution_count": 16,
      "outputs": [
        {
          "output_type": "error",
          "ename": "KeyboardInterrupt",
          "evalue": "ignored",
          "traceback": [
            "\u001b[0;31m---------------------------------------------------------------------------\u001b[0m",
            "\u001b[0;31mKeyboardInterrupt\u001b[0m                         Traceback (most recent call last)",
            "\u001b[0;32m/usr/local/lib/python3.7/dist-packages/ipykernel/kernelbase.py\u001b[0m in \u001b[0;36m_input_request\u001b[0;34m(self, prompt, ident, parent, password)\u001b[0m\n\u001b[1;32m    728\u001b[0m             \u001b[0;32mtry\u001b[0m\u001b[0;34m:\u001b[0m\u001b[0;34m\u001b[0m\u001b[0;34m\u001b[0m\u001b[0m\n\u001b[0;32m--> 729\u001b[0;31m                 \u001b[0mident\u001b[0m\u001b[0;34m,\u001b[0m \u001b[0mreply\u001b[0m \u001b[0;34m=\u001b[0m \u001b[0mself\u001b[0m\u001b[0;34m.\u001b[0m\u001b[0msession\u001b[0m\u001b[0;34m.\u001b[0m\u001b[0mrecv\u001b[0m\u001b[0;34m(\u001b[0m\u001b[0mself\u001b[0m\u001b[0;34m.\u001b[0m\u001b[0mstdin_socket\u001b[0m\u001b[0;34m,\u001b[0m \u001b[0;36m0\u001b[0m\u001b[0;34m)\u001b[0m\u001b[0;34m\u001b[0m\u001b[0;34m\u001b[0m\u001b[0m\n\u001b[0m\u001b[1;32m    730\u001b[0m             \u001b[0;32mexcept\u001b[0m \u001b[0mException\u001b[0m\u001b[0;34m:\u001b[0m\u001b[0;34m\u001b[0m\u001b[0;34m\u001b[0m\u001b[0m\n",
            "\u001b[0;32m/usr/local/lib/python3.7/dist-packages/jupyter_client/session.py\u001b[0m in \u001b[0;36mrecv\u001b[0;34m(self, socket, mode, content, copy)\u001b[0m\n\u001b[1;32m    802\u001b[0m         \u001b[0;32mtry\u001b[0m\u001b[0;34m:\u001b[0m\u001b[0;34m\u001b[0m\u001b[0;34m\u001b[0m\u001b[0m\n\u001b[0;32m--> 803\u001b[0;31m             \u001b[0mmsg_list\u001b[0m \u001b[0;34m=\u001b[0m \u001b[0msocket\u001b[0m\u001b[0;34m.\u001b[0m\u001b[0mrecv_multipart\u001b[0m\u001b[0;34m(\u001b[0m\u001b[0mmode\u001b[0m\u001b[0;34m,\u001b[0m \u001b[0mcopy\u001b[0m\u001b[0;34m=\u001b[0m\u001b[0mcopy\u001b[0m\u001b[0;34m)\u001b[0m\u001b[0;34m\u001b[0m\u001b[0;34m\u001b[0m\u001b[0m\n\u001b[0m\u001b[1;32m    804\u001b[0m         \u001b[0;32mexcept\u001b[0m \u001b[0mzmq\u001b[0m\u001b[0;34m.\u001b[0m\u001b[0mZMQError\u001b[0m \u001b[0;32mas\u001b[0m \u001b[0me\u001b[0m\u001b[0;34m:\u001b[0m\u001b[0;34m\u001b[0m\u001b[0;34m\u001b[0m\u001b[0m\n",
            "\u001b[0;32m/usr/local/lib/python3.7/dist-packages/zmq/sugar/socket.py\u001b[0m in \u001b[0;36mrecv_multipart\u001b[0;34m(self, flags, copy, track)\u001b[0m\n\u001b[1;32m    624\u001b[0m         \"\"\"\n\u001b[0;32m--> 625\u001b[0;31m         \u001b[0mparts\u001b[0m \u001b[0;34m=\u001b[0m \u001b[0;34m[\u001b[0m\u001b[0mself\u001b[0m\u001b[0;34m.\u001b[0m\u001b[0mrecv\u001b[0m\u001b[0;34m(\u001b[0m\u001b[0mflags\u001b[0m\u001b[0;34m,\u001b[0m \u001b[0mcopy\u001b[0m\u001b[0;34m=\u001b[0m\u001b[0mcopy\u001b[0m\u001b[0;34m,\u001b[0m \u001b[0mtrack\u001b[0m\u001b[0;34m=\u001b[0m\u001b[0mtrack\u001b[0m\u001b[0;34m)\u001b[0m\u001b[0;34m]\u001b[0m\u001b[0;34m\u001b[0m\u001b[0;34m\u001b[0m\u001b[0m\n\u001b[0m\u001b[1;32m    626\u001b[0m         \u001b[0;31m# have first part already, only loop while more to receive\u001b[0m\u001b[0;34m\u001b[0m\u001b[0;34m\u001b[0m\u001b[0;34m\u001b[0m\u001b[0m\n",
            "\u001b[0;32mzmq/backend/cython/socket.pyx\u001b[0m in \u001b[0;36mzmq.backend.cython.socket.Socket.recv\u001b[0;34m()\u001b[0m\n",
            "\u001b[0;32mzmq/backend/cython/socket.pyx\u001b[0m in \u001b[0;36mzmq.backend.cython.socket.Socket.recv\u001b[0;34m()\u001b[0m\n",
            "\u001b[0;32mzmq/backend/cython/socket.pyx\u001b[0m in \u001b[0;36mzmq.backend.cython.socket._recv_copy\u001b[0;34m()\u001b[0m\n",
            "\u001b[0;32m/usr/local/lib/python3.7/dist-packages/zmq/backend/cython/checkrc.pxd\u001b[0m in \u001b[0;36mzmq.backend.cython.checkrc._check_rc\u001b[0;34m()\u001b[0m\n",
            "\u001b[0;31mKeyboardInterrupt\u001b[0m: ",
            "\nDuring handling of the above exception, another exception occurred:\n",
            "\u001b[0;31mKeyboardInterrupt\u001b[0m                         Traceback (most recent call last)",
            "\u001b[0;32m<ipython-input-16-91d5e5f1103a>\u001b[0m in \u001b[0;36m<module>\u001b[0;34m()\u001b[0m\n\u001b[1;32m     13\u001b[0m   \u001b[0mvalid\u001b[0m \u001b[0;34m=\u001b[0m \u001b[0;32mTrue\u001b[0m\u001b[0;34m\u001b[0m\u001b[0;34m\u001b[0m\u001b[0m\n\u001b[1;32m     14\u001b[0m   \u001b[0;32mwhile\u001b[0m \u001b[0mvalid\u001b[0m\u001b[0;34m:\u001b[0m\u001b[0;34m\u001b[0m\u001b[0;34m\u001b[0m\u001b[0m\n\u001b[0;32m---> 15\u001b[0;31m     \u001b[0mval\u001b[0m \u001b[0;34m=\u001b[0m \u001b[0minput\u001b[0m\u001b[0;34m(\u001b[0m\u001b[0mfeature\u001b[0m \u001b[0;34m+\u001b[0m \u001b[0;34m\": \"\u001b[0m\u001b[0;34m)\u001b[0m\u001b[0;34m\u001b[0m\u001b[0;34m\u001b[0m\u001b[0m\n\u001b[0m\u001b[1;32m     16\u001b[0m     \u001b[0;32mif\u001b[0m \u001b[0;32mnot\u001b[0m \u001b[0mval\u001b[0m\u001b[0;34m.\u001b[0m\u001b[0misdigit\u001b[0m\u001b[0;34m(\u001b[0m\u001b[0;34m)\u001b[0m\u001b[0;34m:\u001b[0m \u001b[0mvalid\u001b[0m \u001b[0;34m=\u001b[0m \u001b[0;32mFalse\u001b[0m\u001b[0;34m\u001b[0m\u001b[0;34m\u001b[0m\u001b[0m\n\u001b[1;32m     17\u001b[0m \u001b[0;34m\u001b[0m\u001b[0m\n",
            "\u001b[0;32m/usr/local/lib/python3.7/dist-packages/ipykernel/kernelbase.py\u001b[0m in \u001b[0;36mraw_input\u001b[0;34m(self, prompt)\u001b[0m\n\u001b[1;32m    702\u001b[0m             \u001b[0mself\u001b[0m\u001b[0;34m.\u001b[0m\u001b[0m_parent_ident\u001b[0m\u001b[0;34m,\u001b[0m\u001b[0;34m\u001b[0m\u001b[0;34m\u001b[0m\u001b[0m\n\u001b[1;32m    703\u001b[0m             \u001b[0mself\u001b[0m\u001b[0;34m.\u001b[0m\u001b[0m_parent_header\u001b[0m\u001b[0;34m,\u001b[0m\u001b[0;34m\u001b[0m\u001b[0;34m\u001b[0m\u001b[0m\n\u001b[0;32m--> 704\u001b[0;31m             \u001b[0mpassword\u001b[0m\u001b[0;34m=\u001b[0m\u001b[0;32mFalse\u001b[0m\u001b[0;34m,\u001b[0m\u001b[0;34m\u001b[0m\u001b[0;34m\u001b[0m\u001b[0m\n\u001b[0m\u001b[1;32m    705\u001b[0m         )\n\u001b[1;32m    706\u001b[0m \u001b[0;34m\u001b[0m\u001b[0m\n",
            "\u001b[0;32m/usr/local/lib/python3.7/dist-packages/ipykernel/kernelbase.py\u001b[0m in \u001b[0;36m_input_request\u001b[0;34m(self, prompt, ident, parent, password)\u001b[0m\n\u001b[1;32m    732\u001b[0m             \u001b[0;32mexcept\u001b[0m \u001b[0mKeyboardInterrupt\u001b[0m\u001b[0;34m:\u001b[0m\u001b[0;34m\u001b[0m\u001b[0;34m\u001b[0m\u001b[0m\n\u001b[1;32m    733\u001b[0m                 \u001b[0;31m# re-raise KeyboardInterrupt, to truncate traceback\u001b[0m\u001b[0;34m\u001b[0m\u001b[0;34m\u001b[0m\u001b[0;34m\u001b[0m\u001b[0m\n\u001b[0;32m--> 734\u001b[0;31m                 \u001b[0;32mraise\u001b[0m \u001b[0mKeyboardInterrupt\u001b[0m\u001b[0;34m\u001b[0m\u001b[0;34m\u001b[0m\u001b[0m\n\u001b[0m\u001b[1;32m    735\u001b[0m             \u001b[0;32melse\u001b[0m\u001b[0;34m:\u001b[0m\u001b[0;34m\u001b[0m\u001b[0;34m\u001b[0m\u001b[0m\n\u001b[1;32m    736\u001b[0m                 \u001b[0;32mbreak\u001b[0m\u001b[0;34m\u001b[0m\u001b[0;34m\u001b[0m\u001b[0m\n",
            "\u001b[0;31mKeyboardInterrupt\u001b[0m: "
          ]
        }
      ]
    },
    {
      "cell_type": "markdown",
      "source": [
        "## Logistic Regression from scratch"
      ],
      "metadata": {
        "id": "byzew301pdkk"
      }
    },
    {
      "cell_type": "code",
      "source": [
        "# Logistic Regression\n",
        "class LogitRegression() :\n",
        "    def __init__( self, learning_rate, iterations ) :        \n",
        "        self.learning_rate = learning_rate        \n",
        "        self.iterations = iterations\n",
        "          \n",
        "    # Function for model training    \n",
        "    def fit( self, X, Y ) :        \n",
        "        # no_of_training_examples, no_of_features        \n",
        "        self.m, self.n = X.shape        \n",
        "        # weight initialization        \n",
        "        self.W = np.zeros( self.n )        \n",
        "        self.b = 0        \n",
        "        self.X = X        \n",
        "        self.Y = Y\n",
        "          \n",
        "        # gradient descent learning\n",
        "                  \n",
        "        for i in range( self.iterations ) :            \n",
        "            self.update_weights()            \n",
        "        return self\n",
        "      \n",
        "    # Helper function to update weights in gradient descent\n",
        "      \n",
        "    def update_weights( self ) :           \n",
        "        A = 1 / ( 1 + np.exp( - ( self.X.dot( self.W ) + self.b ) ) )\n",
        "          \n",
        "        # calculate gradients        \n",
        "        tmp = ( A - self.Y.T )        \n",
        "        tmp = np.reshape( tmp, self.m )        \n",
        "        dW = np.dot( self.X.T, tmp ) / self.m         \n",
        "        db = np.sum( tmp ) / self.m \n",
        "          \n",
        "        # update weights    \n",
        "        self.W = self.W - self.learning_rate * dW    \n",
        "        self.b = self.b - self.learning_rate * db\n",
        "          \n",
        "        return self\n",
        "      \n",
        "    # Hypothetical function  h( x ) \n",
        "      \n",
        "    def predict( self, X ) :    \n",
        "        Z = 1 / ( 1 + np.exp( - ( X.dot( self.W ) + self.b ) ) )        \n",
        "        Y = np.where( Z > 0.5, 1, 0 )        \n",
        "        return Y\n",
        "  \n",
        "  \n",
        "# Driver code\n",
        "  \n",
        "def main() :\n",
        "      \n",
        "    # Model training    \n",
        "    model = LogitRegression( learning_rate = 0.01, iterations = 1000 )\n",
        "    model.fit(train, train_y)\n",
        "      \n",
        "    # Prediction on test set\n",
        "    pred_y = model.predict( test )    \n",
        "      \n",
        "    # measure performance    \n",
        "    correctly_classified = 0    \n",
        "      \n",
        "    # counter    \n",
        "    count = 0    \n",
        "    for count in range( np.size( pred_y ) ) :  \n",
        "        \n",
        "        if test_y[count] == pred_y[count] :            \n",
        "            correctly_classified = correctly_classified + 1\n",
        "              \n",
        "        count = count + 1\n",
        "          \n",
        "    print( \"Accuracy on test set by our model       :  \", ( \n",
        "      correctly_classified / count ) * 100 )\n",
        "\n",
        "  \n",
        "if __name__ == \"__main__\" :     \n",
        "    main()"
      ],
      "metadata": {
        "colab": {
          "base_uri": "https://localhost:8080/"
        },
        "id": "zUrVKNm-qkrT",
        "outputId": "c935ece8-ad4e-4c31-f828-68e15c802bce"
      },
      "execution_count": 76,
      "outputs": [
        {
          "output_type": "stream",
          "name": "stdout",
          "text": [
            "Accuracy on test set by our model       :   87.69705493398267\n"
          ]
        }
      ]
    },
    {
      "cell_type": "markdown",
      "source": [
        "## Logistic Regression with Sklearn"
      ],
      "metadata": {
        "id": "9x-5T0kQ5VR6"
      }
    },
    {
      "cell_type": "code",
      "source": [
        "import warnings\n",
        "warnings.filterwarnings( \"ignore\" )\n",
        "  \n",
        "from sklearn.linear_model import LogisticRegression"
      ],
      "metadata": {
        "id": "H_qT99dl50ZN"
      },
      "execution_count": 79,
      "outputs": []
    },
    {
      "cell_type": "code",
      "source": [
        "def main() :\n",
        "\n",
        "    model1 = LogisticRegression()    \n",
        "    model1.fit(train, train_y)\n",
        "        \n",
        "    pred1_y = model1.predict( test )\n",
        "        \n",
        "    correctly_classified1 = 0\n",
        "      \n",
        "    # counter    \n",
        "    count = 0    \n",
        "    for count in range( np.size( pred1_y ) ) :  \n",
        "        \n",
        "        if test_y[count] == pred1_y[count] :            \n",
        "            correctly_classified1 = correctly_classified1 + 1\n",
        "              \n",
        "        count = count + 1\n",
        "\n",
        "    print( \"Accuracy on test set by sklearn model   :  \", ( \n",
        "      correctly_classified1 / count ) * 100 )\n",
        "  \n",
        "if __name__ == \"__main__\" :     \n",
        "    main()"
      ],
      "metadata": {
        "colab": {
          "base_uri": "https://localhost:8080/"
        },
        "id": "H0YwQqhj5UlZ",
        "outputId": "e7681d7d-b860-47d4-b92c-bba65f93e4b5"
      },
      "execution_count": 81,
      "outputs": [
        {
          "output_type": "stream",
          "name": "stdout",
          "text": [
            "Accuracy on test set by sklearn model   :   87.30451940636873\n"
          ]
        }
      ]
    },
    {
      "cell_type": "markdown",
      "source": [
        "## Logistic Regression with Keras"
      ],
      "metadata": {
        "id": "e7QzFX-AOHss"
      }
    },
    {
      "cell_type": "code",
      "source": [
        "# Import necessary modules\n",
        "from sklearn.model_selection import train_test_split\n",
        "from sklearn.metrics import mean_squared_error\n",
        "from math import sqrt\n",
        "\n",
        "# Keras specific\n",
        "import keras\n",
        "from keras.models import Sequential\n",
        "from keras.layers import Dense\n",
        "from tensorflow.keras.utils import to_categorical"
      ],
      "metadata": {
        "id": "xB5uLb5S4E3u"
      },
      "execution_count": 67,
      "outputs": []
    },
    {
      "cell_type": "code",
      "source": [
        "y_train = to_categorical(train_y)\n",
        "y_test = to_categorical(test_y)\n",
        "\n",
        "count_classes = y_test.shape[1]\n",
        "print(count_classes)"
      ],
      "metadata": {
        "colab": {
          "base_uri": "https://localhost:8080/"
        },
        "id": "o_An2e_R4BPi",
        "outputId": "ae7d47e7-ad5e-4fd1-96fb-7327446ff6a1"
      },
      "execution_count": 68,
      "outputs": [
        {
          "output_type": "stream",
          "name": "stdout",
          "text": [
            "2\n"
          ]
        }
      ]
    },
    {
      "cell_type": "code",
      "source": [
        "model = Sequential()\n",
        "model.add(Dense(500, activation='relu', input_dim=10))\n",
        "model.add(Dense(100, activation='relu'))\n",
        "model.add(Dense(50, activation='relu'))\n",
        "model.add(Dense(2, activation='softmax'))\n",
        "\n",
        "# Compile the model\n",
        "model.compile(optimizer='adam', \n",
        "              loss='categorical_crossentropy', \n",
        "              metrics=['accuracy'])"
      ],
      "metadata": {
        "id": "3gVeLnfZ38Rk"
      },
      "execution_count": 71,
      "outputs": []
    },
    {
      "cell_type": "code",
      "source": [
        "model.fit(train, y_train, epochs=20)"
      ],
      "metadata": {
        "colab": {
          "base_uri": "https://localhost:8080/"
        },
        "id": "EDVcKo664eKi",
        "outputId": "abed8bdd-5a5c-4b7d-f9db-b1a37935fb19"
      },
      "execution_count": 72,
      "outputs": [
        {
          "output_type": "stream",
          "name": "stdout",
          "text": [
            "Epoch 1/20\n",
            "751/751 [==============================] - 3s 3ms/step - loss: 30.3199 - accuracy: 0.7841\n",
            "Epoch 2/20\n",
            "751/751 [==============================] - 2s 3ms/step - loss: 2.2410 - accuracy: 0.8264\n",
            "Epoch 3/20\n",
            "751/751 [==============================] - 2s 3ms/step - loss: 0.9960 - accuracy: 0.8548\n",
            "Epoch 4/20\n",
            "751/751 [==============================] - 2s 3ms/step - loss: 0.3916 - accuracy: 0.8759\n",
            "Epoch 5/20\n",
            "751/751 [==============================] - 2s 3ms/step - loss: 0.3781 - accuracy: 0.8759\n",
            "Epoch 6/20\n",
            "751/751 [==============================] - 2s 3ms/step - loss: 0.3750 - accuracy: 0.8759\n",
            "Epoch 7/20\n",
            "751/751 [==============================] - 2s 3ms/step - loss: 0.3750 - accuracy: 0.8759\n",
            "Epoch 8/20\n",
            "751/751 [==============================] - 2s 3ms/step - loss: 0.3750 - accuracy: 0.8759\n",
            "Epoch 9/20\n",
            "751/751 [==============================] - 2s 3ms/step - loss: 0.3751 - accuracy: 0.8759\n",
            "Epoch 10/20\n",
            "751/751 [==============================] - 2s 3ms/step - loss: 0.3750 - accuracy: 0.8759\n",
            "Epoch 11/20\n",
            "751/751 [==============================] - 2s 3ms/step - loss: 0.3751 - accuracy: 0.8759\n",
            "Epoch 12/20\n",
            "751/751 [==============================] - 2s 3ms/step - loss: 0.3750 - accuracy: 0.8759\n",
            "Epoch 13/20\n",
            "751/751 [==============================] - 2s 3ms/step - loss: 0.3751 - accuracy: 0.8759\n",
            "Epoch 14/20\n",
            "751/751 [==============================] - 2s 3ms/step - loss: 0.3750 - accuracy: 0.8759\n",
            "Epoch 15/20\n",
            "751/751 [==============================] - 2s 3ms/step - loss: 0.3751 - accuracy: 0.8759\n",
            "Epoch 16/20\n",
            "751/751 [==============================] - 2s 3ms/step - loss: 0.3751 - accuracy: 0.8759\n",
            "Epoch 17/20\n",
            "751/751 [==============================] - 2s 3ms/step - loss: 0.3751 - accuracy: 0.8759\n",
            "Epoch 18/20\n",
            "751/751 [==============================] - 2s 3ms/step - loss: 0.3751 - accuracy: 0.8759\n",
            "Epoch 19/20\n",
            "751/751 [==============================] - 2s 3ms/step - loss: 0.3750 - accuracy: 0.8759\n",
            "Epoch 20/20\n",
            "751/751 [==============================] - 2s 3ms/step - loss: 0.3750 - accuracy: 0.8759\n"
          ]
        },
        {
          "output_type": "execute_result",
          "data": {
            "text/plain": [
              "<keras.callbacks.History at 0x7ff6379692d0>"
            ]
          },
          "metadata": {},
          "execution_count": 72
        }
      ]
    },
    {
      "cell_type": "code",
      "source": [
        "pred_test= model.predict(test)\n",
        "scores2 = model.evaluate(test, y_test, verbose=0)\n",
        "print('Accuracy on test data: {}% \\n Error on test data: {}'.format(scores2[1] * 100, 1 - scores2[1]))    "
      ],
      "metadata": {
        "colab": {
          "base_uri": "https://localhost:8080/"
        },
        "id": "1YR9xlb85Gi4",
        "outputId": "88eaca61-cef5-4635-9a81-b53b284ab36f"
      },
      "execution_count": 83,
      "outputs": [
        {
          "output_type": "stream",
          "name": "stdout",
          "text": [
            "Accuracy on test data: 87.69705295562744% \n",
            " Error on test data: 0.12302947044372559\n"
          ]
        }
      ]
    },
    {
      "cell_type": "markdown",
      "source": [
        "## Linear Regression Model"
      ],
      "metadata": {
        "id": "ztIDVAAGOM7F"
      }
    },
    {
      "cell_type": "markdown",
      "metadata": {
        "id": "yVqB1h88l1xj"
      },
      "source": [
        "##  Linear Regression with Keras"
      ]
    }
  ]
}