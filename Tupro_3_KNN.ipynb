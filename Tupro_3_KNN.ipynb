{
  "nbformat": 4,
  "nbformat_minor": 0,
  "metadata": {
    "colab": {
      "name": "Tupro 3: KNN.ipynb",
      "provenance": [],
      "collapsed_sections": [],
      "authorship_tag": "ABX9TyNwIVhbVbPEDkSUlYtKC6GN",
      "include_colab_link": true
    },
    "kernelspec": {
      "name": "python3",
      "display_name": "Python 3"
    },
    "language_info": {
      "name": "python"
    }
  },
  "cells": [
    {
      "cell_type": "markdown",
      "metadata": {
        "id": "view-in-github",
        "colab_type": "text"
      },
      "source": [
        "<a href=\"https://colab.research.google.com/github/farisazizy/Artificial-Intelligence/blob/main/Tupro_3_KNN.ipynb\" target=\"_parent\"><img src=\"https://colab.research.google.com/assets/colab-badge.svg\" alt=\"Open In Colab\"/></a>"
      ]
    },
    {
      "cell_type": "code",
      "metadata": {
        "id": "KPLBZbdTXtge"
      },
      "source": [
        "import pandas as pd\n",
        "import math"
      ],
      "execution_count": 1,
      "outputs": []
    },
    {
      "cell_type": "code",
      "metadata": {
        "id": "9kt5XzZF15ZD"
      },
      "source": [
        "data = pd.read_excel('mobil.xls')\n",
        "data"
      ],
      "execution_count": null,
      "outputs": []
    },
    {
      "cell_type": "code",
      "metadata": {
        "id": "0bygE4tu2OAS"
      },
      "source": [
        "mobil = data['Nama Mobil']\n",
        "ukuran = data['Ukuran']\n",
        "kenyamanan = data['Kenyamanan']\n",
        "irit = data['Irit']\n",
        "kecepatan = data['Kecepatan']\n",
        "harga = data['Harga (Ratus Juta)']"
      ],
      "execution_count": 4,
      "outputs": []
    },
    {
      "cell_type": "code",
      "metadata": {
        "id": "TS49u2mOnyES"
      },
      "source": [
        "'''\n",
        "def preprocessing(): #Menjadikan skala data di rentang nilai 0-1\n",
        "  \n",
        "  predata = pd.DataFrame(columns = ['nama mobil', 'ukuran', 'kenyamanan', 'irit', 'kecepatan', 'harga'])\n",
        "  for i in range(0, len(data)):\n",
        "      predata = predata.append({\n",
        "        'nama mobil': mobil[i],\n",
        "        'ukuran': (ukuran[i] - ukuran.min()) / (ukuran.max() - ukuran.min()),\n",
        "        'kenyamanan': (kenyamanan[i] - kenyamanan.min()) / (kenyamanan.max() - kenyamanan.min()),\n",
        "        'irit': (irit[i] - irit.min()) / (irit.max()-irit.min()),\n",
        "        'kecepatan': (kecepatan[i] - kecepatan.min()) / (kecepatan.max() - kecepatan.min()),\n",
        "        'harga': (harga[i] - harga.min()) / (harga.max() - harga.min())\n",
        "      }, ignore_index=True)\n",
        "  return predata\n",
        "'''"
      ],
      "execution_count": null,
      "outputs": []
    },
    {
      "cell_type": "code",
      "metadata": {
        "id": "KndfrR229YI8"
      },
      "source": [
        "def preprocessing(): #Menjadikan skala data di rentang nilai 0-1 dan mengubah dataframe menjadi bentuk array\n",
        "  \n",
        "  predata = []\n",
        "  for i in range(0, len(data)):\n",
        "      predata.append([\n",
        "        mobil[i],\n",
        "        (ukuran[i] - ukuran.min()) / (ukuran.max() - ukuran.min()),\n",
        "        (kenyamanan[i] - kenyamanan.min()) / (kenyamanan.max() - kenyamanan.min()),\n",
        "        (irit[i] - irit.min()) / (irit.max()-irit.min()),\n",
        "        (kecepatan[i] - kecepatan.min()) / (kecepatan.max() - kecepatan.min()),\n",
        "        (harga[i] - harga.min()) / (harga.max() - harga.min())\n",
        "      ])\n",
        "  return predata"
      ],
      "execution_count": 32,
      "outputs": []
    },
    {
      "cell_type": "code",
      "metadata": {
        "id": "sA9MD6jd1rOi"
      },
      "source": [
        "def normalization(ukuran_i, kenyamanan_i, irit_i, kecepatan_i, harga_i): #Normalisasi data input\n",
        "\n",
        "  ukuran_i = (ukuran_i - ukuran.min()) / (ukuran.max() - ukuran.min()),\n",
        "  kenyamanan_i = (kenyamanan_i - kenyamanan.min()) / (kenyamanan.max() - kenyamanan.min()),\n",
        "  irit_i = (irit_i - irit.min()) / (irit.max()-irit.min()),\n",
        "  kecepatan_i = (kecepatan_i - kecepatan.min()) / (kecepatan.max() - kecepatan.min()),\n",
        "  harga_i = (harga_i - harga.min()) / (harga.max() - harga.min())\n",
        "    \n",
        "  return [ukuran_i, kenyamanan_i, irit_i, kecepatan_i, harga_i]"
      ],
      "execution_count": 47,
      "outputs": []
    },
    {
      "cell_type": "code",
      "metadata": {
        "id": "UbJkFMYh6bVC"
      },
      "source": [
        "def euclidean(data, input):\n",
        "  \n",
        "  hasil = []\n",
        "  i = 0\n",
        "  while(i < len(data)):\n",
        "    euclidean = (math.pow(data[i][1] - input[0], 2) + math.pow(data[i][2]-input[1],2) + math.pow(data[i][3]-input[2],2) + math.pow(data[i][4]-input[3],2)+ math.pow(data[i][5]-input[4],2))\n",
        "    euclidean = math.pow(euclidean, 0.5)\n",
        "    hasil.append(euclidean)\n",
        "    i+=1\n",
        "\n",
        "  return hasil"
      ],
      "execution_count": 56,
      "outputs": []
    },
    {
      "cell_type": "code",
      "metadata": {
        "id": "R7p97_lb7pTk"
      },
      "source": [
        "def manhattan(data, input):\n",
        "  \n",
        "  hasil = []\n",
        "  i = 0\n",
        "  while(i < len(data)):\n",
        "    manhattan = (abs(data[i][1]-input[0]) + abs(data[i][2]-input[1]) + abs(data[i][3]-input[2]) + abs(data[i][4]-input[3])+ abs(data[i][5]-input[4]))\n",
        "    hasil.append(manhattan)\n",
        "    i += 1\n",
        "\n",
        "  return hasil"
      ],
      "execution_count": 104,
      "outputs": []
    },
    {
      "cell_type": "code",
      "metadata": {
        "id": "CtRtt-BRA9VZ"
      },
      "source": [
        "def minkowski(data, input):\n",
        "  \n",
        "  hasil = []\n",
        "  i = 0\n",
        "  while(i < len(data)):\n",
        "    minkowski = (math.pow(abs(data[i][1]-input[0]),1.5) + math.pow(abs(data[i][2]-input[1]),1.5) + math.pow(abs(data[i][3]-input[2]),1.5) + math.pow(abs(data[i][4]-input[3]),1.5)+ math.pow(abs(data[i][5]-input[4]),1.5))\n",
        "    hasil.append(math.pow(minkowski, 1/(1.5)))\n",
        "    i += 1\n",
        "\n",
        "  return hasil"
      ],
      "execution_count": 105,
      "outputs": []
    },
    {
      "cell_type": "code",
      "metadata": {
        "id": "UNigjOMoB2YA"
      },
      "source": [
        "def supremum(data, input):\n",
        "  \n",
        "  hasil = []\n",
        "  i = 0\n",
        "  while(i < len(data)):\n",
        "    supremum = (abs(data[i][1]-input[0]), abs(data[i][2]-input[1]), abs(data[i][3]-input[2]), abs(data[i][4]-input[3]), abs(data[i][5]-input[4]))\n",
        "    hasil.append(max(supremum))\n",
        "    i += 1\n",
        "\n",
        "  return hasil"
      ],
      "execution_count": 106,
      "outputs": []
    },
    {
      "cell_type": "code",
      "metadata": {
        "id": "OyTXSR69FZY1"
      },
      "source": [
        "def newColumn(data, hasil):\n",
        "\n",
        "  for i in range(0, len(data)):\n",
        "    data[i].append(hasil[i])\n",
        "  return data"
      ],
      "execution_count": 89,
      "outputs": []
    },
    {
      "cell_type": "code",
      "metadata": {
        "id": "S6_OFo01CTFj"
      },
      "source": [
        "def recommend(data):\n",
        "\n",
        "  recommend = []\n",
        "  sort = sorted(data, key=lambda x:x[6])\n",
        "  for i in range(3):\n",
        "    recommend.append(sort[i])\n",
        "  return recommend"
      ],
      "execution_count": 93,
      "outputs": []
    },
    {
      "cell_type": "code",
      "metadata": {
        "id": "1i_fNZw5F0Sv"
      },
      "source": [
        "new = preprocessing()\n",
        "input = normalization(4, 4, 9, 6, 1)\n",
        "hasil = minkowski(new, input)\n",
        "rec = newColumn(new, hasil)\n",
        "haha = recommend(rec)\n",
        "haha"
      ],
      "execution_count": null,
      "outputs": []
    }
  ]
}