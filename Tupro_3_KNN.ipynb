{
  "nbformat": 4,
  "nbformat_minor": 0,
  "metadata": {
    "colab": {
      "name": "Tupro 3: KNN.ipynb",
      "provenance": [],
      "collapsed_sections": [],
      "authorship_tag": "ABX9TyMy+h4+ywGo7qHCpOHgRpzh",
      "include_colab_link": true
    },
    "kernelspec": {
      "name": "python3",
      "display_name": "Python 3"
    },
    "language_info": {
      "name": "python"
    }
  },
  "cells": [
    {
      "cell_type": "markdown",
      "metadata": {
        "id": "view-in-github",
        "colab_type": "text"
      },
      "source": [
        "<a href=\"https://colab.research.google.com/github/farisazizy/Artificial-Intelligence/blob/main/Tupro_3_KNN.ipynb\" target=\"_parent\"><img src=\"https://colab.research.google.com/assets/colab-badge.svg\" alt=\"Open In Colab\"/></a>"
      ]
    },
    {
      "cell_type": "code",
      "metadata": {
        "id": "KPLBZbdTXtge"
      },
      "source": [
        "import pandas as pd\n",
        "import math"
      ],
      "execution_count": null,
      "outputs": []
    },
    {
      "cell_type": "code",
      "metadata": {
        "id": "KndfrR229YI8"
      },
      "source": [
        "def preprocessing(): #Menjadikan skala data di rentang nilai 0-1 dan mengubah dataframe menjadi bentuk array\n",
        "\n",
        "  predata = []\n",
        "  for i in range(0, len(data)):\n",
        "      predata.append([\n",
        "        mobil[i],\n",
        "        (ukuran[i] - ukuran.min()) / (ukuran.max() - ukuran.min()),\n",
        "        (kenyamanan[i] - kenyamanan.min()) / (kenyamanan.max() - kenyamanan.min()),\n",
        "        (irit[i] - irit.min()) / (irit.max()-irit.min()),\n",
        "        (kecepatan[i] - kecepatan.min()) / (kecepatan.max() - kecepatan.min()),\n",
        "        (harga[i] - harga.min()) / (harga.max() - harga.min())\n",
        "      ])\n",
        "  return predata"
      ],
      "execution_count": null,
      "outputs": []
    },
    {
      "cell_type": "code",
      "metadata": {
        "id": "LnIxE_q5vQ20"
      },
      "source": [
        "def normalization(input): #Normalisasi data input\n",
        "\n",
        "  ukuran_i = (input['Ukuran'][0] - ukuran.min()) / (ukuran.max() - ukuran.min()),\n",
        "  kenyamanan_i = (input['Kenyamanan'][0] - kenyamanan.min()) / (kenyamanan.max() - kenyamanan.min()),\n",
        "  irit_i = (input['Irit'][0] - irit.min()) / (irit.max()-irit.min()),\n",
        "  kecepatan_i = (input['Kecepatan'][0] - kecepatan.min()) / (kecepatan.max() - kecepatan.min()),\n",
        "  harga_i = (input['Harga (Ratus Juta)'][0] - harga.min()) / (harga.max() - harga.min())\n",
        "\n",
        "  arrInput = []\n",
        "  arrInput.append(ukuran_i)\n",
        "  arrInput.append(kenyamanan_i)\n",
        "  arrInput.append(irit_i)\n",
        "  arrInput.append(kecepatan_i)\n",
        "  arrInput.append(harga_i)\n",
        "\n",
        "  return arrInput"
      ],
      "execution_count": null,
      "outputs": []
    },
    {
      "cell_type": "code",
      "metadata": {
        "id": "UbJkFMYh6bVC"
      },
      "source": [
        "def euclidean(data, input):\n",
        "  \n",
        "  hasil = []\n",
        "  i = 0\n",
        "  while(i < len(data)):\n",
        "    euclidean = (math.pow(data[i][1] - input[0], 2) + math.pow(data[i][2]-input[1],2) + math.pow(data[i][3]-input[2],2) + math.pow(data[i][4]-input[3],2)+ math.pow(data[i][5]-input[4],2))\n",
        "    euclidean = math.pow(euclidean, 0.5)\n",
        "    hasil.append(euclidean)\n",
        "    i+=1\n",
        "\n",
        "  return hasil"
      ],
      "execution_count": null,
      "outputs": []
    },
    {
      "cell_type": "code",
      "metadata": {
        "id": "R7p97_lb7pTk"
      },
      "source": [
        "def manhattan(data, input):\n",
        "  \n",
        "  hasil = []\n",
        "  i = 0\n",
        "  while(i < len(data)):\n",
        "    manhattan = (abs(data[i][1]-input[0]) + abs(data[i][2]-input[1]) + abs(data[i][3]-input[2]) + abs(data[i][4]-input[3])+ abs(data[i][5]-input[4]))\n",
        "    hasil.append(manhattan)\n",
        "    i += 1\n",
        "\n",
        "  return hasil"
      ],
      "execution_count": null,
      "outputs": []
    },
    {
      "cell_type": "code",
      "metadata": {
        "id": "CtRtt-BRA9VZ"
      },
      "source": [
        "def minkowski(data, input):\n",
        "  \n",
        "  hasil = []\n",
        "  i = 0\n",
        "  while(i < len(data)):\n",
        "    minkowski = (math.pow(abs(data[i][1]-input[0]),1.5) + math.pow(abs(data[i][2]-input[1]),1.5) + math.pow(abs(data[i][3]-input[2]),1.5) + math.pow(abs(data[i][4]-input[3]),1.5)+ math.pow(abs(data[i][5]-input[4]),1.5))\n",
        "    hasil.append(math.pow(minkowski, 1/(1.5)))\n",
        "    i += 1\n",
        "\n",
        "  return hasil"
      ],
      "execution_count": null,
      "outputs": []
    },
    {
      "cell_type": "code",
      "metadata": {
        "id": "UNigjOMoB2YA"
      },
      "source": [
        "def supremum(data, input):\n",
        "  \n",
        "  hasil = []\n",
        "  i = 0\n",
        "  while(i < len(data)):\n",
        "    supremum = (abs(data[i][1]-input[0]), abs(data[i][2]-input[1]), abs(data[i][3]-input[2]), abs(data[i][4]-input[3]), abs(data[i][5]-input[4]))\n",
        "    hasil.append(max(supremum))\n",
        "    i += 1\n",
        "\n",
        "  return hasil"
      ],
      "execution_count": null,
      "outputs": []
    },
    {
      "cell_type": "code",
      "metadata": {
        "id": "OyTXSR69FZY1"
      },
      "source": [
        "def newColumn(data, hasil):\n",
        "\n",
        "  for i in range(0, len(data)):\n",
        "    data[i].append(hasil[i])\n",
        "  return data"
      ],
      "execution_count": null,
      "outputs": []
    },
    {
      "cell_type": "code",
      "metadata": {
        "id": "S6_OFo01CTFj"
      },
      "source": [
        "def recommend(data):\n",
        "\n",
        "  recommend = []\n",
        "  sort = sorted(data, key=lambda x:x[6])\n",
        "  for i in range(3):\n",
        "    recommend.append(sort[i])\n",
        "  return recommend"
      ],
      "execution_count": null,
      "outputs": []
    },
    {
      "cell_type": "code",
      "metadata": {
        "id": "0bygE4tu2OAS"
      },
      "source": [
        "def ConvertDF(sum):\n",
        "\n",
        "  rec = recommend(sum)\n",
        "  goodCar = pd.DataFrame(columns = ['Nama Mobil'])\n",
        "  for i in range(3):\n",
        "      goodCar = goodCar.append({'Nama Mobil': rec[i][0]}, ignore_index=True)\n",
        "\n",
        "  return goodCar"
      ],
      "execution_count": null,
      "outputs": []
    },
    {
      "cell_type": "code",
      "metadata": {
        "id": "1i_fNZw5F0Sv"
      },
      "source": [
        "# Main\n",
        "data = pd.read_excel('mobil.xls')\n",
        "\n",
        "mobil = data['Nama Mobil']\n",
        "ukuran = data['Ukuran']\n",
        "kenyamanan = data['Kenyamanan']\n",
        "irit = data['Irit']\n",
        "kecepatan = data['Kecepatan']\n",
        "harga = data['Harga (Ratus Juta)']\n",
        "\n",
        "traindata = preprocessing()\n",
        "\n",
        "input = pd.read_excel('test.xlsx')\n",
        "input = normalization(input)\n",
        "\n",
        "Euc = euclidean(traindata, input)\n",
        "Man = manhattan(traindata, input)\n",
        "Min = minkowski(traindata, input)\n",
        "Sup = supremum(traindata, input)\n",
        "\n",
        "sumEuc = newColumn(traindata, Euc)\n",
        "sumMan = newColumn(traindata, Man)\n",
        "sumMin = newColumn(traindata, Min)\n",
        "sumSup = newColumn(traindata, Sup)\n",
        "\n",
        "HasilEuc = ConvertDF(sumEuc)\n",
        "HasilMan = ConvertDF(sumMan)\n",
        "HasilMin = ConvertDF(sumMin)\n",
        "HasilSup = ConvertDF(sumSup)"
      ],
      "execution_count": null,
      "outputs": []
    },
    {
      "cell_type": "code",
      "metadata": {
        "id": "wYTfEdlMzJq8",
        "colab": {
          "base_uri": "https://localhost:8080/",
          "height": 69
        },
        "outputId": "fb9da6d9-c9ee-43ae-9936-f1c601ff17ea"
      },
      "source": [
        "\n",
        "Eu = pd.ExcelWriter('rekomendasi_euclidean.xls')\n",
        "HasilEuc.to_excel(Eu, index = False)\n",
        "Eu.save()\n",
        "\n",
        "Ma = pd.ExcelWriter('rekomendasi_manhattan.xls')\n",
        "HasilEuc.to_excel(Ma, index = False)\n",
        "Ma.save()\n",
        "\n",
        "Mi = pd.ExcelWriter('rekomendasi_minkowski.xls')\n",
        "HasilEuc.to_excel(Mi, index = False)\n",
        "Mi.save()\n",
        "\n",
        "Su = pd.ExcelWriter('rekomendasi_supremum.xls')\n",
        "HasilEuc.to_excel(Su, index = False)\n",
        "Su.save()\n"
      ],
      "execution_count": null,
      "outputs": [
        {
          "output_type": "execute_result",
          "data": {
            "application/vnd.google.colaboratory.intrinsic+json": {
              "type": "string"
            },
            "text/plain": [
              "\"\\nEu = pd.ExcelWriter('rekomendasi_euclidean.xls')\\nHasilEuc.to_excel(Eu, index = False)\\nEu.save()\\n\\nMa = pd.ExcelWriter('rekomendasi_manhattan.xls')\\nHasilEuc.to_excel(Ma, index = False)\\nMa.save()\\n\\nMi = pd.ExcelWriter('rekomendasi_minkowski.xls')\\nHasilEuc.to_excel(Mi, index = False)\\nMi.save()\\n\\nSu = pd.ExcelWriter('rekomendasi_supremum.xls')\\nHasilEuc.to_excel(Su, index = False)\\nSu.save()\\n\""
            ]
          },
          "metadata": {
            "tags": []
          },
          "execution_count": 55
        }
      ]
    }
  ]
}